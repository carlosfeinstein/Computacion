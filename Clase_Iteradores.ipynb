{
 "cells": [
  {
   "cell_type": "markdown",
   "id": "3eeb1a29",
   "metadata": {},
   "source": [
    "# Iteradores\n",
    "## Definición\n",
    "\n",
    "Cuando un proceso se debe repetir muchas veces conviene usar Iteradores.\n",
    "\n",
    "\n",
    "Por ejemplo si hago:\n",
    "\n",
    "**for x in algo:<br>\n",
    " &nbsp;&nbsp;&nbsp;&nbsp;&nbsp;&nbsp;Lo que se repite va acá**\n",
    "    \n",
    "la variable **algo** es un iterable\n",
    "mientras **x** es un iterador.\n",
    "\n",
    "Por ejemplo si tengo una lista:"
   ]
  },
  {
   "cell_type": "markdown",
   "id": "8dc7e721",
   "metadata": {},
   "source": [
    "Puedo iterar sobre la lista."
   ]
  },
  {
   "cell_type": "code",
   "execution_count": 1,
   "id": "ae8acad6",
   "metadata": {},
   "outputs": [
    {
     "name": "stdout",
     "output_type": "stream",
     "text": [
      "1\n",
      "2\n",
      "3\n"
     ]
    }
   ],
   "source": [
    "lista = [1,2,3]\n",
    "for elemento in lista:\n",
    "    print(elemento)"
   ]
  },
  {
   "cell_type": "markdown",
   "id": "8260a22f",
   "metadata": {},
   "source": [
    "Un secuencia es un iterable que tenga un orden,\n",
    "por lo cual puede ser una lista, una tupla, un set, un diccionario, un string o directamente bytes.\n",
    "\n",
    "Un iterable es un objeto que puede recordar cual fue el último valor que entregó una vez\n",
    "que la iteración fue activada.\n",
    "\n",
    "Por ejemplo, hago un loop sobre la variables que en este caso son una tupla:"
   ]
  },
  {
   "cell_type": "code",
   "execution_count": 2,
   "id": "2213dfdd",
   "metadata": {},
   "outputs": [
    {
     "name": "stdout",
     "output_type": "stream",
     "text": [
      "azul\n",
      "rojo\n",
      "verde\n",
      "amarillo\n"
     ]
    }
   ],
   "source": [
    "for elemento in ('azul','rojo', 'verde', 'amarillo'):\n",
    "    print(elemento)"
   ]
  },
  {
   "cell_type": "markdown",
   "id": "d709e886",
   "metadata": {},
   "source": [
    "O sobre las letras de una palabra:"
   ]
  },
  {
   "cell_type": "code",
   "execution_count": 3,
   "id": "d400bee8",
   "metadata": {},
   "outputs": [
    {
     "name": "stdout",
     "output_type": "stream",
     "text": [
      "C\n",
      "o\n",
      "m\n",
      "p\n",
      "u\n",
      "t\n",
      "a\n",
      "c\n",
      "i\n",
      "ó\n",
      "n\n"
     ]
    }
   ],
   "source": [
    "for letra in 'Computación':\n",
    "    print(letra)"
   ]
  },
  {
   "cell_type": "markdown",
   "id": "e2305711",
   "metadata": {},
   "source": [
    "Inluso podemos iterar sobre Bytes."
   ]
  },
  {
   "cell_type": "code",
   "execution_count": 4,
   "id": "0311c7d9",
   "metadata": {},
   "outputs": [
    {
     "name": "stdout",
     "output_type": "stream",
     "text": [
      "66\n",
      "105\n",
      "110\n",
      "97\n",
      "114\n",
      "105\n",
      "111\n"
     ]
    }
   ],
   "source": [
    "for bytes in b'Binario':\n",
    "    print(bytes)"
   ]
  },
  {
   "cell_type": "markdown",
   "id": "68a2a646",
   "metadata": {},
   "source": [
    "Pregunta para el lector ¿Qué son esos números?\n",
    "\n",
    "Pero no puedo iterar sobre los díigitos de un número entero,\n",
    "pero si lo convierto en un string si puedo.\n"
   ]
  },
  {
   "cell_type": "code",
   "execution_count": 5,
   "id": "4aebf5ae",
   "metadata": {},
   "outputs": [
    {
     "name": "stdout",
     "output_type": "stream",
     "text": [
      "1\n",
      "0\n",
      "9\n",
      "3\n",
      "6\n",
      "4\n",
      "7\n",
      "\n",
      "1\n",
      "0\n",
      "9\n",
      "3\n",
      "6\n",
      "4\n",
      "7\n"
     ]
    }
   ],
   "source": [
    "I = 1093647\n",
    "I_texto = str(I)\n",
    "\n",
    "for letra in I_texto:\n",
    "    print(int(letra))\n",
    "    \n",
    "# otra forma de hacerlo mucho más compacta sería\n",
    "print('')\n",
    "digits = [int(d) for d in str(I)]          \n",
    "for digito in digits:\n",
    "    print(digito)\n",
    "    "
   ]
  },
  {
   "cell_type": "markdown",
   "id": "23639ad7",
   "metadata": {},
   "source": [
    "Los *set*´s también son iterables, pero recordemos que son elementos no tienen orden, ni están numerados. Veamos el ejemplo anterior pero ahora con estructura de set:"
   ]
  },
  {
   "cell_type": "code",
   "execution_count": 6,
   "id": "3030b6f6",
   "metadata": {},
   "outputs": [
    {
     "name": "stdout",
     "output_type": "stream",
     "text": [
      "azul\n",
      "verde\n",
      "rojo\n",
      "amarillo\n"
     ]
    }
   ],
   "source": [
    "for elemento in {'azul','rojo', 'verde', 'amarillo'}:\n",
    "    print(elemento)"
   ]
  },
  {
   "cell_type": "markdown",
   "id": "18ff9038",
   "metadata": {},
   "source": [
    "## Desde el punto de vista del Objeto\n",
    "\n",
    "**iter** dispara el proceso\n",
    "pero los items subsiguientes hay que pedirlos con el comando **next**\n",
    "hasta que los elementos se acaban y da error.\n"
   ]
  },
  {
   "cell_type": "code",
   "execution_count": 7,
   "id": "ca426877",
   "metadata": {},
   "outputs": [
    {
     "name": "stdout",
     "output_type": "stream",
     "text": [
      "gato\n",
      "perro\n",
      "tortuga\n",
      "canario\n"
     ]
    }
   ],
   "source": [
    "lista = ['gato','perro','tortuga','canario']\n",
    "\n",
    "i_pepe=iter(lista)   # <- activo la iteracción\n",
    "print(next(i_pepe))\n",
    "print(next(i_pepe))\n",
    "print(next(i_pepe))\n",
    "print(next(i_pepe))\n"
   ]
  },
  {
   "cell_type": "markdown",
   "id": "3a974b03",
   "metadata": {},
   "source": [
    "También es posible crear una estructura de control usando **try/except** como vimos antes. Pero necesito usar en este caso las órdenes **iter/item** para generar el conjuto de los elementos en los cuales se itera.\n",
    "\n",
    "Ejemplo:"
   ]
  },
  {
   "cell_type": "code",
   "execution_count": 8,
   "id": "c521b5b0",
   "metadata": {},
   "outputs": [
    {
     "name": "stdout",
     "output_type": "stream",
     "text": [
      "1\n",
      "2\n",
      "3\n",
      "4\n"
     ]
    }
   ],
   "source": [
    "nums = [1,2,3,4]\n",
    "i_nums = iter(nums)\n",
    "\n",
    "while True:\n",
    "    try:\n",
    "        item = next(i_nums)\n",
    "        print(item)\n",
    "    except StopIteration:\n",
    "        break\n",
    "            "
   ]
  },
  {
   "cell_type": "markdown",
   "id": "336bd159",
   "metadata": {},
   "source": [
    "En este caso la activación del error al llamar a un valor cuando ya se acabaron activa el **except** y obliga a terminar la iteración.\n",
    "\n"
   ]
  },
  {
   "cell_type": "markdown",
   "id": "e0544e40",
   "metadata": {},
   "source": [
    "# Generadores\n",
    "\n",
    "## Definición\n",
    "\n",
    "Pero como hacemos en el caso de que la iteración deba hacerse con datos que tengo en un archivo el cual por su tamaño no es posibile cargarlo en la memoria de la computadora?\n",
    "O en el caso de que se busque una opción posible dentro de infinitas posibilidades ¿cómo se maneja esta situación en Python?\n",
    "\n",
    "Para ello se usan los generadores ya que un método for-loop no serviría.\n",
    "\n",
    "Un generador es una función que actúa como los iteradores y \"genera\"  los elementos para\n",
    "ser utilizados en el loop. Es decir que trabaja con una iteración donde los elementos de la iteración se solicitan uno a uno. Y de esta manera no consume tantos recursos de memoria. \n",
    "Con otras palabras, el generador me va dando de a uno los valores en la medida de que se los vaya pidiendo.\n",
    "\n",
    "\n",
    "¿Cómo funcionan estos generadores?\n",
    "Como indicamos son funciones y van devolviendo los valores de la iteración en demanda.<br>\n",
    "Veamos un ejemplo abstracto:"
   ]
  },
  {
   "cell_type": "code",
   "execution_count": 9,
   "id": "ea19d5ee",
   "metadata": {},
   "outputs": [],
   "source": [
    "def f():\n",
    "    yield 1\n",
    "    yield 2\n",
    "    yield 3"
   ]
  },
  {
   "cell_type": "markdown",
   "id": "95b3329c",
   "metadata": {},
   "source": [
    "Note que ahora la función no termina su ejecución con un \"return\", sino con \"yield\" y si la ejecuto:\n"
   ]
  },
  {
   "cell_type": "code",
   "execution_count": 10,
   "id": "7a153a13",
   "metadata": {},
   "outputs": [
    {
     "data": {
      "text/plain": [
       "<generator object f at 0x7fa6a029fba0>"
      ]
     },
     "execution_count": 10,
     "metadata": {},
     "output_type": "execute_result"
    }
   ],
   "source": [
    "f()"
   ]
  },
  {
   "cell_type": "markdown",
   "id": "bb7f55d7",
   "metadata": {},
   "source": [
    "Me dice que la funcion f() es un generador, así que puedo iterar con ella:"
   ]
  },
  {
   "cell_type": "code",
   "execution_count": 11,
   "id": "20d16146",
   "metadata": {},
   "outputs": [
    {
     "name": "stdout",
     "output_type": "stream",
     "text": [
      "1\n",
      "2\n",
      "3\n"
     ]
    }
   ],
   "source": [
    "for x in f():\n",
    "    print(x)"
   ]
  },
  {
   "cell_type": "markdown",
   "id": "1a5485c7",
   "metadata": {},
   "source": [
    "Veamos un ejemplo no tan abstracto. Calculemos los cuadrados\n",
    "de una lista, pero de uno a uno.\n"
   ]
  },
  {
   "cell_type": "code",
   "execution_count": 12,
   "id": "a0d4f856",
   "metadata": {},
   "outputs": [
    {
     "name": "stdout",
     "output_type": "stream",
     "text": [
      "<generator object cuadrados at 0x7fa6a029fdd0>\n",
      "\n",
      "1\n",
      "4\n",
      "9\n",
      "16\n"
     ]
    }
   ],
   "source": [
    "# defino el generador\n",
    "def cuadrados(numeros):\n",
    "    for i in numeros:\n",
    "        yield (i*i)\n",
    "\n",
    "# armo la lista de números que voy a procesar\n",
    "lista=[1,2,3,4]\n",
    "\n",
    "# construyo la función que genera los números\n",
    "# esta orden construye el generador, pero no la ejecuta!!!\n",
    "mi_lista = cuadrados(lista)\n",
    "\n",
    "print(mi_lista)\n",
    "print(\"\")\n",
    "\n",
    "# y ahora la recorro\n",
    "for numero in mi_lista:\n",
    "    print(numero)\n",
    "        "
   ]
  },
  {
   "cell_type": "code",
   "execution_count": 13,
   "id": "1d3807e3",
   "metadata": {},
   "outputs": [
    {
     "name": "stdout",
     "output_type": "stream",
     "text": [
      "2\n",
      "3\n",
      "5\n",
      "7\n",
      "11\n"
     ]
    }
   ],
   "source": [
    "def numeros_primos():\n",
    "    yield 2 # devuelvo 2 como el primer primo\n",
    "    primo_cache = [2]\n",
    "    \n",
    "    for n in range(3,1000000):\n",
    " \n",
    "        es_primo=True\n",
    "        \n",
    "        for p in primo_cache:\n",
    "            if n%p == 0:\n",
    "                es_primo = False\n",
    "                break\n",
    "        if es_primo:\n",
    "            primo_cache.append(n)\n",
    "            yield n\n",
    "            \n",
    "for p in numeros_primos():\n",
    "    print(p)\n",
    "    if p> 10:\n",
    "        break\n",
    "        "
   ]
  },
  {
   "cell_type": "markdown",
   "id": "f88cf991",
   "metadata": {},
   "source": [
    "## Expresión Generadora o \"Generator Expression\" \n",
    "\n",
    "Son una manera más corta de construir generadores. Son un pariente de los List Comprehension\n",
    "y en cierta medida tiene notación de tupla, pero no tiene nada que ver con estas últimas.\n",
    "\n",
    "Se escriben entre parentésis (las List comprehension entre corchetes) con una gramática similar.\n",
    "\n",
    "Veamos una:"
   ]
  },
  {
   "cell_type": "code",
   "execution_count": 14,
   "id": "4fdc006b",
   "metadata": {
    "scrolled": false
   },
   "outputs": [],
   "source": [
    "def natural_numbers(i=1):\n",
    "#  i = 0\n",
    "  while True:\n",
    "    yield i\n",
    "    i += 1\n",
    "    \n",
    "#for num in natural_numbers():\n",
    "#  print(num)\n"
   ]
  },
  {
   "cell_type": "code",
   "execution_count": 15,
   "id": "3a443afa",
   "metadata": {
    "scrolled": false
   },
   "outputs": [
    {
     "name": "stdout",
     "output_type": "stream",
     "text": [
      "1\n",
      "8\n",
      "27\n",
      "64\n",
      "125\n",
      "216\n",
      "343\n",
      "512\n",
      "729\n",
      "1000\n",
      "1331\n"
     ]
    }
   ],
   "source": [
    "\n",
    "cubos = (x**3 for x in natural_numbers())\n",
    "\n",
    "for x in cubos:\n",
    "    print(x)\n",
    "        \n",
    "# Si lo dejo así no terminará nunca        \n",
    "# Lo detengo a las 10 valores        \n",
    "        \n",
    "    if( x> 1000):\n",
    "           cubos.close()\n",
    "            \n",
    "# close() es un método asociado al generador para deternerlo        \n",
    "        \n",
    "        "
   ]
  },
  {
   "cell_type": "markdown",
   "id": "7ef98767",
   "metadata": {},
   "source": [
    "Utilizando las mismas reglas de un List Comprehension podria ponerle un final en su propia construcción asi:"
   ]
  },
  {
   "cell_type": "code",
   "execution_count": 16,
   "id": "f938903d",
   "metadata": {},
   "outputs": [
    {
     "name": "stdout",
     "output_type": "stream",
     "text": [
      "0\n",
      "1\n",
      "8\n",
      "27\n",
      "64\n"
     ]
    }
   ],
   "source": [
    "cubos = (x**3 for x in range(5))\n",
    "\n",
    "for x in cubos:\n",
    "    print(x)\n",
    "        "
   ]
  },
  {
   "cell_type": "markdown",
   "id": "70f5824e",
   "metadata": {
    "tags": [
     "hide_code"
    ]
   },
   "source": [
    " [<< Estructuras de Control](Clase_Estructuras_de_control.html) | [home](index.html) | [Numpy >>](Clase_3_Numpy.html)"
   ]
  }
 ],
 "metadata": {
  "kernelspec": {
   "display_name": "Python 3 (ipykernel)",
   "language": "python",
   "name": "python3"
  },
  "language_info": {
   "codemirror_mode": {
    "name": "ipython",
    "version": 3
   },
   "file_extension": ".py",
   "mimetype": "text/x-python",
   "name": "python",
   "nbconvert_exporter": "python",
   "pygments_lexer": "ipython3",
   "version": "3.9.13"
  }
 },
 "nbformat": 4,
 "nbformat_minor": 5
}
