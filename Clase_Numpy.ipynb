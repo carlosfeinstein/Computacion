{
 "cells": [
  {
   "cell_type": "markdown",
   "metadata": {
    "slideshow": {
     "slide_type": "subslide"
    }
   },
   "source": [
    "# Numerical Python o NumPy\n",
    "\n"
   ]
  },
  {
   "cell_type": "markdown",
   "metadata": {},
   "source": [
    "NumPy es una librería para realizar cálculo en el campo del algebra lineal. Originalmente fue derivado de un paquete de rutinas hecho para Fortran, conocido como BLAS.\n",
    "\n",
    "NumPy es un paquete fundamental para utilizar python en computación de cálculos científicos. Esta es una librería que provee de objetos equivalentes a arreglos multidimensionales y todo un conjunto de rutinas para una operación rápida en los campos de la matemáticas, lógica, manipulación de formas, ordenamientos, entre/salida de datos, Trasformada discreta de Fourier, álgebra lineal básica, operaciones estadísticas básicas, simulaciones con números al azar y otros muchos temas.\n",
    "\n",
    "\n",
    "Es una librería más importante en el uso científico de python. \n",
    "\n",
    "Se puede conseguir muchas mas información en www.numpy.org\n",
    "\n"
   ]
  },
  {
   "cell_type": "markdown",
   "metadata": {},
   "source": [
    "# Numpy en un notebook\n",
    "## Importando NumPy \n",
    "\n",
    "Como toda librería externa se debe cargar para que pueda ser usada por el notebook. El Python de por si no tiene esta librería en memoria, por lo cual, debe ser el usuario el que decida utilizarla y para ello debe \"importarla\". Al hacerlo cargará no sólo los algoritmos que lleva programados, sino además las Clases con las cuales se definene las variables propias de la librería. Los objetos que se usan en NumPy son básicametne arreglos que mantienen cierta similitud con los vectores y matrices del álgebra.\n"
   ]
  },
  {
   "cell_type": "markdown",
   "metadata": {},
   "source": [
    "Primero tenemos que cargar la librería, es bastante popular llamar \"np\" a la libreria numPy. Aunque no es obligatorio llamarla como \"np\" ya es un estandard reconocido."
   ]
  },
  {
   "cell_type": "code",
   "execution_count": 1,
   "metadata": {},
   "outputs": [],
   "source": [
    "import numpy as np"
   ]
  },
  {
   "cell_type": "markdown",
   "metadata": {},
   "source": [
    "\n",
    "Este comando carga la librería NumPy, pero con un cambio de nombre, la traducción literal del\n",
    "comando sería \"Carga NumPy como np\". desde esta manera Numpy de ahora en adelante se llamará np en mi programa.\n",
    "Es normal renombrarla como \"np\", aunque nada evita que se pudiera haber elegido cualquier otro nombre."
   ]
  },
  {
   "cell_type": "markdown",
   "metadata": {},
   "source": [
    "## La clase de los arreglos (array)\n",
    "\n",
    "NumPy usa sus propias variables, es decir como Python es un lenguaje orientado a objetos\n",
    "se definió una clase para generar objetos con las propiedades necesarios para\n",
    "hacer álgebra vectorial. Es decir uso de vectores, matrices, cubos, etc, con\n",
    "mucha eficiencia y respetando propiedades del álgebra.\n",
    "Básicamente NumPy utiliza arreglos que son propios de su librería\n"
   ]
  },
  {
   "cell_type": "markdown",
   "metadata": {},
   "source": [
    "### Veamos el uso de la función array( ) que crea objetos NumPy a partir de variables de Python\n",
    "\n",
    "Puedo crear un arreglo numpy tomándolo de una lista o tupla, o creándolos nuevos.\n",
    "\n",
    "Veamos el ejemplo de usar una lista y con ella crear un arreglo NUmpy.\n",
    "\n",
    "Para ello uso la función array de NumPy, y como a NumPy lo llamé \"np\", a la función\n",
    "la tengo que llamar np.array( )\n",
    "\n",
    "El arreglo NumPy creado ya no es una lista (aunque se le parece mucho), tiene otras propiedades."
   ]
  },
  {
   "cell_type": "code",
   "execution_count": 2,
   "metadata": {},
   "outputs": [
    {
     "name": "stdout",
     "output_type": "stream",
     "text": [
      "[1 2 3 4 5 6]\n"
     ]
    }
   ],
   "source": [
    "a_lista = [1,2,3,4,5,6]\n",
    "\n",
    "a = np.array(a_lista)\n",
    "\n",
    "print(a)"
   ]
  },
  {
   "cell_type": "markdown",
   "metadata": {},
   "source": [
    "Notar que ahora no tenemos las \",\" típicas de una lista."
   ]
  },
  {
   "cell_type": "markdown",
   "metadata": {},
   "source": [
    "O podría hacer directamente"
   ]
  },
  {
   "cell_type": "code",
   "execution_count": 3,
   "metadata": {},
   "outputs": [],
   "source": [
    "a = np.array([1,2,3,4,5,6])"
   ]
  },
  {
   "cell_type": "markdown",
   "metadata": {},
   "source": [
    "Si pregunto el tipo de variable que tengo ahora"
   ]
  },
  {
   "cell_type": "code",
   "execution_count": 4,
   "metadata": {},
   "outputs": [
    {
     "name": "stdout",
     "output_type": "stream",
     "text": [
      "Es de la clase: <class 'numpy.ndarray'>\n"
     ]
    }
   ],
   "source": [
    "print(\"Es de la clase:\", type(a))"
   ]
  },
  {
   "cell_type": "code",
   "execution_count": 5,
   "metadata": {},
   "outputs": [
    {
     "name": "stdout",
     "output_type": "stream",
     "text": [
      "[1 2 3]\n",
      "Es de la clase: <class 'numpy.ndarray'>\n"
     ]
    }
   ],
   "source": [
    "# funciona también con tuplas:\n",
    "\n",
    "b = np.array((1,2,3))\n",
    "\n",
    "print(b)\n",
    "print(\"Es de la clase:\",type(b)) # Ya NO es una Tupla.... y además \n",
    "                                 # desaparecen las comas de la lista o tupla"
   ]
  },
  {
   "cell_type": "code",
   "execution_count": 6,
   "metadata": {},
   "outputs": [
    {
     "name": "stdout",
     "output_type": "stream",
     "text": [
      "La lista L es del tipo:  <class 'list'>\n",
      "a es de tipo: <class 'numpy.ndarray'>\n",
      "El arreglo a es del tipo: int64\n",
      "\n",
      "[1, 2, 3, 4]\n",
      "[1 2 3 4]\n"
     ]
    }
   ],
   "source": [
    "# Creo una lista\n",
    "L = [1, 2, 3, 4]\n",
    "# Convierto mi lista a un arreglo NumPy \n",
    "a = np.array(L)\n",
    "\n",
    "print(\"La lista L es del tipo: \",type(L))\n",
    "print(\"a es de tipo:\",type(a))\n",
    "print(\"El arreglo a es del tipo:\",a.dtype)\n",
    "print(\"\")\n",
    "print(L)\n",
    "print(a)"
   ]
  },
  {
   "cell_type": "markdown",
   "metadata": {},
   "source": [
    "El dtype es un comando de Numpy. Me indica que el arreglo \"a\" no es una lista de Python. \n",
    "dtype me indica el tipo de arreglo dentro de las posibilidades de arreglos Numpy.\n",
    "En este caso es tipo Integer\\*8 (64 bits).\n",
    "\n",
    "A diferencia de las listas los arreglos Numpy engloban a variables que son del mismo tipo. Es decir que todo el arreglo Numpy es del mismo tipo de variable (Real\\*8, Int\\*8, complejo, etc) "
   ]
  },
  {
   "cell_type": "markdown",
   "metadata": {},
   "source": [
    "Una vez definido, todos los agregados se modifican para que sean válidos en el tipo de arreglo final.\n"
   ]
  },
  {
   "cell_type": "code",
   "execution_count": 7,
   "metadata": {},
   "outputs": [
    {
     "name": "stdout",
     "output_type": "stream",
     "text": [
      "[ 1.  2. 22.]\n"
     ]
    }
   ],
   "source": [
    "Lista2=[1,2,22.] # <-- 1 y 2 enteros, 22. es real \n",
    "Lista_numpy=np.array(Lista2)\n",
    "\n",
    "print(Lista_numpy)"
   ]
  },
  {
   "cell_type": "markdown",
   "metadata": {},
   "source": [
    "Todo el arreglo terminó siendo real.\n",
    "\n",
    "---\n",
    "\n",
    "Los arreglos NumPy son estructuras donde los cálculos son rápidos y eficientes.\n",
    "\n",
    "Para ver la ventaja real de esta librería usaremos el comando del notebook %timeit (que es una función del notebook, no es una orden de Python) que me permite tomar tiempos.\n",
    "\n",
    "<b> range </b> es una función de python.\n",
    "\n",
    "<b> arange </b> es una función que se agrega porque viene con numPy. Esta última crea los mismos valores de la lista, pero ahora en array NumPy<br>"
   ]
  },
  {
   "cell_type": "code",
   "execution_count": 8,
   "metadata": {},
   "outputs": [
    {
     "name": "stdout",
     "output_type": "stream",
     "text": [
      "196 µs ± 7.37 µs per loop (mean ± std. dev. of 7 runs, 10000 loops each)\n",
      "Pero usando NumPy\n",
      "1.11 µs ± 35.4 ns per loop (mean ± std. dev. of 7 runs, 1000000 loops each)\n"
     ]
    }
   ],
   "source": [
    "L = range(1000)  # Crea una lista\n",
    "\n",
    "%timeit for L in range(1000):    A=L**2\n",
    "\n",
    "print('Pero usando NumPy')\n",
    "\n",
    "A = np.arange(1000)  # Crea un arreglo Numpy\n",
    "\n",
    "%timeit A2 = A**2\n"
   ]
  },
  {
   "cell_type": "markdown",
   "metadata": {},
   "source": [
    "### Moraleja 1:\n",
    "La idea que hay que tener presente cuando se usa NumPy, es que se va a trabajar con arreglos como variables. No hay que pensar en escribir código que apunte a algoritmos donde se trabaja con los elementos de a uno en un arreglo. El código se escribe pensando las operaciones matemáticas que se realizan sobre vectores y matrices.\n",
    "Veremos esto con detalle durante el curso."
   ]
  },
  {
   "cell_type": "markdown",
   "metadata": {},
   "source": [
    "Los arreglos NumPy llevan consigo al ser objetos, atributos y funciones. Estas funciones en particular son mucho más eficientes que las originales de Python. Probemos creando un arreglo usar primero la función que busca el mínimo valor de Python (min(a)) y luego lo que hace el mismo trabajo pero con la función que reside en el objeto NumPy (a.min()). Noten que tiene el mismo nombre pero que se las llama para su uso de forma diferente."
   ]
  },
  {
   "cell_type": "code",
   "execution_count": 9,
   "metadata": {},
   "outputs": [
    {
     "name": "stdout",
     "output_type": "stream",
     "text": [
      "Largo de a:  10000000\n",
      "924 ms ± 46.9 ms per loop (mean ± std. dev. of 7 runs, 1 loop each)\n",
      "4.58 ms ± 108 µs per loop (mean ± std. dev. of 7 runs, 100 loops each)\n"
     ]
    }
   ],
   "source": [
    "# construyo un vector de 10.000.000 números con primer valor 1000 y último 0, con paso -0.00001\n",
    "\n",
    "a = np.arange(1000,0,-0.0001)\n",
    "\n",
    "# veo que tengo en a\n",
    "print(\"Largo de a: \",len(a))\n",
    "\n",
    "%timeit min(a)\n",
    "%timeit a.min()"
   ]
  },
  {
   "cell_type": "markdown",
   "metadata": {},
   "source": [
    "### Moraleja 2:\n",
    "\n",
    "Hay que usar las funciones que vienen en las librerías que son especifícas para un tema particular, en el caso de álgebra vectorial (como en este último ejemplo) es prácticamente obligatorio usar las funciones de los objetos NumPy."
   ]
  },
  {
   "cell_type": "markdown",
   "metadata": {},
   "source": [
    "### Pueden ser de varias dimensiones 1D, 2D, 3D, ..."
   ]
  },
  {
   "cell_type": "code",
   "execution_count": 10,
   "metadata": {},
   "outputs": [
    {
     "name": "stdout",
     "output_type": "stream",
     "text": [
      "Imprimo el atributo shape\n",
      "(6,) (2, 2) (2, 2, 2)\n",
      "\n",
      "Pero si me fijo el len()\n",
      "6 2 2\n"
     ]
    }
   ],
   "source": [
    "a = np.array([1,2,3,4,5,6])\n",
    "b = np.array([[1,2],[1,4]])\n",
    "c=np.array([[[1,2], [2,3]], [[3,4], [4,5]]])\n",
    "\n",
    "print(\"Imprimo el atributo shape\")\n",
    "print( a.shape, b.shape, c.shape)\n",
    "print(\"\")\n",
    "print(\"Pero si me fijo el len()\")\n",
    "print(len(a),len(b), len(c))"
   ]
  },
  {
   "cell_type": "markdown",
   "metadata": {},
   "source": [
    "El atributo <b>shape</b> me cuenta de las dimensiones del arreglo,\n",
    "en cambio la función <b>len( )</b> me cuenta de su largo.\n",
    "\n",
    "El comando shape me devuelve una **tupla** con la información, en cambio len( ) me devuelve un número.\n",
    "\n",
    "Si tengo varias dimensiones y quiero saber la cantidad total de elementos es conveniente\n",
    "imprimir el atributo <b>size</b>.\n",
    "\n",
    "Veamos como imprimimos el array c y sus componentes ya que este arreglo es trimensional."
   ]
  },
  {
   "cell_type": "code",
   "execution_count": 11,
   "metadata": {},
   "outputs": [
    {
     "name": "stdout",
     "output_type": "stream",
     "text": [
      "[[1 2]\n",
      " [2 3]]\n"
     ]
    }
   ],
   "source": [
    "print(c[0])"
   ]
  },
  {
   "cell_type": "code",
   "execution_count": 12,
   "metadata": {},
   "outputs": [
    {
     "name": "stdout",
     "output_type": "stream",
     "text": [
      "[1 2]\n"
     ]
    }
   ],
   "source": [
    "print(c[0][0])"
   ]
  },
  {
   "cell_type": "code",
   "execution_count": 13,
   "metadata": {},
   "outputs": [
    {
     "name": "stdout",
     "output_type": "stream",
     "text": [
      "1\n"
     ]
    }
   ],
   "source": [
    "print(c[0][0][0])  #<-- recién aquí me devuelve un número"
   ]
  },
  {
   "cell_type": "code",
   "execution_count": 14,
   "metadata": {},
   "outputs": [
    {
     "data": {
      "text/plain": [
       "4"
      ]
     },
     "execution_count": 14,
     "metadata": {},
     "output_type": "execute_result"
    }
   ],
   "source": [
    "# size me da la cantidad de valores en el array\n",
    "b.size\n"
   ]
  },
  {
   "cell_type": "markdown",
   "metadata": {},
   "source": [
    "Pero estrictamente la dimensión me la da el atributo <b>ndim</b>"
   ]
  },
  {
   "cell_type": "code",
   "execution_count": 15,
   "metadata": {},
   "outputs": [
    {
     "name": "stdout",
     "output_type": "stream",
     "text": [
      "1 2 3\n"
     ]
    }
   ],
   "source": [
    "print (a.ndim, b.ndim, c.ndim )"
   ]
  },
  {
   "cell_type": "markdown",
   "metadata": {},
   "source": [
    "La forma como NumPy numera los ejes, se conoce como el estilo \"C\" (por el lenguaje C que lo hace de esa manera)\n",
    "y es diferente al estilo Fortran. Aunque siempre es más cómodo visualizar las distintas dimensiones como _arreglos\n",
    "de arreglos de otros arreglos_...\n",
    "\n",
    "![dimensiones](numpy_arrays.png)\n",
    "\n",
    "Crédito del dibujo:https://www.tomasbeuzen.com/python-programming-for-data-science/chapters/chapter5-numpy.html"
   ]
  },
  {
   "cell_type": "markdown",
   "metadata": {},
   "source": [
    "\n",
    "---\n",
    "La librería numPy trae funciones asociadas. \n",
    "\n",
    "Las puedo buscar en el manual (www.numpy.org), veamos algunos ejemeplos:"
   ]
  },
  {
   "cell_type": "code",
   "execution_count": 16,
   "metadata": {},
   "outputs": [],
   "source": [
    "a = np.array([1,2,3,4,5,6,7])"
   ]
  },
  {
   "cell_type": "markdown",
   "metadata": {},
   "source": [
    "Por ejemplo, probemos con dos, la que calcula promedios de un array a.mean( ) y la que me encuentra el valor máximo a.max( )"
   ]
  },
  {
   "cell_type": "code",
   "execution_count": 17,
   "metadata": {},
   "outputs": [
    {
     "name": "stdout",
     "output_type": "stream",
     "text": [
      "4.0 7\n"
     ]
    }
   ],
   "source": [
    "print(a.mean(), a.max())"
   ]
  },
  {
   "cell_type": "markdown",
   "metadata": {},
   "source": [
    "mean( ) y  max( )  son métodos (funciones) de la clase del arreglo, necesitan los paréntesis ( ). "
   ]
  },
  {
   "cell_type": "code",
   "execution_count": 18,
   "metadata": {},
   "outputs": [
    {
     "name": "stdout",
     "output_type": "stream",
     "text": [
      "<built-in method mean of numpy.ndarray object at 0x14b5a4645940>\n"
     ]
    }
   ],
   "source": [
    "print(a.mean) # Esto así imprime de que trata la funcion no su resultado"
   ]
  },
  {
   "cell_type": "code",
   "execution_count": 19,
   "metadata": {},
   "outputs": [
    {
     "name": "stdout",
     "output_type": "stream",
     "text": [
      "Imprimo b:  [[1 2]\n",
      " [1 4]]\n",
      "Imprimo el promedio de b:  2.0\n",
      "Imprimo el promedio de las columnas de b:  [1. 3.]\n",
      "Imprimo el promedio de las filas de b:  [1.5 2.5]\n"
     ]
    }
   ],
   "source": [
    "print (\"Imprimo b: \",b)\n",
    "print (\"Imprimo el promedio de b: \",b.mean()) # Promedio sobre todo el arreglo \n",
    "print (\"Imprimo el promedio de las columnas de b: \",b.mean(axis=0)) # Promedio sobre el primer eje (columnas)\n",
    "print (\"Imprimo el promedio de las filas de b: \", b.mean(1)) # Promedio sobre las filas, se sobreentiende que es \"axis=1\""
   ]
  },
  {
   "cell_type": "markdown",
   "metadata": {},
   "source": [
    "# Creando arreglos usando sentencias específicas\n",
    "\n",
    "La idea es que el arreglo reciba una cantidad de elementos creados en una forma automática y que cumplen reglas que se especifican como bucles. Es decir con un inicio, un final y un paso. Donde este último no tiene que ser obligtoriamente lineal. Por ejemplo, podríamos tener un paso geométrico, logarítmico, exponencial, etc.\n",
    "\n",
    "También veremos que existen órdenes que copian la forma de otro arreglo, pero no sus elementos, sólo su forma, es decir su tamaño y dimensión. "
   ]
  },
  {
   "cell_type": "code",
   "execution_count": 20,
   "metadata": {},
   "outputs": [
    {
     "name": "stdout",
     "output_type": "stream",
     "text": [
      "[0 1 2 3 4 5 6 7 8 9]\n"
     ]
    }
   ],
   "source": [
    "print(np.arange(10))\n"
   ]
  },
  {
   "cell_type": "code",
   "execution_count": 21,
   "metadata": {},
   "outputs": [
    {
     "name": "stdout",
     "output_type": "stream",
     "text": [
      "[0.         0.11111111 0.22222222 0.33333333 0.44444444 0.55555556\n",
      " 0.66666667 0.77777778 0.88888889 1.        ]\n"
     ]
    }
   ],
   "source": [
    "print(np.linspace(0, 1, 10)) # Comienzo, final, y número de puntos "
   ]
  },
  {
   "cell_type": "code",
   "execution_count": 22,
   "metadata": {},
   "outputs": [
    {
     "name": "stdout",
     "output_type": "stream",
     "text": [
      "[0.  0.1 0.2 0.3 0.4 0.5 0.6 0.7 0.8 0.9]\n"
     ]
    }
   ],
   "source": [
    "print(np.linspace(0, 1, 10, endpoint=False)) # No incluimos el punto final, o lo hacemos hasta 11. "
   ]
  },
  {
   "cell_type": "code",
   "execution_count": 23,
   "metadata": {},
   "outputs": [
    {
     "name": "stdout",
     "output_type": "stream",
     "text": [
      "[0. 0.]\n"
     ]
    }
   ],
   "source": [
    "print(np.zeros(2)) # Lleno con ceros"
   ]
  },
  {
   "cell_type": "code",
   "execution_count": 24,
   "metadata": {},
   "outputs": [
    {
     "name": "stdout",
     "output_type": "stream",
     "text": [
      "[[0. 0.]\n",
      " [0. 0.]]\n"
     ]
    }
   ],
   "source": [
    "print(np.zeros((2,2))) # es un arreglo de dos dimensiones lleno con ceros "
   ]
  },
  {
   "cell_type": "code",
   "execution_count": 25,
   "metadata": {},
   "outputs": [
    {
     "name": "stdout",
     "output_type": "stream",
     "text": [
      "[1 1 1 1 1 1 1]\n"
     ]
    }
   ],
   "source": [
    "print(np.ones_like(a)) # Esto es muy bueno, creo un arreglo (o tupla) \n",
    "                       # usando las propiedades de otro que ya tengo"
   ]
  },
  {
   "cell_type": "code",
   "execution_count": 26,
   "metadata": {},
   "outputs": [
    {
     "name": "stdout",
     "output_type": "stream",
     "text": [
      "[3 3 3 3 3 3 3]\n"
     ]
    }
   ],
   "source": [
    "print(np.zeros_like(a)+3) # Me sirve para llenar con otro valor que no son ceros o 1's"
   ]
  },
  {
   "cell_type": "code",
   "execution_count": 27,
   "metadata": {},
   "outputs": [
    {
     "name": "stdout",
     "output_type": "stream",
     "text": [
      "[1 1 1]\n"
     ]
    }
   ],
   "source": [
    "print(np.ones_like([1,2,3]))"
   ]
  },
  {
   "cell_type": "markdown",
   "metadata": {},
   "source": [
    "### Puedo crear arreglos vacíos de números pero con la forma final que deben tomar. "
   ]
  },
  {
   "cell_type": "code",
   "execution_count": 28,
   "metadata": {},
   "outputs": [],
   "source": [
    "a22=np.empty([2, 2])\n",
    "a11=np.empty([10])\n"
   ]
  },
  {
   "cell_type": "code",
   "execution_count": 29,
   "metadata": {},
   "outputs": [
    {
     "name": "stdout",
     "output_type": "stream",
     "text": [
      "[  1.           1.66810054   2.7825594    4.64158883   7.74263683\n",
      "  12.91549665  21.5443469   35.93813664  59.94842503 100.        ]\n"
     ]
    }
   ],
   "source": [
    "print(np.logspace(0, 2, 10)) # va de 10**comienzo hasta 10**final y calculo 10 valores "
   ]
  },
  {
   "cell_type": "markdown",
   "metadata": {},
   "source": [
    "Una manera muy típica de trabajar en python es primero crea el array como unidimensional\n",
    "y luego darle forma con el comando **reshape( )**, que lo vimos en Fortran 90.\n"
   ]
  },
  {
   "cell_type": "code",
   "execution_count": 30,
   "metadata": {},
   "outputs": [
    {
     "name": "stdout",
     "output_type": "stream",
     "text": [
      "[1 2 3 4 5 6]\n",
      "\n",
      "[[1 2]\n",
      " [3 4]\n",
      " [5 6]]\n"
     ]
    }
   ],
   "source": [
    "a = np.array([1,2,3,4,5,6])\n",
    "b = a.reshape((3,2)) # Este comando no cambia la \"forma\" de  a\n",
    "print(a)\n",
    "print('')\n",
    "print(b)"
   ]
  },
  {
   "cell_type": "markdown",
   "metadata": {},
   "source": [
    "Mientras que la función **ravel( )** lo vuelve unidimensional."
   ]
  },
  {
   "cell_type": "code",
   "execution_count": 31,
   "metadata": {},
   "outputs": [
    {
     "name": "stdout",
     "output_type": "stream",
     "text": [
      "[1 2 3 4 5 6]\n"
     ]
    }
   ],
   "source": [
    "print(b.ravel())"
   ]
  },
  {
   "cell_type": "markdown",
   "metadata": {},
   "source": [
    "### OJO - CUIDADO, los arreglos son objetos y cuando se reasignan no se copian, entonces apuntan a la misma memoria  "
   ]
  },
  {
   "cell_type": "code",
   "execution_count": 32,
   "metadata": {},
   "outputs": [
    {
     "name": "stdout",
     "output_type": "stream",
     "text": [
      "(6,) (3, 2)\n"
     ]
    }
   ],
   "source": [
    "b = a.reshape((3,2))\n",
    "c = a.reshape((3,2))\n",
    "print(a.shape, b.shape)"
   ]
  },
  {
   "cell_type": "code",
   "execution_count": 33,
   "metadata": {},
   "outputs": [
    {
     "name": "stdout",
     "output_type": "stream",
     "text": [
      "[[1 2]\n",
      " [3 4]\n",
      " [5 6]]\n",
      "\n",
      "[[  1   2]\n",
      " [  3 100]\n",
      " [  5   6]]\n"
     ]
    }
   ],
   "source": [
    "print(b)\n",
    "print(\"\")\n",
    "b[1,1] = 100 # modifico un valor del arreglo \n",
    "print(b)"
   ]
  },
  {
   "cell_type": "code",
   "execution_count": 34,
   "metadata": {},
   "outputs": [
    {
     "name": "stdout",
     "output_type": "stream",
     "text": [
      "[  1   2   3 100   5   6]\n"
     ]
    }
   ],
   "source": [
    "print(a) # !!! a y b son el mismo objeto comparten el mismo espacio de memoria, \n",
    "         # es decir apuntan a los mismos valores \n",
    " "
   ]
  },
  {
   "cell_type": "code",
   "execution_count": 35,
   "metadata": {},
   "outputs": [
    {
     "name": "stdout",
     "output_type": "stream",
     "text": [
      "100 100\n"
     ]
    }
   ],
   "source": [
    "print(b[1,1],a[3]) # el mismo valor"
   ]
  },
  {
   "cell_type": "code",
   "execution_count": 36,
   "metadata": {},
   "outputs": [],
   "source": [
    "c = a.reshape((2,3)).copy() # Esta es la solución"
   ]
  },
  {
   "cell_type": "code",
   "execution_count": 37,
   "metadata": {},
   "outputs": [
    {
     "name": "stdout",
     "output_type": "stream",
     "text": [
      "[  1   2   3 100   5   6]\n",
      "\n",
      "[[  1   2   3]\n",
      " [100   5   6]]\n"
     ]
    }
   ],
   "source": [
    "print(a)\n",
    "print('')\n",
    "print(c)"
   ]
  },
  {
   "cell_type": "code",
   "execution_count": 38,
   "metadata": {},
   "outputs": [
    {
     "name": "stdout",
     "output_type": "stream",
     "text": [
      "[  1   2   3 100   5   6]\n",
      "[[8888    2    3]\n",
      " [ 100    5    6]]\n"
     ]
    }
   ],
   "source": [
    "c[0,0] = 8888\n",
    "print(a)\n",
    "print(c)"
   ]
  },
  {
   "cell_type": "markdown",
   "metadata": {},
   "source": [
    "### Números al azar (random) en Numpy\n",
    "\n",
    "Tengo funciones específicas ya programadas en NumPy para realizar la tarea."
   ]
  },
  {
   "cell_type": "code",
   "execution_count": 39,
   "metadata": {},
   "outputs": [
    {
     "name": "stdout",
     "output_type": "stream",
     "text": [
      "Números con distribución Uniforme:  [0.17735947 0.85313626 0.42854179 0.14792548 0.63031598]\n",
      "\n",
      "Números con distribución Gaussiana:  [-0.19297124 -0.36258842 -1.637266    0.61731527 -0.51942954]\n",
      "\n",
      "Números con distribución Gaussiana, pero ahora en una matriz: \n",
      "\n",
      " [[-0.08329751 -1.47663073  0.87420645  0.06445919  0.15075654]\n",
      " [-1.59716366  0.35561509  1.8580981   1.63472038  0.06830614]\n",
      " [ 0.34054178 -0.13059135 -0.3204932  -0.79159338  0.17032612]\n",
      " [ 1.21315868 -0.6156374  -1.27519611  0.90909648  0.23123096]\n",
      " [ 0.13705408  0.51655812  2.21724994  0.09481803 -1.34358526]]\n"
     ]
    }
   ],
   "source": [
    "ran_uniform = np.random.rand(5) # Entre 0 y 1\n",
    "ran_normal = np.random.randn(5) # Gausiana promedio 0 varianza 1\n",
    "print(\"Números con distribución Uniforme: \",ran_uniform)\n",
    "print ('')\n",
    "print (\"Números con distribución Gaussiana: \",ran_normal)\n",
    "print ('')\n",
    "ran_normal_2D = np.random.randn(5,5) # Gausiana promedio 0 varianza 1\n",
    "print(\"Números con distribución Gaussiana, pero ahora en una matriz: \\n\\n\",ran_normal_2D)\n"
   ]
  },
  {
   "cell_type": "markdown",
   "metadata": {},
   "source": [
    "Si en la celda siguiente elimino el # en la línea y corro la celda me da  como resultado un \"help\" del comando. Estas ayudas que se agregan en las funciones son los comentarios que se agregaron en el código de la función como docstrings."
   ]
  },
  {
   "cell_type": "code",
   "execution_count": 40,
   "metadata": {},
   "outputs": [],
   "source": [
    "#np.random.randn?"
   ]
  },
  {
   "cell_type": "markdown",
   "metadata": {},
   "source": [
    "### Slicing (cortando fetas)\n",
    "\n",
    "Es tal como hemos visto con los comandos originales de Python. El rabanado de un objetos de Numpy se hace con los mismos comandos."
   ]
  },
  {
   "cell_type": "code",
   "execution_count": 41,
   "metadata": {},
   "outputs": [
    {
     "name": "stdout",
     "output_type": "stream",
     "text": [
      "[0 1 2 3 4 5 6 7 8 9]\n"
     ]
    }
   ],
   "source": [
    "a = np.arange(10)\n",
    "print(a)\n"
   ]
  },
  {
   "cell_type": "code",
   "execution_count": 42,
   "metadata": {},
   "outputs": [
    {
     "name": "stdout",
     "output_type": "stream",
     "text": [
      "[1 4 7]\n"
     ]
    }
   ],
   "source": [
    "print(a[1:8:3])"
   ]
  },
  {
   "cell_type": "markdown",
   "metadata": {},
   "source": [
    "### Usando arreglos y máscaras\n",
    "\n",
    "Puedo en NumPy cambiar varios números en una sólo línea con un lista de estos elementos. Veamos un ejemplo:\n"
   ]
  },
  {
   "cell_type": "code",
   "execution_count": 43,
   "metadata": {},
   "outputs": [
    {
     "name": "stdout",
     "output_type": "stream",
     "text": [
      "[0 1 2 3 4 5 6 7 8 9]\n",
      "[   0    1 -999    3 -999    5 -999    7    8    9]\n"
     ]
    }
   ],
   "source": [
    "print(a)\n",
    "a[[2,4,6]] = -999   # Puse como ínidices en el arreglo a, una lista de elementos 2,4,6\n",
    "print(a)"
   ]
  },
  {
   "cell_type": "markdown",
   "metadata": {},
   "source": [
    "Veamos como construir un arreglo NumPy donde sus elementos son variables lógicas"
   ]
  },
  {
   "cell_type": "code",
   "execution_count": 44,
   "metadata": {},
   "outputs": [
    {
     "name": "stdout",
     "output_type": "stream",
     "text": [
      "[67  3 41 78 85 25 42 93 57 33 11 55  7 55 86 94 37 75 89  4]\n"
     ]
    }
   ],
   "source": [
    "a = np.random.randint(0, 100, 20) # min, max, N\n",
    "print(a)"
   ]
  },
  {
   "cell_type": "code",
   "execution_count": 45,
   "metadata": {},
   "outputs": [
    {
     "data": {
      "text/plain": [
       "array([False,  True,  True, False, False,  True,  True, False, False,\n",
       "        True,  True, False,  True, False, False, False,  True, False,\n",
       "       False,  True])"
      ]
     },
     "execution_count": 45,
     "metadata": {},
     "output_type": "execute_result"
    }
   ],
   "source": [
    "a < 50"
   ]
  },
  {
   "cell_type": "markdown",
   "metadata": {},
   "source": [
    "La respuesta al operador de relación fue un arreglo con valores booleanos, es decir es la respueta si es verdadera o falsa la pregunta que se realizó en cada elemento.\n",
    "\n",
    "Veamos esto con más detalle y como usarlo en un caso real:"
   ]
  },
  {
   "cell_type": "markdown",
   "metadata": {},
   "source": [
    "# Operaciones con arreglos - Filtrando con máscaras\n",
    "\n",
    "Utilizo el arreglo a del ejemplo anterior:"
   ]
  },
  {
   "cell_type": "code",
   "execution_count": 46,
   "metadata": {},
   "outputs": [
    {
     "data": {
      "text/plain": [
       "array([67,  3, 41, 78, 85, 25, 42, 93, 57, 33, 11, 55,  7, 55, 86, 94, 37,\n",
       "       75, 89,  4])"
      ]
     },
     "execution_count": 46,
     "metadata": {},
     "output_type": "execute_result"
    }
   ],
   "source": [
    "a "
   ]
  },
  {
   "cell_type": "markdown",
   "metadata": {},
   "source": [
    "Y lo uso para realizar operacion matemáticas simples:"
   ]
  },
  {
   "cell_type": "code",
   "execution_count": 47,
   "metadata": {},
   "outputs": [
    {
     "data": {
      "text/plain": [
       "array([68,  4, 42, 79, 86, 26, 43, 94, 58, 34, 12, 56,  8, 56, 87, 95, 38,\n",
       "       76, 90,  5])"
      ]
     },
     "execution_count": 47,
     "metadata": {},
     "output_type": "execute_result"
    }
   ],
   "source": [
    "a + 1"
   ]
  },
  {
   "cell_type": "markdown",
   "metadata": {},
   "source": [
    "Hay que recordar que ahora la variable para los cálculos es todo el arreglo.\n",
    "Y podemos hacer operaciones bastante más complejas, como la que sigue:"
   ]
  },
  {
   "cell_type": "code",
   "execution_count": 48,
   "metadata": {},
   "outputs": [
    {
     "data": {
      "text/plain": [
       "array([ 906778,      90,  208444, 1429740, 1849600,   47500,  224028,\n",
       "       2421720,  558828,  108900,    4114,  502150,    1078,  502150,\n",
       "       1915564, 2500588,  153328, 1271250, 2122828,     208])"
      ]
     },
     "execution_count": 48,
     "metadata": {},
     "output_type": "execute_result"
    }
   ],
   "source": [
    "a**2 + 3*a**3"
   ]
  },
  {
   "cell_type": "markdown",
   "metadata": {},
   "source": [
    "Creo un arreglo más pequeño:"
   ]
  },
  {
   "cell_type": "code",
   "execution_count": 49,
   "metadata": {},
   "outputs": [
    {
     "name": "stdout",
     "output_type": "stream",
     "text": [
      "a es: [0 1 2 3 4 5 6 7 8 9]\n"
     ]
    }
   ],
   "source": [
    "a = np.arange(10)\n",
    "print(\"a es:\",a)"
   ]
  },
  {
   "cell_type": "markdown",
   "metadata": {},
   "source": [
    "Y realizo una operación más compleja y asigno el resultado a otro arreglo que llamo \"b\""
   ]
  },
  {
   "cell_type": "code",
   "execution_count": 50,
   "metadata": {},
   "outputs": [
    {
     "name": "stdout",
     "output_type": "stream",
     "text": [
      "b es: [  1   5  13  25  41  61  85 113 145 181]\n"
     ]
    }
   ],
   "source": [
    "b = a**2 + (a+1)**2\n",
    "print(\"b es:\",b)"
   ]
  },
  {
   "cell_type": "markdown",
   "metadata": {},
   "source": [
    "Hago otra operación a la que asigno el resultado al arreglo \"c\""
   ]
  },
  {
   "cell_type": "code",
   "execution_count": 51,
   "metadata": {},
   "outputs": [],
   "source": [
    "c = (a+2)**2"
   ]
  },
  {
   "cell_type": "code",
   "execution_count": 52,
   "metadata": {},
   "outputs": [
    {
     "name": "stdout",
     "output_type": "stream",
     "text": [
      "b es: [  1   5  13  25  41  61  85 113 145 181]\n",
      "c es: [  4   9  16  25  36  49  64  81 100 121]\n"
     ]
    }
   ],
   "source": [
    "print(\"b es:\",b)\n",
    "print(\"c es:\",c)"
   ]
  },
  {
   "cell_type": "markdown",
   "metadata": {},
   "source": [
    "Podría entonces preguntar que valores están repetidos en el mismo lugar en los arreglos b y c"
   ]
  },
  {
   "cell_type": "code",
   "execution_count": 53,
   "metadata": {},
   "outputs": [
    {
     "name": "stdout",
     "output_type": "stream",
     "text": [
      "[False False False  True False False False False False False]\n"
     ]
    }
   ],
   "source": [
    "print(b == c)\n"
   ]
  },
  {
   "cell_type": "markdown",
   "metadata": {},
   "source": [
    "Guardo el resultado en el arreglo \"máscara\""
   ]
  },
  {
   "cell_type": "code",
   "execution_count": 54,
   "metadata": {},
   "outputs": [
    {
     "name": "stdout",
     "output_type": "stream",
     "text": [
      "mascara es: [False False False  True False False False False False False]\n"
     ]
    }
   ],
   "source": [
    "mascara = b==c\n",
    "print(\"mascara es:\", mascara)"
   ]
  },
  {
   "cell_type": "markdown",
   "metadata": {},
   "source": [
    "¿Y si la máscara la uso para filtrar el vector? ¿Cómo funciona eso?\n",
    "\n",
    "Es decir pido que imprima b[mascara], pero mascara ahora funciona como un arreglo de los índices de b\n",
    "al poner de esa manera el comando. Sólo pasarán el filtro los elementos verdaderos."
   ]
  },
  {
   "cell_type": "code",
   "execution_count": 55,
   "metadata": {},
   "outputs": [
    {
     "name": "stdout",
     "output_type": "stream",
     "text": [
      "b es: [  1   5  13  25  41  61  85 113 145 181]\n",
      "b filtrado por la mascara es:  [25]\n"
     ]
    }
   ],
   "source": [
    "print(\"b es:\",b)\n",
    "print(\"b filtrado por la mascara es: \",b[mascara])"
   ]
  },
  {
   "cell_type": "markdown",
   "metadata": {},
   "source": [
    "También podría haber usado un expresión más compleja"
   ]
  },
  {
   "cell_type": "code",
   "execution_count": 56,
   "metadata": {},
   "outputs": [
    {
     "name": "stdout",
     "output_type": "stream",
     "text": [
      "[ True  True  True False False False False False False False]\n"
     ]
    }
   ],
   "source": [
    "mascara= b < 15 \n",
    "print(mascara)"
   ]
  },
  {
   "cell_type": "markdown",
   "metadata": {},
   "source": [
    "Podría entonces usar el arreglo máscara para filtrar los valores que cumplen con la condición solicitada."
   ]
  },
  {
   "cell_type": "code",
   "execution_count": 57,
   "metadata": {},
   "outputs": [
    {
     "name": "stdout",
     "output_type": "stream",
     "text": [
      "[ 1  5 13]\n"
     ]
    }
   ],
   "source": [
    "d=b[mascara]\n",
    "print(d)"
   ]
  },
  {
   "cell_type": "markdown",
   "metadata": {},
   "source": [
    "Incluso podría haber hecho todo esta operación en un sólo comando:"
   ]
  },
  {
   "cell_type": "code",
   "execution_count": 58,
   "metadata": {},
   "outputs": [
    {
     "name": "stdout",
     "output_type": "stream",
     "text": [
      "[False False False False  True  True  True  True  True  True]\n",
      "[4 5 6 7 8 9]\n"
     ]
    }
   ],
   "source": [
    "print(b>c)\n",
    "print(a[b>c])\n"
   ]
  },
  {
   "cell_type": "markdown",
   "metadata": {},
   "source": [
    "Cuidado que esto último lo puedo hacer porque a,b y c tienen el mismo tamaño y los elementos\n",
    "se corresponden en la numeración"
   ]
  },
  {
   "cell_type": "markdown",
   "metadata": {},
   "source": [
    "### NumPy maneja casi todas las expresiones matemáticas, log, trigonométricas, etc"
   ]
  },
  {
   "cell_type": "code",
   "execution_count": 59,
   "metadata": {},
   "outputs": [
    {
     "name": "stdout",
     "output_type": "stream",
     "text": [
      "a es: [ 0  1  2  3  4  5  6  7  8  9 10 11 12 13 14 15 16 17]\n",
      "\n",
      "El log10 de a es: [      -inf 0.         0.30103    0.47712125 0.60205999 0.69897\n",
      " 0.77815125 0.84509804 0.90308999 0.95424251 1.         1.04139269\n",
      " 1.07918125 1.11394335 1.14612804 1.17609126 1.20411998 1.23044892]\n"
     ]
    },
    {
     "name": "stderr",
     "output_type": "stream",
     "text": [
      "/home/carlos/anaconda3/lib/python3.7/site-packages/ipykernel_launcher.py:4: RuntimeWarning: divide by zero encountered in log10\n",
      "  after removing the cwd from sys.path.\n"
     ]
    }
   ],
   "source": [
    "a = np.arange(18)\n",
    "print(\"a es:\",a)\n",
    "print(\"\")\n",
    "print(\"El log10 de a es:\",np.log10(a))"
   ]
  },
  {
   "cell_type": "markdown",
   "metadata": {},
   "source": [
    "Notar que hubo un error al sacar el log10 de 0. Pero el programa siguió corriendo. \n",
    "\n",
    "Ese error fue notificado en el cartel que sale con el \"RuntimeWarning\".\n",
    "\n",
    "Podemos encontrarnos elementos que dieron errores y estos pueden ser: -inf, +inf, y NaN."
   ]
  },
  {
   "cell_type": "markdown",
   "metadata": {},
   "source": [
    "# Operaciones con vectores y matrices\n",
    "\n"
   ]
  },
  {
   "cell_type": "code",
   "execution_count": 60,
   "metadata": {},
   "outputs": [
    {
     "name": "stdout",
     "output_type": "stream",
     "text": [
      "c es: [[4 1]\n",
      " [2 2]]\n"
     ]
    }
   ],
   "source": [
    "a = [[1, 0], [0, 1]]\n",
    "b = [[4, 1], [2, 2]]\n",
    "\n",
    "c = np.matmul(a, b)\n",
    "\n",
    "print(\"c es:\",c)\n",
    "\n"
   ]
  },
  {
   "cell_type": "code",
   "execution_count": 61,
   "metadata": {},
   "outputs": [
    {
     "name": "stdout",
     "output_type": "stream",
     "text": [
      "[1 2]\n",
      "[1 2]\n"
     ]
    }
   ],
   "source": [
    "a = [[1, 0], [0, 1]]\n",
    "b = [1, 2]\n",
    "c= np.matmul(a, b)\n",
    "\n",
    "print(c)\n",
    "\n",
    "c= np.matmul(b, a)\n",
    "print(c)"
   ]
  },
  {
   "cell_type": "code",
   "execution_count": 62,
   "metadata": {},
   "outputs": [
    {
     "name": "stdout",
     "output_type": "stream",
     "text": [
      "[[     0      1      2 ...    997    998    999]\n",
      " [  1000   1001   1002 ...   1997   1998   1999]\n",
      " [  2000   2001   2002 ...   2997   2998   2999]\n",
      " ...\n",
      " [997000 997001 997002 ... 997997 997998 997999]\n",
      " [998000 998001 998002 ... 998997 998998 998999]\n",
      " [999000 999001 999002 ... 999997 999998 999999]]\n",
      "\n",
      "[[1 1 1 ... 1 1 1]\n",
      " [1 1 1 ... 1 1 1]\n",
      " [1 1 1 ... 1 1 1]\n",
      " ...\n",
      " [1 1 1 ... 1 1 1]\n",
      " [1 1 1 ... 1 1 1]\n",
      " [1 1 1 ... 1 1 1]]\n"
     ]
    }
   ],
   "source": [
    "a = np.arange(1000000).reshape(1000,1000)\n",
    "b = np.ones_like(a)\n",
    "print(a)\n",
    "print(\"\")\n",
    "print(b)"
   ]
  },
  {
   "cell_type": "code",
   "execution_count": 63,
   "metadata": {},
   "outputs": [
    {
     "name": "stdout",
     "output_type": "stream",
     "text": [
      "[[   499500    499500    499500 ...    499500    499500    499500]\n",
      " [  1499500   1499500   1499500 ...   1499500   1499500   1499500]\n",
      " [  2499500   2499500   2499500 ...   2499500   2499500   2499500]\n",
      " ...\n",
      " [997499500 997499500 997499500 ... 997499500 997499500 997499500]\n",
      " [998499500 998499500 998499500 ... 998499500 998499500 998499500]\n",
      " [999499500 999499500 999499500 ... 999499500 999499500 999499500]]\n"
     ]
    }
   ],
   "source": [
    "c=np.matmul(a,b)\n",
    "print(c)"
   ]
  },
  {
   "cell_type": "markdown",
   "metadata": {},
   "source": [
    "# Solución de un sistema lineal de ecuaciones\n",
    "\n",
    "A = floor(random.rand(4000,4000)*20-10) <-- genera una matriz de 4000 x 4000 valores llena con números al azar"
   ]
  },
  {
   "cell_type": "code",
   "execution_count": 64,
   "metadata": {},
   "outputs": [
    {
     "name": "stdout",
     "output_type": "stream",
     "text": [
      "Imprimo A\n",
      "[[0.68652426 0.98012992 0.55840147 ... 0.54315742 0.45013062 0.04537994]\n",
      " [0.18326623 0.13663794 0.76124133 ... 0.66939783 0.71005366 0.31151868]\n",
      " [0.32639769 0.16584211 0.67496671 ... 0.49037097 0.32265862 0.58748106]\n",
      " ...\n",
      " [0.31228443 0.69962726 0.50986075 ... 0.98512345 0.92088795 0.14440491]\n",
      " [0.97344079 0.61609756 0.85094798 ... 0.02265706 0.24101941 0.40733391]\n",
      " [0.5211683  0.46954821 0.47032082 ... 0.62122481 0.03851032 0.01364883]]\n",
      "\n",
      "Imprimo b\n",
      "[[  1.]\n",
      " [  3.]\n",
      " [-10.]\n",
      " ...\n",
      " [  3.]\n",
      " [ -1.]\n",
      " [ -2.]]\n",
      "\n",
      "Imprimo el resultado\n",
      "[[-12.05893541]\n",
      " [ 23.68229898]\n",
      " [-13.46164685]\n",
      " ...\n",
      " [ 22.22684685]\n",
      " [-20.99556061]\n",
      " [ 23.70813106]]\n"
     ]
    }
   ],
   "source": [
    "\n",
    "A = np.random.rand(4000,4000)\n",
    "print(\"Imprimo A\")\n",
    "print (A)\n",
    "\n",
    "b = np.floor(np.random.rand(4000,1)*20-10)\n",
    "print(\"\")\n",
    "print(\"Imprimo b\")\n",
    "print(b)\n",
    "\n",
    "# Resolvamos Ax = b usando el comando NumPy para la tarea: \n",
    "x = np.linalg.solve(A,b)\n",
    "\n",
    "print(\"\")\n",
    "print(\"Imprimo el resultado\")\n",
    "print(x)\n"
   ]
  },
  {
   "cell_type": "markdown",
   "metadata": {},
   "source": [
    "# Broadcasting\n",
    "\n",
    "El broadcasting es la manera que tiene Python de compensar operaciones elemento a elemento entre arreglos de diferentes tamaños.  \n",
    "La situación más simple es cuando se realiza una operación entre un arreglo por un escalar. El escalar en virtualmente repetido todas las veces necesarias para repetir el tamaño del escalar.\n",
    "\n",
    "Se suele considerar que el broadcasting es un fuerte consumidor de memoria de la computadora."
   ]
  },
  {
   "cell_type": "code",
   "execution_count": 65,
   "metadata": {},
   "outputs": [
    {
     "data": {
      "text/plain": [
       "array([2., 4., 6.])"
      ]
     },
     "execution_count": 65,
     "metadata": {},
     "output_type": "execute_result"
    }
   ],
   "source": [
    "a = np.array([1.0, 2.0, 3.0])\n",
    "b = 2.0\n",
    "a * b"
   ]
  },
  {
   "cell_type": "markdown",
   "metadata": {},
   "source": [
    "En este caso hubiese sido similar a que conviertiera b en b=np.array([2.0, 2.0, 2.0])"
   ]
  },
  {
   "cell_type": "code",
   "execution_count": 66,
   "metadata": {},
   "outputs": [
    {
     "data": {
      "text/plain": [
       "array([2., 4., 6.])"
      ]
     },
     "execution_count": 66,
     "metadata": {},
     "output_type": "execute_result"
    }
   ],
   "source": [
    "a = np.array([1.0, 2.0, 3.0])\n",
    "b = b=np.array([2.0, 2.0, 2.0])\n",
    "a * b"
   ]
  },
  {
   "cell_type": "code",
   "execution_count": 67,
   "metadata": {},
   "outputs": [
    {
     "data": {
      "text/plain": [
       "array([[ 1.,  2.,  3.],\n",
       "       [11., 12., 13.],\n",
       "       [21., 22., 23.],\n",
       "       [31., 32., 33.]])"
      ]
     },
     "execution_count": 67,
     "metadata": {},
     "output_type": "execute_result"
    }
   ],
   "source": [
    "a = np.array([[0.0], [10.0], [20.0], [30.0]])\n",
    "b = np.array([1.0, 2.0, 3.0])\n",
    "a+b"
   ]
  },
  {
   "cell_type": "markdown",
   "metadata": {},
   "source": [
    "![Arreglos](broadcasting_4.png)"
   ]
  },
  {
   "cell_type": "markdown",
   "metadata": {},
   "source": [
    "Moraleja: Los arreglos sirven para hacer álgebra vectorial, pero NO son vectores, ni matrices...\n",
    "\n",
    "No tienen las mismas propiedades..."
   ]
  },
  {
   "cell_type": "markdown",
   "metadata": {},
   "source": [
    "El broadcast sólo se puede realizar si:\n",
    "  \n",
    ">* Los arreglos son iguales o \n",
    ">* uno de ellos tiene dimensión 1\n",
    "arreglos son iguales\n"
   ]
  },
  {
   "cell_type": "markdown",
   "metadata": {},
   "source": [
    "---\n",
    "\n",
    "### Forma de hacer las cosas con NumPy\n",
    "\n",
    "Veamos como hay que razonar para usar NumPy y de paso calculemos PI (una vez más...)\n",
    "\n",
    "Esta vez usando series de Taylor. En este caso arctan(1) como hizo en su momento Leibniz\n",
    "\n",
    "$$\\frac{\\pi}{4} = \\sum_{k=0}^{\\infty} \\frac{(-1)^k}{2k+1}$$\n",
    "\n",
    "Veamos un la forma de plantearlo en Python, y usando NumPy:\n",
    "\n",
    "Por lo que calculo la serie de dos maneras, primero estilo Fortran: término por término de la serie mientras los sumo.\n",
    "\n",
    "La segunda manera en modo NumPy, todos los términos al mismo tiempo, creando un vector de términos y que luego sumo.\n",
    "\n",
    "La función pow(x, y) is igual a hacer el cálculo $x^y$, y funciona mejor que $x**y$, porque permite valores fracionarios y negativos de $y$."
   ]
  },
  {
   "cell_type": "code",
   "execution_count": 68,
   "metadata": {},
   "outputs": [
    {
     "name": "stdout",
     "output_type": "stream",
     "text": [
      "Cálculo un elemento y lo voy sumando              : 3.1415925535897915\n"
     ]
    }
   ],
   "source": [
    "# Estilo Fortran\n",
    "n = 10000000\n",
    "total = 0\n",
    "for k in range(n):\n",
    "    total = total + pow(-1,k)/(2*k+1.0)  \n",
    "print(\"Cálculo un elemento y lo voy sumando              :\",total*4)"
   ]
  },
  {
   "cell_type": "code",
   "execution_count": 69,
   "metadata": {},
   "outputs": [
    {
     "name": "stdout",
     "output_type": "stream",
     "text": [
      "Todos los términos al mismo tiempo y sumo al final: 3.1415925535897977\n"
     ]
    }
   ],
   "source": [
    "#Estilo NumPy\n",
    "k=np.arange(n)\n",
    "term=pow(-1,k)/(2*k+1.0)\n",
    "total=term.sum()\n",
    "print(\"Todos los términos al mismo tiempo y sumo al final:\", total*4)"
   ]
  },
  {
   "cell_type": "markdown",
   "metadata": {},
   "source": [
    "Noten que la forma NumPy es mucho más veloz."
   ]
  },
  {
   "cell_type": "markdown",
   "metadata": {},
   "source": [
    "# Resumen de lo importante para usar NumPy\n",
    "\n",
    "\n",
    "-  Python con NumPy es muy bueno, pero hay que pensar en términos de matrices (o arreglos). Nadie usa Python sin usar NumPy en el área científica.\n",
    "\n",
    "\n",
    "- Para usar NumPy en forma eficiente y que valga la pena, es necesario que al algoritmo a programar sea posible describirlo en términos de álgebra vectorial.\n",
    "\n",
    "\n",
    "-  Puede paralelizarse para soportar un hardware específico (GPUs o TPUs) en varias encarnaciones, aunque aún no hay una versión oficial.\n",
    "\n",
    "\n",
    "-  Queda claro que como existen una cantidad importante de órdenes, uno sólo necesita aprender los comandos básicos y para alguna tarea muy específica hay leer la documentación primero para verificar si el comando ya existe. \n",
    "\n",
    "\n",
    "-  En soporte a la idea anterior, existen demasiados comandos, puede ser una mala idea pensar que se pueden aprender todos.\n",
    "\n",
    "\n",
    "-  Se siguen hoy en día agregando y modificando comandos. A NumPy aún se lo continúa construyéndo."
   ]
  },
  {
   "cell_type": "markdown",
   "metadata": {
    "tags": [
     "hide_code"
    ]
   },
   "source": [
    "[<< Iteradores - Generadores](Clase_Iteradores.html) | [home](index.html) | [Gráficos en Python - Matplotlib >>](Clase_4_Matplotlib.html)"
   ]
  }
 ],
 "metadata": {
  "anaconda-cloud": {},
  "kernelspec": {
   "display_name": "Python 3",
   "language": "python",
   "name": "python3"
  },
  "language_info": {
   "codemirror_mode": {
    "name": "ipython",
    "version": 3
   },
   "file_extension": ".py",
   "mimetype": "text/x-python",
   "name": "python",
   "nbconvert_exporter": "python",
   "pygments_lexer": "ipython3",
   "version": "3.7.9"
  }
 },
 "nbformat": 4,
 "nbformat_minor": 2
}
