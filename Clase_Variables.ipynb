{
 "cells": [
  {
   "cell_type": "markdown",
   "metadata": {
    "colab_type": "text",
    "id": "bbZssopGyrWj"
   },
   "source": [
    "---\n",
    "# Comentarios - Markdown\n",
    "En python como cualquier otro lenguaje, existen comandos que permiten poner comentarios que no afectan la corrida del programa pero que son muy útiles en la documentación del código realizado por el programador. \n",
    "\n",
    "Veamos su uso:\n",
    "\n",
    "A partir de un \"#\" todo lo que sigue es un comentario que se acaba cuando termina el renglón. Puede estar en\n",
    "la mitad de un comando.\n",
    "\n",
    "En cambio tres <b>\"</b> producen comentarios que pueden ocupar varios renglones. Tres comillas (3\") lo inician al comentario y otras tres comillas lo terminan. \n",
    "\n",
    "Ejemplo\n",
    "\n",
    "\"\"\"  Este en cambio\n",
    "es un comentario que\n",
    "ocupa muchas líneas\n",
    "\"\"\"       <--- A este tipo de comentarios se los denomina <b>docstrings</b>\n",
    "\n",
    "Por supuesto que estos tipos de comentarios son para celdas de código. Pero si utilizo un **Notebook** para escribir y correr un programa en Python tendré más opciones. En un notebook tenemos dos tipos\n",
    "de celdas. Unas para el escribir código y otra para comentarios más sofisticados. Este tipo de celda es para utilizar\n",
    "el lenguaje de texto <b> Markdown</b>. Que es una versión simplificada del **Latex** que permite incluso poner fórmulas utilizando este último lenguaje. \n",
    "Resumiendo tenemos dos tipos de celdas: las de código, donde escribo partes de mi programa y las de comentarios escritas en legunaje Markdown. \n",
    "Esto sólo es válido si desarrollan y corren programas en lenguaje Python en un Notebook. \n",
    "\n",
    "\n",
    "[comment]: $$\\int_{1}^{\\infty} {x^2} dx $$\n",
    "\n",
    "[comment]: $\\int_{a}^{b} x^2 \\,dx $\n",
    "\n",
    "[comment]: <> (This is a comment, it will not be included)\n",
    "[//]: <> (This is also a comment.)\n"
   ]
  },
  {
   "cell_type": "markdown",
   "metadata": {
    "colab_type": "text",
    "id": "fKJVBEQtyrWh"
   },
   "source": [
    "\n",
    "# Variables en Python y manejo de datos\n",
    "\n"
   ]
  },
  {
   "cell_type": "markdown",
   "metadata": {
    "colab_type": "text",
    "id": "ulYUn4oeyrWi"
   },
   "source": [
    "\n",
    "## Variables básicas\n",
    "\n",
    "Las variables de las sentencias python tienen una diversidad muy grande, están las básicas del python original, pero que se complementan con otras que son agregadas por distintas librerías (numpy, pandas, astropy, etc..). Muchas de estas son de uso muy común en el análisis de datos. Dado esta diversidad, para evitar confusiones existen órdenes para preguntar a una variable de qué tipo es (por ejemplo: type()).\n",
    "Veremos cada una de ellas, empezando por las básicas que son muy parecidas a las de los otros lenguajes y son las que vimos en el fortran determinadas por el Hardware de las computadoras.\n",
    "Pero hay siempre que tener presente que Python es un lenguaje orientado a objetos, así que las variables son objetos. Y que los objetos pueden ser creados por el usuario, es decir, uno puede crear variables con las propiedades que se necesiten creando una clase que incluya la definición adecuada.\n",
    "\n",
    "Tipos de datos básicos:\n",
    "\n",
    "* Enteros (Integers)\n",
    "* Flotantes (Floats) incluye números complejos\n",
    "* Textos (Strings)\n",
    "* Lógicos (Boolean)\n",
    "* Números complejos"
   ]
  },
  {
   "cell_type": "markdown",
   "metadata": {
    "colab_type": "text",
    "id": "Vb0dzs8ZyrWk"
   },
   "source": [
    "---\n",
    "###  Números\n",
    "\n",
    "Veamos como asigno un número en este caso un \"1\" a la variable python \"uno\". Para probar que esto sucedió imprimiremos el número a continuación. Por lo cual la celda tiene dos comandos, la asignación del valor y la impresión de la variable."
   ]
  },
  {
   "cell_type": "code",
   "execution_count": 1,
   "metadata": {
    "colab": {},
    "colab_type": "code",
    "id": "YVGuxWV7yrWk"
   },
   "outputs": [
    {
     "name": "stdout",
     "output_type": "stream",
     "text": [
      "En la variable uno se asignó:  1\n"
     ]
    }
   ],
   "source": [
    "uno = 1 \n",
    "print(\"En la variable uno se asignó: \",uno)"
   ]
  },
  {
   "cell_type": "markdown",
   "metadata": {},
   "source": [
    "Noten que no definí el tipo de variable, esto se hace automáticamente y se realiza en la asignación que se haga sobre esta variable en particular\n",
    "\n",
    "En nuestro caso:\n",
    "\n",
    "uno = 1\n",
    "\n",
    "Así sería entero (ojo no es 1. -> no tiene el \".\") \n",
    "\n",
    "Resumiendo: una variable se crea cuando se le asigna un número, un texto, un resultado booleano. Esa característica de lo que se le asigna determina el tipo de variable que es de ahora en adelante. En este caso es un entero, entonces \"uno\" es una variable que guarda en si números enteros.\n",
    "\n",
    "El comando <b> print() </b> imprimió el resultado en la zona próxima, abajo de la celda. Resumiendo, tenemos las celdas con las órdenes y luego fuera de la celda los resultados de la corrida de esos comandos.\n",
    "    \n",
    "\n",
    "¿Qué hago si en mitad de un programa quiero preguntar cuál es el tipo de una variable en particular?\n",
    "\n",
    "Para eso tengo la orden <b> type </b>\n",
    "\n",
    "En este caso es un entero. \n",
    "Hay que prestar atención a la orden print(), en la cual el texto puede ponerse con ¨ (o también '), para que \n",
    "se imprima un texto como tal cual es. Las distintas variables se separan con una coma (\",\") al igual que en Fortran."
   ]
  },
  {
   "cell_type": "code",
   "execution_count": 2,
   "metadata": {},
   "outputs": [
    {
     "name": "stdout",
     "output_type": "stream",
     "text": [
      "Esa variable es del tipo <class 'int'>\n"
     ]
    }
   ],
   "source": [
    "print('Esa variable es del tipo', type(uno))"
   ]
  },
  {
   "cell_type": "code",
   "execution_count": 3,
   "metadata": {
    "colab": {},
    "colab_type": "code",
    "id": "FyrvnX5CyrWr"
   },
   "outputs": [
    {
     "name": "stdout",
     "output_type": "stream",
     "text": [
      "1 1.0\n",
      "Esa variable es del tipo <class 'float'>\n"
     ]
    }
   ],
   "source": [
    "# es decir, puedo hacer lo siguente:\n",
    "\n",
    "uno_f =1.\n",
    "print(uno,uno_f)\n",
    "\n",
    "# El 1 flotante es 1.0 (con el . y el 0, mientras que en el número \n",
    "# entero esto no sucederá)\n",
    "\n",
    "print('Esa variable es del tipo', type(uno_f))"
   ]
  },
  {
   "cell_type": "markdown",
   "metadata": {
    "colab_type": "text",
    "id": "F7EvTSVhyrW4"
   },
   "source": [
    "---\n",
    "#### Existen nombres que son prohibidos, no se permite su uso como variables o funciones, ya que identifican órdenes ya existentes del lenguaje Python.\n",
    "\n",
    "\n",
    "Este es el listado de esos nombres:              \n",
    "\n",
    "**and, as, assert, break, class, continue, def, del, elif, else, except, \n",
    "exec, finally, for, from, global, if, import, in, is, lambda, not, or,\n",
    "pass, print, raise, return, try, while, with, yield**\n",
    "\n",
    "**True, False, None** <-- Estas últimas tres son las únicas en mayúsculas\n",
    "\n",
    "En los nombres de las variables **no pueden** estar estos símbolos: **!, @, #, $, \\%**\n",
    "\n",
    "El nombre de una variable no puede empezar con un número, pero pueden tenerlo dentro del nombre. Se pueden usar variables \n",
    "con nombres largos, y a veces es cómodo separar las palabras con el símbolo (_) que puede ser usado como \n",
    "parte del nombre de la variable\n",
    "\n",
    "Que_feo_numero = 171717171.71717\n"
   ]
  },
  {
   "cell_type": "markdown",
   "metadata": {
    "colab_type": "text",
    "id": "LnYgZLtqyrW5"
   },
   "source": [
    "### Sentencias multilínea\n",
    "\n",
    "#### Hay que prestar atención a la sangría (\"identation\" en inglés) y a los símbolos:  \\( \\),  \\[ \\] y \\{ \\}."
   ]
  },
  {
   "cell_type": "markdown",
   "metadata": {
    "colab_type": "text",
    "id": "LnYgZLtqyrW5"
   },
   "source": [
    "La sangría en Python significa que la sentencia está relacionada o englobada en la orden anterior. \n",
    "A diferencia de los demás lenguajes de programación su uso indica una acción, no es \"inerte\". Tiene significado funcional e indica una interacción con órdenes\n",
    "anteriores. Dicho de otra manera, es parte activa de una orden anterior junto con las otras sentencias que \n",
    "comparten el mismo tamaño de sangría. Puede haber dentro de un grupo de órdenes con sangría determinada,\n",
    "otras con un espaciado más largo. \n",
    "Estas últimas forman otro de grupo de órdenes relacionadas en un entorno más interno. "
   ]
  },
  {
   "cell_type": "code",
   "execution_count": 2,
   "metadata": {
    "colab": {},
    "colab_type": "code",
    "id": "GbL17hPbyrW6"
   },
   "outputs": [
    {
     "name": "stdout",
     "output_type": "stream",
     "text": [
      "El valor de a= 45\n"
     ]
    }
   ],
   "source": [
    "a = 1 + 2 + 3 \\\n",
    "    + 4 + 5 + 6 \\\n",
    "    + 7 + 8 + 9\n",
    "\n",
    "b = (1 + 2 + 3\n",
    "    + 4 + 5 + 6 \n",
    "    + 7 + 8 + 9)\n",
    "\n",
    "print(\"El valor de a=\",a)"
   ]
  },
  {
   "cell_type": "markdown",
   "metadata": {
    "colab": {},
    "colab_type": "code",
    "id": "GbL17hPbyrW6"
   },
   "source": [
    "También se pueden iniciar muchas variables en un sólo renglón"
   ]
  },
  {
   "cell_type": "code",
   "execution_count": 5,
   "metadata": {
    "colab": {},
    "colab_type": "code",
    "id": "GbL17hPbyrW6"
   },
   "outputs": [
    {
     "name": "stdout",
     "output_type": "stream",
     "text": [
      "Lo mismo en las tres variables. Lo mismo en las tres variables.\n"
     ]
    }
   ],
   "source": [
    "a = 1; b = 2; c = 3\n",
    "\n",
    "x = y = z = \"Lo mismo en las tres variables.\"\n",
    "\n",
    "print(x,y)"
   ]
  },
  {
   "cell_type": "markdown",
   "metadata": {
    "colab_type": "text",
    "id": "LMRe-N36yrW-"
   },
   "source": [
    "---\n",
    "### Variables de Caracteres (Strings)\n",
    "\n",
    "Los strings son cadenas de caracteres de texto, y sirven para manejar justamente textos. \n",
    "Se les pueden aplicar muchos comandos y funciones para realizar distintas modificaciones.\n",
    "Es posible cortar o pegar textos, en la sección de operaciones las veremos con detalle. "
   ]
  },
  {
   "cell_type": "code",
   "execution_count": 6,
   "metadata": {
    "colab": {},
    "colab_type": "code",
    "id": "dMQKRrSByrW_"
   },
   "outputs": [
    {
     "name": "stdout",
     "output_type": "stream",
     "text": [
      "Curso2022\n"
     ]
    }
   ],
   "source": [
    "curso = 'Curso2022'\n",
    "\n",
    "print(curso)"
   ]
  },
  {
   "cell_type": "markdown",
   "metadata": {},
   "source": [
    "Puedo ir pidiendo las letras que forman la palabra de a una, pero tenemos que tener cuidado sobre cómo \n",
    "se numeran las componentes de una estructura en Python\n",
    "Veamos si pido el elemento \"0\" y NO el \"1\"\n",
    "\n",
    "Fijense (muy importante que uso los <b>corchetes</b> y no paréntesis)"
   ]
  },
  {
   "cell_type": "code",
   "execution_count": 7,
   "metadata": {
    "colab": {},
    "colab_type": "code",
    "id": "WJArbtWlyrXD"
   },
   "outputs": [
    {
     "data": {
      "text/plain": [
       "'C'"
      ]
     },
     "execution_count": 7,
     "metadata": {},
     "output_type": "execute_result"
    }
   ],
   "source": [
    "curso[0]  # El primer elemento es el \"0\" !!!\n"
   ]
  },
  {
   "cell_type": "markdown",
   "metadata": {},
   "source": [
    "### El primer elemento de un arreglo es el \"0\" <- Cuidado con esto, es fuente constante de errores!!!\n",
    "<!-- ![title](Facepalm.webp)-->\n",
    "\n"
   ]
  },
  {
   "cell_type": "code",
   "execution_count": 8,
   "metadata": {
    "colab": {},
    "colab_type": "code",
    "id": "-7YtWZgCyrXI"
   },
   "outputs": [
    {
     "data": {
      "text/plain": [
       "'u'"
      ]
     },
     "execution_count": 8,
     "metadata": {},
     "output_type": "execute_result"
    }
   ],
   "source": [
    "# Pero si pido el elemento \"1\", veamos cuál es:\n",
    "\n",
    "curso[1]"
   ]
  },
  {
   "cell_type": "code",
   "execution_count": 9,
   "metadata": {
    "colab": {},
    "colab_type": "code",
    "id": "WLmARdIoyrXN"
   },
   "outputs": [
    {
     "data": {
      "text/plain": [
       "'Curso'"
      ]
     },
     "execution_count": 9,
     "metadata": {},
     "output_type": "execute_result"
    }
   ],
   "source": [
    "# También puedo pedir varios\n",
    "\n",
    "curso[0:5]"
   ]
  },
  {
   "cell_type": "markdown",
   "metadata": {
    "colab_type": "text",
    "id": "DhB5s9l0yrXQ"
   },
   "source": [
    "#### Ya que sería string[inicio:final:paso] <-- Esta es una forma de notación muy general en Python\n",
    "\n",
    "Recordar que el índice inicial es el \"0\" y el final es el n-1. Si el final dice \"4\" entonces el último elemento es el \"3\" (ojo que igual hay cuatro elementos porque el primero tiene como índice al 0.\n",
    "\n",
    "Si pido un elemento del string con un número negativo, significa que se empezará a contar los elementos desde el último, sin importar cuántos elementos tenga. Es una forma de acceder a los elementos finales sin tener que investigar cuántos elementos hay en total.\n"
   ]
  },
  {
   "cell_type": "code",
   "execution_count": 10,
   "metadata": {
    "colab": {},
    "colab_type": "code",
    "id": "uFAGO_xCyrXR"
   },
   "outputs": [
    {
     "data": {
      "text/plain": [
       "'us2'"
      ]
     },
     "execution_count": 10,
     "metadata": {},
     "output_type": "execute_result"
    }
   ],
   "source": [
    "curso[1:6:2]"
   ]
  },
  {
   "cell_type": "code",
   "execution_count": 11,
   "metadata": {
    "colab": {},
    "colab_type": "code",
    "id": "vVk26jqxyrXV"
   },
   "outputs": [
    {
     "name": "stdout",
     "output_type": "stream",
     "text": [
      "[0] => C\n",
      "[0:1] => C\n",
      "[0:2] => Cu\n"
     ]
    }
   ],
   "source": [
    "print('[0] =>', curso[0])\n",
    "print('[0:1] =>', curso[0:1])\n",
    "print('[0:2] =>', curso[0:2])"
   ]
  },
  {
   "cell_type": "code",
   "execution_count": 12,
   "metadata": {},
   "outputs": [
    {
     "name": "stdout",
     "output_type": "stream",
     "text": [
      "[-1] => 2\n",
      "[-2] => 2\n",
      "[-1:-3:-1] => 2202\n"
     ]
    }
   ],
   "source": [
    "print('[-1] =>', curso[-1])\n",
    "print('[-2] =>', curso[-2])\n",
    "print('[-1:-3:-1] =>', curso[-1:-5:-1])"
   ]
  },
  {
   "cell_type": "code",
   "execution_count": 13,
   "metadata": {},
   "outputs": [
    {
     "name": "stdout",
     "output_type": "stream",
     "text": [
      "[::-1] => osruC\n"
     ]
    }
   ],
   "source": [
    "# Y algo raro e impensado pero que tiene su lógica. Note que aplico \n",
    "# la selección directamente al string. No hay variable\n",
    "\n",
    "print('[::-1] =>', 'Curso'[::-1])"
   ]
  },
  {
   "cell_type": "markdown",
   "metadata": {
    "colab": {},
    "colab_type": "code",
    "id": "_Ya6Bz5uyrXs"
   },
   "source": [
    "#### Se pueden incluso usar caracteres UNICODE"
   ]
  },
  {
   "cell_type": "code",
   "execution_count": 14,
   "metadata": {
    "colab": {},
    "colab_type": "code",
    "id": "ZDapQAx_yrXv"
   },
   "outputs": [
    {
     "name": "stdout",
     "output_type": "stream",
     "text": [
      "Esto es Python\n",
      "C\n",
      "\n",
      "Este es un string multilínea con más\n",
      "de una línea de código.\n",
      "\n",
      "Este está crudo  \\n string\n",
      "Este está crudo  \n",
      " string\n"
     ]
    }
   ],
   "source": [
    "strings = \"Esto es Python\"\n",
    "char = \"C\"\n",
    "multilinea_str = \"\"\"Este es un string multilínea con más\n",
    "de una línea de código.\"\"\"\n",
    "unicode = 'Yo \\u2665 la cursada de Computación'\n",
    "crudo_str = r\"Este está crudo  \\n string\" # <-- prestar atención al r \n",
    "                                          # antes del \"\n",
    "crudo_str2 = \"Este está crudo  \\n string\"\n",
    "\n",
    "# Imprimo el texto directo\n",
    "\n",
    "print(strings)\n",
    "print(char)\n",
    "print(\"\") # <---renglón en blanco\n",
    "\n",
    "# En este caso tiene varios renglones al indicarse la asignación en \n",
    "# la variable, pero se unen al asignarse\n",
    "\n",
    "print(multilinea_str)\n",
    "print(\"\")\n",
    "\n",
    "# Se pueden escribir caracteres UNICODE \n",
    "#print(unicode)\n",
    "#print(\"\")\n",
    "# Nota: los cuales no puedo pasar a este apunte porque el Latex no los reconoce\n",
    "\n",
    "\n",
    "# O hacer que el texto se haga literal (sin ejecutar el \"\\n\" que haría que \n",
    "# se genere otro renglón). Esto se activa por el \"r\" antes del texto en la \n",
    "# asignación.\n",
    "\n",
    "print(crudo_str)\n",
    "print(crudo_str2)\n"
   ]
  },
  {
   "cell_type": "markdown",
   "metadata": {
    "colab_type": "text",
    "id": "rliQQOZDyrXy"
   },
   "source": [
    "\n",
    "### Variables Lógicas (Booleanas)\n",
    "\n",
    "Sólo pueden guardar un \"Verdadero\" (True) o un \"Falso\" (False). Van con la primera letra en mayúscula y sin los puntos que vimos en FORTRAN.\n",
    "\n"
   ]
  },
  {
   "cell_type": "code",
   "execution_count": 15,
   "metadata": {},
   "outputs": [
    {
     "name": "stdout",
     "output_type": "stream",
     "text": [
      "True False\n",
      "<class 'bool'> <class 'bool'>\n"
     ]
    }
   ],
   "source": [
    "al = True\n",
    "bl = False\n",
    "print(al,bl)\n",
    "print(type(al),type(bl))"
   ]
  },
  {
   "cell_type": "markdown",
   "metadata": {
    "colab_type": "text",
    "id": "XcTRBRqbyrX0"
   },
   "source": [
    "Si bien el resultado es True o False, desde el punto de vista numérico  hay un \"1\" en caso de una variable verdadera y un \"0\" en caso de que sea falso el valor guardado. Es decir las variables en si tienen guardado un número 1 o un 0 en ellas. Es decir me pueden servir para hacer cuentas. Por ejemplo, si multiplico una variable con un número por una booleana, en esta última habrá un 1 si es verdadera (y por lo tanto multiplicará por ese 1) o un 0 si es falsa.\n",
    "\n",
    "Veamos esto:"
   ]
  },
  {
   "cell_type": "code",
   "execution_count": 16,
   "metadata": {
    "colab": {},
    "colab_type": "code",
    "id": "-aP0gHPryrYG"
   },
   "outputs": [
    {
     "name": "stdout",
     "output_type": "stream",
     "text": [
      "Uso a1 y b1 de la celda anterior\n",
      "Si multiplico un número por un booleano y era verdadero: 8\n",
      "Si multiplico un número por un booleano y era falso    : 0\n"
     ]
    }
   ],
   "source": [
    "print('Uso a1 y b1 de la celda anterior')\n",
    "print('Si multiplico un número por un booleano y era verdadero:', al*8)\n",
    "print('Si multiplico un número por un booleano y era falso    :' ,bl*8)"
   ]
  },
  {
   "cell_type": "markdown",
   "metadata": {
    "colab_type": "text",
    "id": "v_aE5zG_yrX0"
   },
   "source": [
    "---\n",
    "### Convirtiendo tipos de Variables\n",
    "\n",
    "#### USO las siguientes funciones, por eso llevan ()\n",
    "\n",
    "* float()  --> convierte a flotantes\n",
    "* int()    --> convierte a enteros\n",
    "* str()    --> convierte a strings "
   ]
  },
  {
   "cell_type": "code",
   "execution_count": 17,
   "metadata": {
    "colab": {},
    "colab_type": "code",
    "id": "X_iA0epXyrX1"
   },
   "outputs": [
    {
     "name": "stdout",
     "output_type": "stream",
     "text": [
      "True\n",
      "1.0\n",
      "1\n",
      "True\n",
      "13\n"
     ]
    }
   ],
   "source": [
    "a = True\n",
    "print(a)\n",
    "print(float(a))\n",
    "print(int(a))\n",
    "print(str(a))\n",
    "print(int(13.97))"
   ]
  },
  {
   "cell_type": "markdown",
   "metadata": {
    "colab_type": "text",
    "id": "yOEtWexjyrX3"
   },
   "source": [
    "---\n",
    "# Operaciones con las variables\n",
    "\n",
    "##  Operaciones matemáticas básicas\n",
    "* Son iguales a FORTRAN \n",
    "* Asignan los resultados de la misma manera a una tercera variable\n",
    "* Hay operaciones no númericas\n",
    "* Están las muy básicas y se usan exactamente igual que en Fortran, salvo una: +,-,\\*,/,**  \n",
    "* Y otras no tan convencionales, por ejemplo: //,%\n",
    "* Existen asignaciones incrementales (o decrementales) sobre la misma variable (aditivas, multiplicativas)    "
   ]
  },
  {
   "cell_type": "code",
   "execution_count": 18,
   "metadata": {
    "colab": {},
    "colab_type": "code",
    "id": "lsYczoH9yrX3"
   },
   "outputs": [
    {
     "name": "stdout",
     "output_type": "stream",
     "text": [
      "4 es 2 + 2\n",
      "0 es 2 - 2\n",
      "4 es 2 * 2\n",
      "4 es 2 ** 2\n",
      "1.0 es 2 / 2 ¿Qué notan aquí?\n"
     ]
    }
   ],
   "source": [
    "a = 2\n",
    "b = 2\n",
    "c = a + b\n",
    "d = a - b\n",
    "e = a * b\n",
    "f = a ** b\n",
    "g = a / b\n",
    "\n",
    "print(c, 'es', a, '+', b)\n",
    "print(d, 'es', a, '-', b)\n",
    "print(e, 'es', a, '*', b)\n",
    "print(f, 'es', a, '**', b)\n",
    "print(g, 'es', a, '/', b, '¿Qué notan aquí?') "
   ]
  },
  {
   "cell_type": "markdown",
   "metadata": {
    "colab_type": "text",
    "id": "bHAKY7CSyrX5"
   },
   "source": [
    "### Las divisiones entre enteros generan un número real!!!!!\n",
    "\n",
    "Esto es diferente a Fortran e incluso a las versiones anteriores de Python, incluyendo Python 2\n",
    "Esta situación provocó un quiebre muy fuerte entre python 2 y 3. Provocando que mucha gente conserve simultáneamente la dos versiones por la incompatibilidad del software."
   ]
  },
  {
   "cell_type": "code",
   "execution_count": 19,
   "metadata": {
    "colab": {},
    "colab_type": "code",
    "id": "ekBDLDxYyrX5"
   },
   "outputs": [
    {
     "data": {
      "text/plain": [
       "109.55114638447972"
      ]
     },
     "execution_count": 19,
     "metadata": {},
     "output_type": "execute_result"
    }
   ],
   "source": [
    "# ejemplo\n",
    "\n",
    "124231/1134\n",
    "\n"
   ]
  },
  {
   "cell_type": "markdown",
   "metadata": {
    "colab_type": "text",
    "id": "9J7BcA_JyrX8"
   },
   "source": [
    "# Asignaciones múltiples\n",
    "### Se pueden hacer asignaciones múltiples\n",
    "Es decir, que en una sentencia se asignan varios resultados.\n",
    "\n",
    "El orden es determinante para entender a que variable le llega cada dato."
   ]
  },
  {
   "cell_type": "code",
   "execution_count": 20,
   "metadata": {
    "colab": {},
    "colab_type": "code",
    "id": "9aHqujqpyrX9"
   },
   "outputs": [
    {
     "name": "stdout",
     "output_type": "stream",
     "text": [
      "25.4 54.67788\n",
      "622.3 249713.87796\n"
     ]
    }
   ],
   "source": [
    "x,y = 25.4, 54.67788\n",
    "print(x,y)\n",
    "\n",
    "z1,z2= x*24.5,y*4567\n",
    "print(z1,z2)\n"
   ]
  },
  {
   "cell_type": "markdown",
   "metadata": {
    "colab_type": "text",
    "id": "qnk16bDgyrX_"
   },
   "source": [
    "---\n",
    "# Operaciones no convencionales\n"
   ]
  },
  {
   "cell_type": "code",
   "execution_count": 21,
   "metadata": {
    "colab": {},
    "colab_type": "code",
    "id": "xqHpa3X2yrX_"
   },
   "outputs": [
    {
     "data": {
      "text/plain": [
       "5"
      ]
     },
     "execution_count": 21,
     "metadata": {},
     "output_type": "execute_result"
    }
   ],
   "source": [
    "# ojo que existen estas operaciones. Esta es el resultado en \n",
    "# enteros (floor division)\n",
    "\n",
    "17//3"
   ]
  },
  {
   "cell_type": "code",
   "execution_count": 22,
   "metadata": {
    "colab": {},
    "colab_type": "code",
    "id": "Bjaf4J3NyrYB"
   },
   "outputs": [
    {
     "data": {
      "text/plain": [
       "2"
      ]
     },
     "execution_count": 22,
     "metadata": {},
     "output_type": "execute_result"
    }
   ],
   "source": [
    "# y esta es el resto de la división. La función módulo en Fortran\n",
    "17%3\n"
   ]
  },
  {
   "cell_type": "code",
   "execution_count": 23,
   "metadata": {
    "colab": {},
    "colab_type": "code",
    "id": "zWaw8npmyrYD"
   },
   "outputs": [
    {
     "name": "stdout",
     "output_type": "stream",
     "text": [
      "11\n",
      "9\n",
      "36\n",
      "7.2\n"
     ]
    }
   ],
   "source": [
    "# Las operaciones incrementales son válidas en Python, pero ojo no lo\n",
    "# son las estilo C tipo i++\n",
    "\n",
    "i=1\n",
    "\n",
    "i+=10  #suma 10 a i  -> i=i+10\n",
    "print(i)\n",
    "\n",
    "i-=2  #resto 2 a i\n",
    "print(i)\n",
    "\n",
    "i*=4  #multiplico por 4 a i\n",
    "print(i)\n",
    "\n",
    "i/=5  #divido por 5 a i\n",
    "print(i)"
   ]
  },
  {
   "cell_type": "code",
   "execution_count": 24,
   "metadata": {
    "colab": {},
    "colab_type": "code",
    "id": "zGdhLT0vyrYF"
   },
   "outputs": [
    {
     "name": "stdout",
     "output_type": "stream",
     "text": [
      "Hola, estoy en la clase de computación\n"
     ]
    }
   ],
   "source": [
    "# operaciones con strings (textos) \n",
    "# Puedo sumar dos srings, pero quizás no es axactamente lo que uno espera\n",
    "# Aunque tiene su lógica\n",
    "\n",
    "a = 'Hola, estoy en '\n",
    "b = 'la clase de computación'\n",
    "x = a + b\n",
    "print(x)"
   ]
  },
  {
   "cell_type": "markdown",
   "metadata": {
    "colab_type": "text",
    "id": "RzBRRQ1wyrYI"
   },
   "source": [
    "---\n",
    "# Precisión de los cálculos\n",
    "Es diferente a Fortran, los reales son siempre doble precisión (real*8) y los enteros tienen precisión arbitraria.\n",
    "\n",
    "Recordar que las variables en \"Precisión doble\" dependen del hardware pero en general los números válidos están entre 10^-308 y 10^308, con 16 dígitos significativos"
   ]
  },
  {
   "cell_type": "code",
   "execution_count": 25,
   "metadata": {
    "colab": {},
    "colab_type": "code",
    "id": "JLmIhgkhyrYJ"
   },
   "outputs": [
    {
     "name": "stdout",
     "output_type": "stream",
     "text": [
      "12219879030286306963860770558952973983944803995555385507581970019683837890625\n"
     ]
    }
   ],
   "source": [
    "numero=3242525225\n",
    "z = numero**8\n",
    "print(z)"
   ]
  },
  {
   "cell_type": "code",
   "execution_count": 26,
   "metadata": {
    "colab": {},
    "colab_type": "code",
    "id": "yR3ROXt_yrYL"
   },
   "outputs": [
    {
     "name": "stdout",
     "output_type": "stream",
     "text": [
      "1e-21\n"
     ]
    }
   ],
   "source": [
    "a=1\n",
    "b=1000000000000000000000\n",
    "print(a/b)"
   ]
  },
  {
   "cell_type": "code",
   "execution_count": 27,
   "metadata": {
    "colab": {},
    "colab_type": "code",
    "id": "xvneR3_cyrYN",
    "scrolled": true
   },
   "outputs": [
    {
     "name": "stdout",
     "output_type": "stream",
     "text": [
      "<class 'int'>\n",
      "<class 'float'>\n",
      "0\n",
      "1\n",
      "0\n",
      "2\n"
     ]
    }
   ],
   "source": [
    "# Recordar que puedo preguntar de que tipo son las variables\n",
    "print(type(2))\n",
    "print(type(2.3))\n",
    "\n",
    "# Además puedo cortar (truncar) y redondear los números.\n",
    "\n",
    "print(int(0.8)) # truncando\n",
    "print(round(0.88766)) # ahora el más cercano pero que sea entero.\n",
    "\n",
    "# Entendiendo el redondeo, en este caso se busca el par más cercano.\n",
    "\n",
    "print(round(0.3))\n",
    "print(round(1.5))"
   ]
  },
  {
   "cell_type": "markdown",
   "metadata": {
    "colab_type": "text",
    "id": "fPY6h6B7yrYP"
   },
   "source": [
    "---\n",
    "# Números complejos\n",
    "\n",
    "Hay que recordar el concepto de objetos, ahora lo veremos en el caso de números complejos, pero esto se extiende a todos los tipos de variables.  En Python la parte imaginaria se indica con la letra j, no con i como es la convención normal que se usa en matemática. \n",
    "\n",
    "Por lo cual un número complejo sería el siguiente:"
   ]
  },
  {
   "cell_type": "code",
   "execution_count": 28,
   "metadata": {
    "colab": {},
    "colab_type": "code",
    "id": "z5lyQ4vsyrYP"
   },
   "outputs": [],
   "source": [
    "a = 1.5 + 0.5j"
   ]
  },
  {
   "cell_type": "markdown",
   "metadata": {},
   "source": [
    "Puedo hacer cuentas conservando las propiedades de los números complejos"
   ]
  },
  {
   "cell_type": "code",
   "execution_count": 29,
   "metadata": {
    "colab": {},
    "colab_type": "code",
    "id": "kSFs15jVyrYR"
   },
   "outputs": [
    {
     "data": {
      "text/plain": [
       "(2+1.5j)"
      ]
     },
     "execution_count": 29,
     "metadata": {},
     "output_type": "execute_result"
    }
   ],
   "source": [
    "a**2"
   ]
  },
  {
   "cell_type": "markdown",
   "metadata": {},
   "source": [
    "Pero también puedo preguntar por la parte real e imaginaria por separado.\n",
    "\n",
    "Ya que son atributos del Objeto número complejo\n"
   ]
  },
  {
   "cell_type": "code",
   "execution_count": 30,
   "metadata": {
    "colab": {},
    "colab_type": "code",
    "id": "AejX7PrGyrYS"
   },
   "outputs": [
    {
     "data": {
      "text/plain": [
       "1.5"
      ]
     },
     "execution_count": 30,
     "metadata": {},
     "output_type": "execute_result"
    }
   ],
   "source": [
    "a.real"
   ]
  },
  {
   "cell_type": "code",
   "execution_count": 31,
   "metadata": {
    "colab": {},
    "colab_type": "code",
    "id": "DFexXzSFyrYV"
   },
   "outputs": [
    {
     "data": {
      "text/plain": [
       "0.5"
      ]
     },
     "execution_count": 31,
     "metadata": {},
     "output_type": "execute_result"
    }
   ],
   "source": [
    "a.imag"
   ]
  },
  {
   "cell_type": "markdown",
   "metadata": {},
   "source": [
    "Pero como también es un *Objeto* hay funciones asociadas en este. Hay que recordar que a diferencia de los\n",
    "atributos que ya están anotados, las funciones se calculan cuando son llamadas."
   ]
  },
  {
   "cell_type": "code",
   "execution_count": 32,
   "metadata": {
    "colab": {},
    "colab_type": "code",
    "id": "O8R8qZZwyrYX"
   },
   "outputs": [
    {
     "data": {
      "text/plain": [
       "(1.5-0.5j)"
      ]
     },
     "execution_count": 32,
     "metadata": {},
     "output_type": "execute_result"
    }
   ],
   "source": [
    "a.conjugate() # En este caso la función requiere los ()"
   ]
  },
  {
   "cell_type": "code",
   "execution_count": 33,
   "metadata": {
    "colab": {},
    "colab_type": "code",
    "id": "S-PneOYZyrYZ"
   },
   "outputs": [
    {
     "data": {
      "text/plain": [
       "(2.5+0j)"
      ]
     },
     "execution_count": 33,
     "metadata": {},
     "output_type": "execute_result"
    }
   ],
   "source": [
    "a*a.conjugate()"
   ]
  },
  {
   "cell_type": "markdown",
   "metadata": {
    "colab_type": "text",
    "id": "hTGL4gd7yrYb"
   },
   "source": [
    "---\n",
    "# Operaciones  Booleanas"
   ]
  },
  {
   "cell_type": "code",
   "execution_count": 34,
   "metadata": {
    "colab": {},
    "colab_type": "code",
    "id": "qJCNqE-tyrYb"
   },
   "outputs": [
    {
     "data": {
      "text/plain": [
       "True"
      ]
     },
     "execution_count": 34,
     "metadata": {},
     "output_type": "execute_result"
    }
   ],
   "source": [
    "5 < 7\n"
   ]
  },
  {
   "cell_type": "code",
   "execution_count": 35,
   "metadata": {
    "colab": {},
    "colab_type": "code",
    "id": "-iMhJ3wyyrYd"
   },
   "outputs": [],
   "source": [
    "a = 4\n",
    "b = 9"
   ]
  },
  {
   "cell_type": "code",
   "execution_count": 36,
   "metadata": {
    "colab": {},
    "colab_type": "code",
    "id": "R6CKpRJEyrYe"
   },
   "outputs": [
    {
     "data": {
      "text/plain": [
       "False"
      ]
     },
     "execution_count": 36,
     "metadata": {},
     "output_type": "execute_result"
    }
   ],
   "source": [
    "b < a  #  ¿Es cierto?"
   ]
  },
  {
   "cell_type": "code",
   "execution_count": 37,
   "metadata": {
    "colab": {},
    "colab_type": "code",
    "id": "gTIPqHzUyrYg"
   },
   "outputs": [],
   "source": [
    "c = 1"
   ]
  },
  {
   "cell_type": "code",
   "execution_count": 38,
   "metadata": {
    "colab": {},
    "colab_type": "code",
    "id": "afhN58G2yrYi"
   },
   "outputs": [
    {
     "data": {
      "text/plain": [
       "True"
      ]
     },
     "execution_count": 38,
     "metadata": {},
     "output_type": "execute_result"
    }
   ],
   "source": [
    "c < a < b        # Sería ver si 2 < 5 < 7 es cierto"
   ]
  },
  {
   "cell_type": "markdown",
   "metadata": {
    "colab_type": "text",
    "id": "ovrcnJznyrYk"
   },
   "source": [
    "Los operados booleanos (o sea las operaciones lógicas) son **and, or, not** pero hay cosas como \"is\" (es un \"and\" literal)"
   ]
  },
  {
   "cell_type": "code",
   "execution_count": 39,
   "metadata": {
    "colab": {},
    "colab_type": "code",
    "id": "SYKq_XzyyrYk"
   },
   "outputs": [
    {
     "data": {
      "text/plain": [
       "False"
      ]
     },
     "execution_count": 39,
     "metadata": {},
     "output_type": "execute_result"
    }
   ],
   "source": [
    "a < b and b < c"
   ]
  },
  {
   "cell_type": "code",
   "execution_count": 40,
   "metadata": {
    "colab": {},
    "colab_type": "code",
    "id": "vePiQdALyrYm"
   },
   "outputs": [
    {
     "name": "stdout",
     "output_type": "stream",
     "text": [
      "True <class 'bool'>\n"
     ]
    }
   ],
   "source": [
    "resultado = a < 8\n",
    "print(resultado, type(resultado))"
   ]
  },
  {
   "cell_type": "code",
   "execution_count": 41,
   "metadata": {
    "colab": {},
    "colab_type": "code",
    "id": "t5SlXrGmyrYo"
   },
   "outputs": [
    {
     "name": "stdout",
     "output_type": "stream",
     "text": [
      "True\n",
      "False\n"
     ]
    }
   ],
   "source": [
    "print(resultado)\n",
    "print(not resultado)"
   ]
  },
  {
   "cell_type": "code",
   "execution_count": 42,
   "metadata": {
    "colab": {},
    "colab_type": "code",
    "id": "jwjDfDkjyrYq"
   },
   "outputs": [
    {
     "data": {
      "text/plain": [
       "False"
      ]
     },
     "execution_count": 42,
     "metadata": {},
     "output_type": "execute_result"
    }
   ],
   "source": [
    "not resultado is True"
   ]
  },
  {
   "cell_type": "markdown",
   "metadata": {},
   "source": [
    "También tenemos los comandos **is, is not**. El comando **is** también sirve para preguntar si el objeto es el mismo."
   ]
  },
  {
   "cell_type": "code",
   "execution_count": 43,
   "metadata": {},
   "outputs": [
    {
     "name": "stdout",
     "output_type": "stream",
     "text": [
      "True\n",
      "True\n"
     ]
    }
   ],
   "source": [
    "a = 7\n",
    "b = 7\n",
    "\n",
    "print(a==b)\n",
    "print(a is b)\n",
    "\n"
   ]
  },
  {
   "cell_type": "code",
   "execution_count": 44,
   "metadata": {
    "colab": {},
    "colab_type": "code",
    "id": "lbjFhOUgyrYs"
   },
   "outputs": [
    {
     "name": "stdout",
     "output_type": "stream",
     "text": [
      "False\n",
      "True\n"
     ]
    }
   ],
   "source": [
    "a = 22.4\n",
    "resultado=22.4\n",
    "\n",
    "print(resultado is a)\n",
    "print(resultado==a)\n"
   ]
  },
  {
   "cell_type": "markdown",
   "metadata": {
    "colab_type": "text",
    "id": "pQkxEc6UyrYu"
   },
   "source": [
    "--- \n",
    "# Operaciones con Textos/Strings"
   ]
  },
  {
   "cell_type": "code",
   "execution_count": 45,
   "metadata": {
    "colab": {},
    "colab_type": "code",
    "id": "sRa1gJtyyrYu"
   },
   "outputs": [],
   "source": [
    "a = \"Esto es un    string\""
   ]
  },
  {
   "cell_type": "code",
   "execution_count": 46,
   "metadata": {
    "colab": {},
    "colab_type": "code",
    "id": "1wTRBJpQyrYw"
   },
   "outputs": [
    {
     "data": {
      "text/plain": [
       "20"
      ]
     },
     "execution_count": 46,
     "metadata": {},
     "output_type": "execute_result"
    }
   ],
   "source": [
    "# Pregunto su tamaño con una función que existe en Python\n",
    "\n",
    "len(a)"
   ]
  },
  {
   "cell_type": "markdown",
   "metadata": {},
   "source": [
    "La variable **a** tal como la hemos creado es ahora  un **Objeto** de la **Clase** string (textos). Puedo preguntar cuáles son las funciones o métodos de esa clase con la orden **dir()**"
   ]
  },
  {
   "cell_type": "code",
   "execution_count": 47,
   "metadata": {},
   "outputs": [
    {
     "name": "stdout",
     "output_type": "stream",
     "text": [
      "['__add__', '__class__', '__contains__', '__delattr__', '__dir__', '__doc__', '__eq__', '__format__', '__ge__', '__getattribute__', '__getitem__', '__getnewargs__', '__gt__', '__hash__', '__init__', '__init_subclass__', '__iter__', '__le__', '__len__', '__lt__', '__mod__', '__mul__', '__ne__', '__new__', '__reduce__', '__reduce_ex__', '__repr__', '__rmod__', '__rmul__', '__setattr__', '__sizeof__', '__str__', '__subclasshook__', 'capitalize', 'casefold', 'center', 'count', 'encode', 'endswith', 'expandtabs', 'find', 'format', 'format_map', 'index', 'isalnum', 'isalpha', 'isascii', 'isdecimal', 'isdigit', 'isidentifier', 'islower', 'isnumeric', 'isprintable', 'isspace', 'istitle', 'isupper', 'join', 'ljust', 'lower', 'lstrip', 'maketrans', 'partition', 'removeprefix', 'removesuffix', 'replace', 'rfind', 'rindex', 'rjust', 'rpartition', 'rsplit', 'rstrip', 'split', 'splitlines', 'startswith', 'strip', 'swapcase', 'title', 'translate', 'upper', 'zfill']\n"
     ]
    }
   ],
   "source": [
    "print(dir(a))"
   ]
  },
  {
   "cell_type": "markdown",
   "metadata": {
    "colab_type": "text",
    "id": "mcnvB9H4yrYy"
   },
   "source": [
    "Los strings son objetos (como todo en python).  \n",
    "Recordar que hay métodos (o sea funciones) que están definidas en los objetos:"
   ]
  },
  {
   "cell_type": "markdown",
   "metadata": {},
   "source": [
    "Tenemos dos strings B y C ¿Qué pasa si hacemos la operación B+C?"
   ]
  },
  {
   "cell_type": "code",
   "execution_count": 48,
   "metadata": {},
   "outputs": [
    {
     "name": "stdout",
     "output_type": "stream",
     "text": [
      "Primera Parte Segunda Parte \n"
     ]
    }
   ],
   "source": [
    "B = \"Primera Parte \"\n",
    "C = \"Segunda Parte \"\n",
    "\n",
    "print(B+C)\n"
   ]
  },
  {
   "cell_type": "markdown",
   "metadata": {},
   "source": [
    "\n",
    "Como se puede ver ambos strings se concatenan uno detrás del otro siguiendo el orden de la operación.\n",
    "\n",
    "¿Y si hacemos D = B*2 ?"
   ]
  },
  {
   "cell_type": "code",
   "execution_count": 49,
   "metadata": {},
   "outputs": [
    {
     "name": "stdout",
     "output_type": "stream",
     "text": [
      "Primera Parte Primera Parte \n"
     ]
    }
   ],
   "source": [
    "D = B*2\n",
    "\n",
    "print(D)"
   ]
  },
  {
   "cell_type": "markdown",
   "metadata": {},
   "source": [
    "Como generalización de la suma que vimos antes, se concatenan el mismo string la cantidad de veces que lo multiplico\n",
    "\n",
    "### Métodos del objeto strings\n",
    "\n",
    "Veamos alguna de las funciones que tengo en la clase \"string\":"
   ]
  },
  {
   "cell_type": "code",
   "execution_count": 50,
   "metadata": {
    "colab": {},
    "colab_type": "code",
    "id": "-dq5gCqtyrYz"
   },
   "outputs": [
    {
     "data": {
      "text/plain": [
       "'ESTO ES UN    STRING'"
      ]
     },
     "execution_count": 50,
     "metadata": {},
     "output_type": "execute_result"
    }
   ],
   "source": [
    "a.upper()"
   ]
  },
  {
   "cell_type": "code",
   "execution_count": 51,
   "metadata": {
    "colab": {},
    "colab_type": "code",
    "id": "C6_7GmNxyrY1"
   },
   "outputs": [
    {
     "data": {
      "text/plain": [
       "'Esto Es Un    String'"
      ]
     },
     "execution_count": 51,
     "metadata": {},
     "output_type": "execute_result"
    }
   ],
   "source": [
    "a.title()"
   ]
  },
  {
   "cell_type": "code",
   "execution_count": 52,
   "metadata": {
    "colab": {},
    "colab_type": "code",
    "id": "NOoyh9I0yrY2"
   },
   "outputs": [
    {
     "data": {
      "text/plain": [
       "['Esto', 'es', 'un', 'string']"
      ]
     },
     "execution_count": 52,
     "metadata": {},
     "output_type": "execute_result"
    }
   ],
   "source": [
    "a.split()"
   ]
  },
  {
   "cell_type": "markdown",
   "metadata": {},
   "source": [
    "Esto que se generó se llama **lista**, aunque parece un vector, no lo es exactamente y veremos las \"listas\" en la \n",
    "clase que viene.\n",
    "\n",
    "Veremos que las listas tienen elementos y estos están numerados. El primer elemento está numerado como \"0\"."
   ]
  },
  {
   "cell_type": "code",
   "execution_count": 53,
   "metadata": {
    "colab": {},
    "colab_type": "code",
    "id": "UgXEmnHoyrY4"
   },
   "outputs": [
    {
     "data": {
      "text/plain": [
       "'es'"
      ]
     },
     "execution_count": 53,
     "metadata": {},
     "output_type": "execute_result"
    }
   ],
   "source": [
    "a.split()[1]"
   ]
  },
  {
   "cell_type": "code",
   "execution_count": 54,
   "metadata": {
    "colab": {},
    "colab_type": "code",
    "id": "8fdXg19ByrY5"
   },
   "outputs": [],
   "source": [
    "a = \"Este es un string.   Con muchas sentencias.\""
   ]
  },
  {
   "cell_type": "markdown",
   "metadata": {},
   "source": [
    "Lo puedo cortar eligiendo el caracter, por ejemplo, pruebo con el \".\""
   ]
  },
  {
   "cell_type": "code",
   "execution_count": 55,
   "metadata": {
    "colab": {},
    "colab_type": "code",
    "id": "4-g1rTkhyrY7"
   },
   "outputs": [
    {
     "data": {
      "text/plain": [
       "['Este es un string', '   Con muchas sentencias', '']"
      ]
     },
     "execution_count": 55,
     "metadata": {},
     "output_type": "execute_result"
    }
   ],
   "source": [
    "a.split('.')"
   ]
  },
  {
   "cell_type": "markdown",
   "metadata": {},
   "source": [
    "Por lo que obtuve una lista de sólo dos elementos."
   ]
  },
  {
   "cell_type": "code",
   "execution_count": 56,
   "metadata": {
    "colab": {},
    "colab_type": "code",
    "id": "Bi5w22c2yrY-"
   },
   "outputs": [
    {
     "data": {
      "text/plain": [
       "'Con muchas sentencias'"
      ]
     },
     "execution_count": 56,
     "metadata": {},
     "output_type": "execute_result"
    }
   ],
   "source": [
    "a.split('.')[1].strip() \n",
    "# Defino el caracter para el split . \n",
    "# Strip saca los blancos que están demás. El default es el blanco, puede cambiarse a otro caracter"
   ]
  },
  {
   "cell_type": "code",
   "execution_count": 57,
   "metadata": {
    "colab": {},
    "colab_type": "code",
    "id": "ww6Br1pXyrY_"
   },
   "outputs": [
    {
     "data": {
      "text/plain": [
       "'<-muchos espacios'"
      ]
     },
     "execution_count": 57,
     "metadata": {},
     "output_type": "execute_result"
    }
   ],
   "source": [
    "b = '   <-muchos espacios'\n",
    "b.strip()"
   ]
  },
  {
   "cell_type": "code",
   "execution_count": 58,
   "metadata": {
    "colab": {},
    "colab_type": "code",
    "id": "By6yMZetyrZC"
   },
   "outputs": [
    {
     "name": "stdout",
     "output_type": "stream",
     "text": [
      "tru la la\n",
      "tru-la-la\n",
      "trulala\n",
      "['tru', 'la', 'la']\n",
      "tru & la & lalo\n"
     ]
    }
   ],
   "source": [
    "a = 'tru'\n",
    "b = 'la'\n",
    "print(' '.join((a,b,b)))\n",
    "print('-'.join((a,b,b)))\n",
    "print(''.join((a,b,b)))\n",
    "print(' '.join((a,b,b)).split())\n",
    "print(' & '.join((a,b,b)) + 'lo')"
   ]
  },
  {
   "cell_type": "markdown",
   "metadata": {},
   "source": [
    "Podemos hacer muchas cosas más con los strings. ¿Cómo se que cosas y cuáles son sus comandos?\n",
    "\n",
    "Como siempre hay que buscar y leer el manual."
   ]
  },
  {
   "cell_type": "markdown",
   "metadata": {
    "colab_type": "text",
    "id": "-ArBsrwWyrZE"
   },
   "source": [
    "# Ingresos de datos por teclado\n",
    "### Se utiliza la función input()"
   ]
  },
  {
   "cell_type": "code",
   "execution_count": 59,
   "metadata": {
    "colab": {},
    "colab_type": "code",
    "id": "xKhvkfj7yrZE"
   },
   "outputs": [
    {
     "name": "stdout",
     "output_type": "stream",
     "text": [
      "base: 23.4\n",
      "altura: 53.45\n",
      "El área es= 625.365\n"
     ]
    }
   ],
   "source": [
    "base = float(input(\"base: \"))\n",
    "altura = float(input(\"altura: \"))\n",
    "\n",
    "area=base*altura/2\n",
    "\n",
    "print(\"El área es=\",area)"
   ]
  },
  {
   "cell_type": "markdown",
   "metadata": {
    "tags": [
     "hide_code"
    ]
   },
   "source": [
    "[<< Índice](index.html) | [Contenedores >>](Clase_2_Variables.html)"
   ]
  }
 ],
 "metadata": {
  "colab": {
   "name": "Clase_1_Variables.ipynb",
   "provenance": []
  },
  "kernelspec": {
   "display_name": "Python 3",
   "language": "python",
   "name": "python3"
  },
  "language_info": {
   "codemirror_mode": {
    "name": "ipython",
    "version": 3
   },
   "file_extension": ".py",
   "mimetype": "text/x-python",
   "name": "python",
   "nbconvert_exporter": "python",
   "pygments_lexer": "ipython3",
   "version": "3.7.9"
  }
 },
 "nbformat": 4,
 "nbformat_minor": 1
}
