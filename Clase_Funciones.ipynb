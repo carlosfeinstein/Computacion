{
 "cells": [
  {
   "cell_type": "markdown",
   "metadata": {
    "colab_type": "text",
    "id": "6XyeFtsVQOS_"
   },
   "source": [
    "# Funciones en Python\n",
    "\n",
    "En el lenguaje Python se pueden construir funciones para ser usadas reiteradas veces. Las funciones en Python tienen que estar definidas y por lo tanto cargadas antes de ser usadas, recordar que Python no es un lenguaje compilado. Por eso es muy común que todo código comience con la definición de varias funciones o con una carga de librerías que contienen esas funciones.\n",
    "\n",
    "Cómo en otros lenguajes la idea de función es escribir una sóla vez, cualquier estructura que se repita muchas veces en un cálculo. Pero esa idea a ido evolucionando a convertirse en un código que desarrolla una tarea en particular y que puede guardarse en forma separada y luego reutilizarse en otros programas. \n",
    "La idea entonces es que en el caso de resolver un problema en particular, guardar el código de las funciones utilizadas y que esta solución de software quede en disponibilidad para que uno u otros puedan acceder a ese código y reutilizarlo. \n",
    "\n",
    "El éxito de Python se debe entonces a la existencia de una cantidad de librerias especializadas en una cuestión particular que contienen funciones muy útiles sobre ese tema.\n",
    "\n",
    "Para definir una función se usa la orden **def** seguido de su nombre y entre paréntesis las variables o los datos que se ingresan a la función. A estos últimos también se los llama argumentos. Al final del paréntesis tiene que ir el símbolo **:** para indicar al intérprete Python que las líneas siguientes con una sangría similar (un bloque) pertenecen a la función.  \n",
    "\n",
    "La sangría, al igual que en el caso de las estructuras de control, determina que órdenes son de esa función en particular, es decir determina el bloque de órdenes propias de la función. Como dentro de una función puede haber estructuras de control internas, estas tendrán más espacios de sangría que las que se indican como sentencias que son parte del bloque. Pero eso no es un problema, se siguen considerando dentro del bloque que forma la función.\n",
    "\n",
    "Las funciónes suelen terminar con la orden **return**, que puede o no llevar los valores resultantes del cálculo, los cuales serán enviados al lugar donde la función fue llamada.\n",
    "La orden **return** es optativa, puede incluso no estar.\n",
    "\n",
    "Veamos un ejemplo de una función que eleva al cubo valor que se ingresa:"
   ]
  },
  {
   "cell_type": "code",
   "execution_count": 1,
   "metadata": {
    "colab": {},
    "colab_type": "code",
    "id": "8537GjMfQOTB"
   },
   "outputs": [
    {
     "name": "stdout",
     "output_type": "stream",
     "text": [
      "125\n"
     ]
    }
   ],
   "source": [
    "def cubo(x):\n",
    "    print(x**3)\n",
    "    return\n",
    "\n",
    "cubo(5)"
   ]
  },
  {
   "cell_type": "code",
   "execution_count": 2,
   "metadata": {},
   "outputs": [
    {
     "name": "stdout",
     "output_type": "stream",
     "text": [
      "125\n"
     ]
    }
   ],
   "source": [
    "# pero podría no haber puesto el return\n",
    "\n",
    "def cubo(x):\n",
    "    print(x**3)\n",
    "\n",
    "cubo(5)"
   ]
  },
  {
   "cell_type": "markdown",
   "metadata": {},
   "source": [
    "Notar que la función se dio por finalizada porque terminó la sangría, y no se usó la orden return. Este ejemplo demuestra la importancia de la sangría en Python para determinar inicio y fin de bloques de código."
   ]
  },
  {
   "cell_type": "markdown",
   "metadata": {},
   "source": [
    "Pero la pregunta es: ¿Devolvió la función un resultado?"
   ]
  },
  {
   "cell_type": "code",
   "execution_count": 3,
   "metadata": {
    "colab": {},
    "colab_type": "code",
    "id": "pge5TXYFQOTE"
   },
   "outputs": [
    {
     "name": "stdout",
     "output_type": "stream",
     "text": [
      "27\n",
      "\n",
      "Help on function func_cubo in module __main__:\n",
      "\n",
      "func_cubo(x)\n",
      "    Retorno el cubo de un número.\n",
      "    A este comentario se la llama docstring y puede accederse desde el\n",
      "    notebook como una ayuda para recordar detalles del uso de la función\n",
      "    como por ejemplo que variables ingresan y en que orden.\n",
      "    Note las 3 comillas que se usan para indicarlo y cerrarlo\n",
      "\n"
     ]
    }
   ],
   "source": [
    "def func_cubo(x):    \n",
    "    \"\"\"\n",
    "    Retorno el cubo de un número.\n",
    "    A este comentario se la llama docstring y puede accederse desde el\n",
    "    notebook como una ayuda para recordar detalles del uso de la función\n",
    "    como por ejemplo que variables ingresan y en que orden.\n",
    "    Note las 3 comillas que se usan para indicarlo y cerrarlo\n",
    "    \"\"\"\n",
    "    return(x**3)   # <-- El return puede hacer cuentas!!!\n",
    "\n",
    "a = func_cubo(3)\n",
    "\n",
    "print(a)\n",
    "print(\"\")\n",
    "\n",
    "# pido el \"help\" para recordar detalles de la función y me\n",
    "# devuelve el texto del docstring\n",
    "\n",
    "help(func_cubo)\n"
   ]
  },
  {
   "cell_type": "code",
   "execution_count": 4,
   "metadata": {
    "colab": {},
    "colab_type": "code",
    "id": "iy8XU3hnQOTH"
   },
   "outputs": [
    {
     "data": {
      "text/plain": [
       "27"
      ]
     },
     "execution_count": 4,
     "metadata": {},
     "output_type": "execute_result"
    }
   ],
   "source": [
    "# Otra manera hacer shift tab dentro del parentesis, \n",
    "# aunque en algunas computadoras no funciona\n",
    "# ¿Lo hace en la tuya?\n",
    "\n",
    "func_cubo(3)"
   ]
  },
  {
   "cell_type": "markdown",
   "metadata": {},
   "source": [
    "Como en otros lenguajes puedo poner en los argumentos de la función variables o números"
   ]
  },
  {
   "cell_type": "code",
   "execution_count": 5,
   "metadata": {
    "colab": {},
    "colab_type": "code",
    "id": "oAaLEO7OQOTK"
   },
   "outputs": [
    {
     "name": "stdout",
     "output_type": "stream",
     "text": [
      "3\n",
      "27\n"
     ]
    }
   ],
   "source": [
    "a=3\n",
    "print(a)\n",
    "\n",
    "print(func_cubo(a))"
   ]
  },
  {
   "cell_type": "markdown",
   "metadata": {},
   "source": [
    "Estos argumentos que hemos usado hasta ahora son requeridos y son obligatorios, ya que así están en la definición de la función. Debe llamarse a la función con estos argumentos cargados con valores numéricos o variables que los contengan. La falta de uno de estos argumentos en una llamada genera un error. Debido a que su orden importa se suelen llamar argumentos de posición o **positional arguments**.\n",
    "\n",
    "Pero existen otros argumentos llamados de teclado o **keyword arguments** donde se indica un valor default (default = predeterminado) por si\n",
    "no se lo indica en el momento que se llama la función. "
   ]
  },
  {
   "cell_type": "code",
   "execution_count": 6,
   "metadata": {},
   "outputs": [
    {
     "name": "stdout",
     "output_type": "stream",
     "text": [
      "7.0710678118654755\n"
     ]
    }
   ],
   "source": [
    "def func_rara(x, y, z, a=0, b=1):\n",
    "    \"\"\"\n",
    "    Esta función tiene 5 argumentos, pero dos de ellos \n",
    "    tienen valores por default (entonces no son obligatorios)\n",
    "    \"\"\"\n",
    "    return a + b * (x**2 + y**2 + z**2)**0.5\n",
    "\n",
    "\n",
    "D = func_rara(3, 4, 5)\n",
    "print(D)"
   ]
  },
  {
   "cell_type": "code",
   "execution_count": 7,
   "metadata": {},
   "outputs": [
    {
     "name": "stdout",
     "output_type": "stream",
     "text": [
      "717.1067811865476\n"
     ]
    }
   ],
   "source": [
    "E = func_rara(3, 4, 5, 10, 100)\n",
    "print(E)"
   ]
  },
  {
   "cell_type": "markdown",
   "metadata": {},
   "source": [
    "Veamos un ejemplo que es muy bueno para mostrar el uso de este tipo de argumentos.\n",
    "\n",
    "Supongamos que queremos hacer un programa que pase medidas hechas en el sistema imperial, es decir pies y pulgadas a centímetros. la medida puede estar en pies, o en pulgadas o en los dos sistemas. \n",
    "\n",
    "Recorar que 1 pulgada = 2.54 cm y \n",
    "1 Pie = 12 pulgadas"
   ]
  },
  {
   "cell_type": "code",
   "execution_count": 8,
   "metadata": {},
   "outputs": [],
   "source": [
    "def cm(pies=0, pulgadas=0):\n",
    "    pulgadas_a_cm = pulgadas * 2.54\n",
    "    pies_a_cm = pies * 12 * 2.54\n",
    "    return pulgadas_a_cm + pies_a_cm    "
   ]
  },
  {
   "cell_type": "markdown",
   "metadata": {},
   "source": [
    "En esta función pies y pulgadas tienen ya prefijado valores de inicio, es decir un default que es en ambos casos un \"0\".\n",
    "\n",
    "Veamos como puede correr esta función y aprovechar los valores default de las argumentos de teclado."
   ]
  },
  {
   "cell_type": "code",
   "execution_count": 9,
   "metadata": {},
   "outputs": [
    {
     "name": "stdout",
     "output_type": "stream",
     "text": [
      "20 pies son:  609.6\n",
      "22 pulgadas son:  57.15\n",
      "5 pies y 3.5 pulgadas son:  161.29000000000002\n",
      "3.5 pulgadas y 5 pies on:  161.29000000000002\n"
     ]
    }
   ],
   "source": [
    "# Sólo tengo un valor en pies y nada en pulgadas\n",
    "\n",
    "a = cm(pies=20)\n",
    "print(\"20 pies son: \",a)\n",
    "\n",
    "# Sólo tengo un valor en pulgadas y nada en pies\n",
    "\n",
    "b = cm(pulgadas=22.5)\n",
    "print(\"22 pulgadas son: \",b)\n",
    "\n",
    "#Tengo parte de la medida en pies y otra parte en pulgadas\n",
    "\n",
    "c = cm(pies=5, pulgadas=3.5)\n",
    "print(\"5 pies y 3.5 pulgadas son: \",c)\n",
    "\n",
    "# E incluso puedo invertir los argumentos y lo puedo hacer porque \n",
    "# tiene nombres las variables\n",
    "\n",
    "d = cm(pulgadas=3.5,pies=5)\n",
    "print(\"3.5 pulgadas y 5 pies on: \",d) \n"
   ]
  },
  {
   "cell_type": "markdown",
   "metadata": {},
   "source": [
    "Puedo mezclar argumentos de ambos tipos, pero los de tipo \"keyword\" tienen que ir al final.\n",
    "\n",
    "Pero estos últimos no tiene un orden si los escribo como __variable=dato__"
   ]
  },
  {
   "cell_type": "markdown",
   "metadata": {},
   "source": [
    "---\n",
    "También puedo asignar la función a una variable con cierto nombre y utilizar ese nombre para el cálculo.\n",
    "Veamos:"
   ]
  },
  {
   "cell_type": "code",
   "execution_count": 10,
   "metadata": {
    "scrolled": true
   },
   "outputs": [
    {
     "name": "stdout",
     "output_type": "stream",
     "text": [
      "125\n"
     ]
    }
   ],
   "source": [
    "X = func_cubo\n",
    "\n",
    "print(X(5))\n"
   ]
  },
  {
   "cell_type": "markdown",
   "metadata": {},
   "source": [
    "Aunque lo que sucedió a que el objeto que contiene la función tiene ahora más de un nombre. Es decir, no se copió."
   ]
  },
  {
   "cell_type": "markdown",
   "metadata": {},
   "source": [
    "# \\*args y \\**kargs\n",
    "\n",
    "\n",
    "Veamos el caso de una facilidad que tiene Python de hacer variable la cantidad de argumentos tanto los posicionales como los argumentos \"Keywords\" que envio a una función.\n",
    "\n",
    "\n",
    "## Caso de una cantidad arbitraria de argumentos posicionales (\\*args)\n",
    "\n",
    "\n",
    "Si por ejemplo realizo un programa que utiliza una función que calcula el promedio por ejemplo para 3 números,\n",
    "lo haría de la siguente manera:\n",
    "Es decir le envio 3 argumentos     "
   ]
  },
  {
   "cell_type": "code",
   "execution_count": 11,
   "metadata": {},
   "outputs": [
    {
     "name": "stdout",
     "output_type": "stream",
     "text": [
      "3.0\n"
     ]
    }
   ],
   "source": [
    "def prom(x,y,z):\n",
    "    prom = (x+y+z)/3\n",
    "    return prom\n",
    "\n",
    "print(prom(2,3,4))"
   ]
  },
  {
   "cell_type": "markdown",
   "metadata": {},
   "source": [
    "De esta manera funcionaría, pero no me serviría para promediar más de 3 números o menos de 2. Existe una manera de\n",
    "universalizar para que el programa me sirva para una cantidad no determina de números. Es decir, que yo pueda mandar una cantidad de arguemtos posicionales arbitraria. \n",
    "\n",
    "Para realizar esta tarea tengo que indicar que la cantidad de argumentos no se conoce, sólo se sabrá al momento de la llamada a la función. Para eso uso  **\\*args** como argumento al momento de la definción de la función.\n",
    "\n",
    "Note el uso del símbolo **\\*** para indicar que se trata de una cantidad aleatoria de argumentos\n",
    "que se guardarán en la tupla con nombre **args**\n",
    "\n",
    "Por ejemplo:"
   ]
  },
  {
   "cell_type": "code",
   "execution_count": 12,
   "metadata": {},
   "outputs": [
    {
     "name": "stdout",
     "output_type": "stream",
     "text": [
      "Promedio = 67.33333333333333\n",
      "\n",
      "Promedio = 4.0\n"
     ]
    }
   ],
   "source": [
    "# función con una cantidad variable de argumentos\n",
    "def prom(*args):\n",
    "    sum = 0\n",
    "    for i in args:\n",
    "        # calculo la suma total\n",
    "        sum = sum + i\n",
    "    # calculo el promedio\n",
    "    promedio = sum / len(args)  # en vez len() podría haber puesto un contador, \n",
    "                                # pero usar len() es más rápido.\n",
    "    print('Promedio =', promedio)\n",
    "\n",
    "    \n",
    "prom(156, 23, 23)\n",
    "print()\n",
    "prom(2,3,4,5,6)"
   ]
  },
  {
   "cell_type": "markdown",
   "metadata": {},
   "source": [
    "\n",
    "\n",
    "## Caso de una cantidad arbitraria de argumentos de teclado  (\\*\\*kwargs)\n",
    "\n",
    "Si quisiera hacer la misma operación pero con una cantidad de argumentos de teclado, tendría que usar como argumento de la función, por ejemplo, el nombre \\*\\***kwargs**. El doble símbolo \\**  indica que se trata de argumentos de teclado.\n",
    "Los argumentos pasarán entonces a la función la cual los verá internamente como un diccionario. Por lo cual, los datos serán accesibles a través de un sistema llave-dato. Es decir para una llave determinada corresponde cierto dato.\n",
    "\n",
    "Ejemplo:\n"
   ]
  },
  {
   "cell_type": "code",
   "execution_count": 13,
   "metadata": {},
   "outputs": [
    {
     "name": "stdout",
     "output_type": "stream",
     "text": [
      "matemática = 56\n",
      "física = 61\n",
      "química = 73\n",
      "\n"
     ]
    }
   ],
   "source": [
    "def porcentaje(**kwargs):\n",
    "    sum = 0\n",
    "    for sub in kwargs:\n",
    "        # get argument name\n",
    "        sub_nombre = sub\n",
    "        # get argument value\n",
    "        sub_nota = kwargs[sub]\n",
    "        print(sub_nombre, \"=\", sub_nota)\n",
    "\n",
    "# envio varios arguemtnos de teclado \n",
    "porcentaje(matemática=56, física=61, química=73)\n",
    "print()\n"
   ]
  },
  {
   "cell_type": "markdown",
   "metadata": {},
   "source": [
    "Por lo cual debemos considerar que hay 4 tipos de argumentos en la llamada de una función en Python:\n",
    "\n",
    "* Argumentos default (los que indico al construir la función)\n",
    "* Argumentos posicionales (se indentifican con la variable por la posición)\n",
    "* Argumentos de Teclado (Son argumentos en los cuales modifico los valores indicados en el default)\n",
    "* Argumentos que tienen una cantidad variable de elementos (\\*args y \\*\\*kwargs)\n",
    "\n",
    "Veamos ejemplos:"
   ]
  },
  {
   "cell_type": "code",
   "execution_count": 14,
   "metadata": {},
   "outputs": [],
   "source": [
    "def add(a,b=5,c=10):\n",
    "    return (a+b+c)\n"
   ]
  },
  {
   "cell_type": "markdown",
   "metadata": {},
   "source": [
    "Y podría hacer:"
   ]
  },
  {
   "cell_type": "markdown",
   "metadata": {},
   "source": [
    "Por lo cual ahora los argumentos son posicionales, es decir identifico cuál es cuál por su posición.\n",
    "\n",
    "O podría hacer lo siguiente:"
   ]
  },
  {
   "cell_type": "code",
   "execution_count": 15,
   "metadata": {},
   "outputs": [
    {
     "name": "stdout",
     "output_type": "stream",
     "text": [
      "41\n"
     ]
    }
   ],
   "source": [
    "print(add(b=24,c=5,a=12))"
   ]
  },
  {
   "cell_type": "markdown",
   "metadata": {},
   "source": [
    "Con lo cual ahora son argumentos de teclado, donde cada variable es indicada por nombre y valor"
   ]
  },
  {
   "cell_type": "markdown",
   "metadata": {},
   "source": [
    "### Reglas para los argumentos\n",
    "\n",
    "* Los argumentos default deben seguir después de los argumentos que no son default\n",
    "* Los argumentos de teclado deben seguir después de los aguemtnos posicionales.\n",
    "* Los argumentos de teclado deben indicar un nombre de una variable declarada en la definición de la función. Su orden no es importante.\n",
    "* Ningúno de los argumentos puede recibir más de un valor \n",
    "* Los argumentos default son opcionales al momento de la llamada a la función."
   ]
  },
  {
   "cell_type": "markdown",
   "metadata": {},
   "source": [
    "---\n",
    "\n",
    "Las funciones pueden devolver más de un resultado. En cierta manera\n",
    "violando la idea que uno ha aprendido en análisis matemático.\n",
    "Cuando son varios los resultados este es retornado en forma de tupla.\n",
    "\n",
    "Por ejemplo:"
   ]
  },
  {
   "cell_type": "code",
   "execution_count": 16,
   "metadata": {},
   "outputs": [
    {
     "name": "stdout",
     "output_type": "stream",
     "text": [
      "Para x=3 (9, 27)\n",
      "Para x=4 (16, 64)\n",
      "Para x=5 (25, 125)\n"
     ]
    }
   ],
   "source": [
    "def cuadrado_cubo(x):\n",
    "    x2 = x*x\n",
    "    x3 = x2*x\n",
    "    return(x2,x3)\n",
    "\n",
    "print(\"Para x=3\",cuadrado_cubo(3))\n",
    "print(\"Para x=4\",cuadrado_cubo(4))\n",
    "print(\"Para x=5\",cuadrado_cubo(5))"
   ]
  },
  {
   "cell_type": "markdown",
   "metadata": {},
   "source": [
    "Note que los resultados están englobados por ( ) indicando que es una tupla.\n",
    "\n",
    "---"
   ]
  },
  {
   "cell_type": "markdown",
   "metadata": {},
   "source": [
    "La orden **dir** sirve para listar las funciones cargadas en la memoria. En esa lista habrá funciones del sistema y las que agregué en las celdas anteriores.\n"
   ]
  },
  {
   "cell_type": "code",
   "execution_count": 17,
   "metadata": {},
   "outputs": [
    {
     "name": "stdout",
     "output_type": "stream",
     "text": [
      "['D', 'E', 'In', 'Out', 'X', '_', '_4', '__', '___', '__builtin__', '__builtins__', '__doc__', '__loader__', '__name__', '__package__', '__spec__', '_dh', '_i', '_i1', '_i10', '_i11', '_i12', '_i13', '_i14', '_i15', '_i16', '_i17', '_i2', '_i3', '_i4', '_i5', '_i6', '_i7', '_i8', '_i9', '_ih', '_ii', '_iii', '_oh', 'a', 'add', 'b', 'c', 'cm', 'cuadrado_cubo', 'cubo', 'd', 'exit', 'func_cubo', 'func_rara', 'get_ipython', 'porcentaje', 'prom', 'quit']\n"
     ]
    }
   ],
   "source": [
    "print(dir())"
   ]
  },
  {
   "cell_type": "markdown",
   "metadata": {},
   "source": [
    "Puede verse que las funciones cubo, func_cubo, func_rara y X que creamos en este notebook hasta ahora, están como funciones en el sistema Python que estamos corriendo.\n",
    "\n"
   ]
  },
  {
   "cell_type": "markdown",
   "metadata": {
    "colab": {},
    "colab_type": "code",
    "id": "dTJbtXRGQOTb"
   },
   "source": [
    "También podría devolver más de un valor. La construcción sería de esta forma, ya que la orden return debería indicar todos los valores a devolver\n",
    "\n",
    "\n",
    "```\n",
    "def algo():\n",
    "    ...\n",
    "    return(a,b)\n",
    "    \n",
    "x,y=algo()\n",
    "```"
   ]
  },
  {
   "cell_type": "markdown",
   "metadata": {
    "colab_type": "text",
    "id": "_kjE6QYlQOTU"
   },
   "source": [
    "# Función Lambda (Lambda expression)\n",
    "\n",
    "La función lambda es para crear funciones de una línea, y son equivalentes en todos sus aspectos a la función sentencia de Fortran.\n",
    "\n",
    "En Python se las considera como funciones sin nombre, pero que tienen mucha utilidad en algunos casos.\n",
    "\n",
    "por ejemplo, si defino "
   ]
  },
  {
   "cell_type": "code",
   "execution_count": 18,
   "metadata": {},
   "outputs": [
    {
     "data": {
      "text/plain": [
       "<function __main__.<lambda>(x)>"
      ]
     },
     "execution_count": 18,
     "metadata": {},
     "output_type": "execute_result"
    }
   ],
   "source": [
    "lambda x: x**2\n"
   ]
  },
  {
   "cell_type": "markdown",
   "metadata": {},
   "source": [
    "El sistema me dice que es una función, pero no tiene nombre. Para poder usarla tengo que asginarla a una variable"
   ]
  },
  {
   "cell_type": "code",
   "execution_count": 19,
   "metadata": {},
   "outputs": [
    {
     "name": "stdout",
     "output_type": "stream",
     "text": [
      "4\n"
     ]
    }
   ],
   "source": [
    "f = lambda x: x**2\n",
    "# si la llamo con un argumento\n",
    "print(f(2))"
   ]
  },
  {
   "cell_type": "markdown",
   "metadata": {},
   "source": [
    "Funciona!!!\n",
    "\n",
    "Y se la puede construir con muchas entradas de datos, no solo una. Por ejemplo:"
   ]
  },
  {
   "cell_type": "code",
   "execution_count": 20,
   "metadata": {
    "colab": {},
    "colab_type": "code",
    "id": "EVT3pd9ZQOTU"
   },
   "outputs": [
    {
     "data": {
      "text/plain": [
       "3.7416573867739413"
      ]
     },
     "execution_count": 20,
     "metadata": {},
     "output_type": "execute_result"
    }
   ],
   "source": [
    "J = lambda x, y, z: (x**2 + y**2 + z**2)**0.5\n",
    "J(1,2,3)"
   ]
  },
  {
   "cell_type": "markdown",
   "metadata": {},
   "source": [
    "Entonces la forma general para crear una expresión Lambda sería:\n",
    "\n",
    "**lambda variables: *expresión matematica en función de las variables que se ingresaron***\n",
    "\n",
    "Y el caso más extremo sería ni siquiera darle una variable"
   ]
  },
  {
   "cell_type": "code",
   "execution_count": 21,
   "metadata": {},
   "outputs": [
    {
     "name": "stdout",
     "output_type": "stream",
     "text": [
      "¿Para qué sirvo?\n"
     ]
    }
   ],
   "source": [
    "f1 = lambda: \"¿Para qué sirvo?\"\n",
    "\n",
    "print(f1())"
   ]
  },
  {
   "cell_type": "markdown",
   "metadata": {
    "colab_type": "text",
    "id": "tjvDqMR7QOTa"
   },
   "source": [
    "# Recursividad\n",
    "\n",
    "La funciones en Python son recursivas, veamos el ejemplo del factorial\n",
    "\n",
    "$n!=n(n-1)!=n(n-1)(n-2)!=n(n-1)(n-2)....1$\n",
    "\n"
   ]
  },
  {
   "cell_type": "code",
   "execution_count": 22,
   "metadata": {
    "colab": {},
    "colab_type": "code",
    "id": "dTJbtXRGQOTb"
   },
   "outputs": [
    {
     "name": "stdout",
     "output_type": "stream",
     "text": [
      "120\n",
      "2432902008176640000\n",
      "3628800\n"
     ]
    }
   ],
   "source": [
    "def fact(n):\n",
    "    if n <= 0:\n",
    "        return 1\n",
    "    return n*fact(n-1)\n",
    "\n",
    "\n",
    "print(fact(5))\n",
    "print(fact(20)) \n",
    "print(fact(10))"
   ]
  },
  {
   "cell_type": "markdown",
   "metadata": {
    "colab_type": "text",
    "id": "oiJ3aL6ZQOTe"
   },
   "source": [
    "# Funciones que están en archivos"
   ]
  },
  {
   "cell_type": "markdown",
   "metadata": {
    "colab_type": "text",
    "id": "Cm379vjlQOTe"
   },
   "source": [
    "### Quiero tener en un archivo que se llama ex1, la función siguiente\n",
    "\n",
    "def f1(x):\n",
    "\n",
    "    \"\"\"\n",
    "    Este es un ejemplo de la función que devuelve: x**2    - parameter: x\n",
    "    \"\"\"\n",
    "    return x**2\n",
    "    \n",
    "Lo voy a crear con la celda siguente, ya que al correr la orden:\n",
    "%%writefile ex1.py  graba la celda a un archivo"
   ]
  },
  {
   "cell_type": "code",
   "execution_count": 23,
   "metadata": {},
   "outputs": [
    {
     "name": "stdout",
     "output_type": "stream",
     "text": [
      "Overwriting ex1.py\n"
     ]
    }
   ],
   "source": [
    "%%writefile ex1.py \n",
    "# Lo que está en esta celda se salvará a un archivo con nombre \"ex1.py\"\n",
    "def f1(x):\n",
    "    \"\"\"\n",
    "    Este es un ejemplo de la función que devuelve: x**2   \n",
    "    y parámetro es x\n",
    "    \"\"\"\n",
    "    return x**2"
   ]
  },
  {
   "cell_type": "code",
   "execution_count": 24,
   "metadata": {
    "colab": {},
    "colab_type": "code",
    "id": "zr2V9yS-QOTf"
   },
   "outputs": [
    {
     "name": "stdout",
     "output_type": "stream",
     "text": [
      "16\n"
     ]
    }
   ],
   "source": [
    "import ex1 \n",
    "\n",
    "# Esto importa un archivo que se llama ex1.py del directorio \n",
    "# o de los directorios que indique poniendo el camino.\n",
    "# El hecho de que muchos usuarios escriben y comparten funciones\n",
    "# es lo que impulsó a Python en el área científica.\n",
    "\n",
    "print(ex1.f1(4))"
   ]
  },
  {
   "cell_type": "code",
   "execution_count": 25,
   "metadata": {
    "colab": {},
    "colab_type": "code",
    "id": "NAEFuRbqQOTi"
   },
   "outputs": [
    {
     "name": "stdout",
     "output_type": "stream",
     "text": [
      "9\n"
     ]
    }
   ],
   "source": [
    "from ex1 import f1\n",
    "print(f1(3))\n",
    "\n",
    "#Cargo de ex1 SÓLO la función f1"
   ]
  },
  {
   "cell_type": "code",
   "execution_count": 26,
   "metadata": {
    "colab": {},
    "colab_type": "code",
    "id": "BQsbxS3oQOTl"
   },
   "outputs": [
    {
     "name": "stdout",
     "output_type": "stream",
     "text": [
      "16\n"
     ]
    }
   ],
   "source": [
    "from ex1 import * # Aquí cargo todas las funciones. Lo cual es una \n",
    "                  # mala idea se cargan todas las funciones con su\n",
    "                  # nombre y pueden sobreescribir otros nombres \n",
    "                  # que estaba usando para las funciones\n",
    "\n",
    "print(f1(4))\n"
   ]
  },
  {
   "cell_type": "code",
   "execution_count": 27,
   "metadata": {
    "colab": {},
    "colab_type": "code",
    "id": "IcgoH5k1QOTp"
   },
   "outputs": [
    {
     "name": "stdout",
     "output_type": "stream",
     "text": [
      "100\n"
     ]
    }
   ],
   "source": [
    "import ex1 as tt\n",
    "print(tt.f1(10))\n",
    "\n",
    "# Ahora cargo todas las funciones de ex1, pero las tengo \n",
    "# que llamar con el prefijo tt en el nombre, es decir la\n",
    "# función f1() es ahora tt.f1 \n",
    "\n"
   ]
  },
  {
   "cell_type": "markdown",
   "metadata": {
    "colab_type": "text",
    "id": "gpknu6C2fvkW"
   },
   "source": [
    "# Importando Librerías\n",
    "No todas las funciones de Python que lo han hecho tan famoso y requerido están en el lenguaje, sino que  muchas de las más usadas son externas a Python.\n",
    "Para usar estas funciones hay que \"importarlas\". Por lo cual hay que indicarle a nuestro programa que las cargue y de esta manera\n",
    "adquiera nuevas capacidades.\n",
    "\n",
    "Incluso esto es válido para el caso de que se necesite usar funciones matemáticas trascedentes, ya que el Python en su versión original no las trae cargadas. Por ejemplo, Python no tiene funciones intrínsecas de matemática como el Fortran.\n",
    "\n",
    "Por ejemplo:\n",
    "\n",
    "calcular: print(sin(3.))  daría error, la funciones trigonoméricas no están construidas\n",
    "por default dentro de Python."
   ]
  },
  {
   "cell_type": "code",
   "execution_count": 28,
   "metadata": {
    "colab": {},
    "colab_type": "code",
    "id": "C6NLPj50f4Xw"
   },
   "outputs": [],
   "source": [
    "#print(sin(3.))  # si se eliminina el # y se corre la celda da error."
   ]
  },
  {
   "cell_type": "markdown",
   "metadata": {},
   "source": [
    "Pero en cambio si importo la funciones matemáticas que están en la librería **math** ya lo puedo usar. Lo haríamos de la siguiente manera:\n"
   ]
  },
  {
   "cell_type": "code",
   "execution_count": 29,
   "metadata": {
    "colab": {},
    "colab_type": "code",
    "id": "kgsGGdGPf4Wk"
   },
   "outputs": [
    {
     "name": "stdout",
     "output_type": "stream",
     "text": [
      "0.1411200080598672\n"
     ]
    }
   ],
   "source": [
    "import math\n",
    "print(math.sin(3.))"
   ]
  },
  {
   "cell_type": "code",
   "execution_count": 30,
   "metadata": {
    "colab": {},
    "colab_type": "code",
    "id": "B9aiWUYbgEiK",
    "scrolled": false
   },
   "outputs": [
    {
     "name": "stdout",
     "output_type": "stream",
     "text": [
      "Help on built-in function sin in module math:\n",
      "\n",
      "sin(x, /)\n",
      "    Return the sine of x (measured in radians).\n",
      "\n"
     ]
    }
   ],
   "source": [
    "help(math.sin)"
   ]
  },
  {
   "cell_type": "code",
   "execution_count": 31,
   "metadata": {
    "colab": {},
    "colab_type": "code",
    "id": "Hbc405kVgTqR"
   },
   "outputs": [
    {
     "name": "stdout",
     "output_type": "stream",
     "text": [
      "3.141592653589793\n"
     ]
    }
   ],
   "source": [
    "print(math.pi)"
   ]
  },
  {
   "cell_type": "markdown",
   "metadata": {
    "tags": [
     "hide_code"
    ]
   },
   "source": [
    "[<< Estructuras de Control](Clase_Estructuras_de_control.html) | [home](index.html) | [Iteradores - Generadores >>](Clase_Iteradores.html)"
   ]
  }
 ],
 "metadata": {
  "colab": {
   "name": "Clase_2_Variables.ipynb",
   "provenance": []
  },
  "kernelspec": {
   "display_name": "Python 3",
   "language": "python",
   "name": "python3"
  },
  "language_info": {
   "codemirror_mode": {
    "name": "ipython",
    "version": 3
   },
   "file_extension": ".py",
   "mimetype": "text/x-python",
   "name": "python",
   "nbconvert_exporter": "python",
   "pygments_lexer": "ipython3",
   "version": "3.7.9"
  }
 },
 "nbformat": 4,
 "nbformat_minor": 1
}
