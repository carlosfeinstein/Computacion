{
 "cells": [
  {
   "cell_type": "markdown",
   "metadata": {},
   "source": [
    " \n",
    "\n",
    "El proyecto AstroPy es un esfuerzo de la comunidad para desarrollar un paquete para uso astronómico usando Python como lenguaje. Sus principales metas son una mejora de usabilidad, interoperatibilidad aprovechando la colaboracion entre astronómos. La parte principal del software está pensado para el uso profesional de astrónomos y astrofísicos, pero podría ser utilizado por cualquiera desarrollando software para una aplicación astronómica o geodésica.\n",
    "El proyecto también incluye paquetes de software afiliados no programados por los desarrolladores principales pero que mantienen las metas que se proyectan para AstroPy y muchas veces incluso se basan en el software principal de AstroPy \n",
    "\n",
    "La página del proyecto con mucha información sobre este es: www.astropy.org\n",
    "Mientras que los paquetes de software afiliados se encuentran en <a href=\"http://affiliated.astropy.org\"> affiliated.astropy.org </a> \n",
    "\n",
    "AstroPy se divide en varios temas en concreto en donde se ofrecen soluciones, estos son:\n",
    "\n",
    ">* Datos, sus estructuras y transformaciones\n",
    ">* Archivos, entrada/salida de datos y comunicación\n",
    ">* Cálculos y utilidades\n",
    ">* Sistema de AstroPy (documentación de como funciona - Nuts and Bolts)\n",
    "\n",
    "Muchos de los ejemplos de este notebook son de la página www.astropy.org\n",
    "\n",
    "Veremos sólo algunas de sus utilidades principales:"
   ]
  },
  {
   "cell_type": "markdown",
   "metadata": {},
   "source": [
    "# Constantes\n",
    "\n",
    "Astropy.constants contiene un número muy importante de constantes físicas de uso astronómico. Cada una de estas constante es un objeto que contiene metadata describiendo su origen e incertezas.\n",
    "\n",
    "Veamos algunos ejemplos:"
   ]
  },
  {
   "cell_type": "code",
   "execution_count": 1,
   "metadata": {},
   "outputs": [
    {
     "name": "stdout",
     "output_type": "stream",
     "text": [
      "  Name   = Gravitational constant\n",
      "  Value  = 6.6743e-11\n",
      "  Uncertainty  = 1.5e-15\n",
      "  Unit  = m3 / (kg s2)\n",
      "  Reference = CODATA 2018\n"
     ]
    }
   ],
   "source": [
    "import numpy as np\n",
    "import astropy\n",
    "from astropy.constants import G\n",
    "print(G)\n"
   ]
  },
  {
   "cell_type": "code",
   "execution_count": 2,
   "metadata": {},
   "outputs": [
    {
     "name": "stdout",
     "output_type": "stream",
     "text": [
      "6.6743e-11\n"
     ]
    }
   ],
   "source": [
    "# también puedo hacer:\n",
    "print(G.value)\n",
    "# y utilizar este valor en un cálculo"
   ]
  },
  {
   "cell_type": "markdown",
   "metadata": {},
   "source": [
    "Otra manera sería hacer un \"import\" todas las constantes y luego acceder a la que se quiere usar."
   ]
  },
  {
   "cell_type": "code",
   "execution_count": 3,
   "metadata": {},
   "outputs": [
    {
     "name": "stdout",
     "output_type": "stream",
     "text": [
      "  Name   = Gravitational constant\n",
      "  Value  = 6.6743e-11\n",
      "  Uncertainty  = 1.5e-15\n",
      "  Unit  = m3 / (kg s2)\n",
      "  Reference = CODATA 2018\n",
      "\n",
      "  Name   = Speed of light in vacuum\n",
      "  Value  = 299792458.0\n",
      "  Uncertainty  = 0.0\n",
      "  Unit  = m / s\n",
      "  Reference = CODATA 2018\n"
     ]
    }
   ],
   "source": [
    "from astropy import constants as const\n",
    "print(const.G)\n",
    "print(\"\")\n",
    "print(const.c)"
   ]
  },
  {
   "cell_type": "markdown",
   "metadata": {},
   "source": [
    "Las constantes están organizadas en módulos, y diferentes módulos pueden accederse en forma particular.\n",
    "Ejemplos de estos módulos son codata2010, codata2014 o codata2018 para constantes físicas. Para constantes astronómicas en posible acceder a constantes reguladas por la Union Astronómica Internacional (IAU) como iau2012 o iau2015. Esto se debe a que muchas constantes son remedidas constatemente y han cambiado su valor en la medida que se han obtenido mejores valores de estas.\n",
    "\n",
    "Por ejemplo veamos el caso de la luminosidad solar:"
   ]
  },
  {
   "cell_type": "code",
   "execution_count": 4,
   "metadata": {},
   "outputs": [
    {
     "name": "stdout",
     "output_type": "stream",
     "text": [
      "  Name   = Solar luminosity\n",
      "  Value  = 3.846e+26\n",
      "  Uncertainty  = 5e+22\n",
      "  Unit  = W\n",
      "  Reference = Allen's Astrophysical Quantities 4th Ed.\n",
      "\n",
      "  Name   = Nominal solar luminosity\n",
      "  Value  = 3.828e+26\n",
      "  Uncertainty  = 0.0\n",
      "  Unit  = W\n",
      "  Reference = IAU 2015 Resolution B 3\n"
     ]
    }
   ],
   "source": [
    "from astropy.constants import iau2012 as const\n",
    "print(const.L_sun)\n",
    "print(\"\")\n",
    "from astropy.constants import iau2015 as const\n",
    "print(const.L_sun)"
   ]
  },
  {
   "cell_type": "markdown",
   "metadata": {},
   "source": [
    "# Unidades\n",
    "\n",
    "Todos sabemos la importancia de las unidades en cálculos, pero la astronomía mantiene dos sistemas unidades. El primero relacionado con las propias características de las observaciones astronómicas y el segundo MKS o CGS mucho más convencional y relacionado con parámetros de los laboratorios de física. \n",
    "\n",
    "Astropy tiene la capacidad de manejar unidades, como atributos del objeto, pero con métodos que permiten el cálculo de transformación de unidades:\n",
    "\n",
    "Para esta tarea, usamos el paquete **units**\n",
    "Si lo importo como **from astropy import units as u** todo lo que empieza con **u.algo** se considera que el valor está en unidades **algo**"
   ]
  },
  {
   "cell_type": "markdown",
   "metadata": {},
   "source": [
    "En este ejemplo, que proviene de la página de AstroPy. En este caso quiero averiguar cuanto es la fuerza de atracción gravitatoria del Sol sobre un objeto de 100 kg  a la distancia 2.2 unidades astronómicas.\n",
    "Pero cuando ejecute el comando print quiero que el resultado esté en Newtons.\n",
    "\n",
    "$F = G M_\\odot m_i / r^2$"
   ]
  },
  {
   "cell_type": "code",
   "execution_count": 5,
   "metadata": {},
   "outputs": [
    {
     "name": "stdout",
     "output_type": "stream",
     "text": [
      "0.12252238673869421 N\n"
     ]
    }
   ],
   "source": [
    "from astropy import constants as const\n",
    "from astropy import units as u\n",
    "\n",
    "F = (const.G  * const.M_sun * 100 * u.kg) / (2.2 * u.au) ** 2\n",
    "print(F.to(u.N))    # <-- Preste atención al \".to\""
   ]
  },
  {
   "cell_type": "markdown",
   "metadata": {},
   "source": [
    "Pero si lo imprimo sin poner una unidad determinada"
   ]
  },
  {
   "cell_type": "code",
   "execution_count": 6,
   "metadata": {},
   "outputs": [
    {
     "name": "stdout",
     "output_type": "stream",
     "text": [
      "2.7419925619834707e+21 kg m3 / (AU2 s2)\n"
     ]
    }
   ],
   "source": [
    "print(F)"
   ]
  },
  {
   "cell_type": "markdown",
   "metadata": {},
   "source": [
    "También puedo convertir las constantes a la unidad que necesite. Por ejemplo, la velocidad de la luz en diferentes unidades."
   ]
  },
  {
   "cell_type": "code",
   "execution_count": 7,
   "metadata": {},
   "outputs": [
    {
     "name": "stdout",
     "output_type": "stream",
     "text": [
      "  Name   = Speed of light in vacuum\n",
      "  Value  = 299792458.0\n",
      "  Uncertainty  = 0.0\n",
      "  Unit  = m / s\n",
      "  Reference = CODATA 2018\n",
      "\n",
      "La paso a kilómetros/segundo\n",
      "299792.458 km / s\n",
      "\n",
      "A Parsec/año\n",
      "0.30660139378555057 pc / yr\n",
      "\n",
      "O en CGS (Centímetro, Gramo, Segundo)\n",
      "29979245800.0 cm / s\n",
      "\n"
     ]
    }
   ],
   "source": [
    "print(const.c)\n",
    "print(\"\")\n",
    "print(\"La paso a kilómetros/segundo\")\n",
    "print(const.c.to('km/s'))\n",
    "print(\"\")\n",
    "print(\"A Parsec/año\")\n",
    "print(const.c.to('pc/yr'))  \n",
    "print(\"\")\n",
    "print(\"O en CGS (Centímetro, Gramo, Segundo)\")\n",
    "print(const.c.cgs)\n",
    "print(\"\")"
   ]
  },
  {
   "cell_type": "markdown",
   "metadata": {},
   "source": [
    "Como se puede ver las constantes tienen impresas sus unidades y como el sistema de unidades es bastante flexible, por ejemplo si saco la raíz cuadrada de la velocidad de la luz ($\\sqrt c$)"
   ]
  },
  {
   "cell_type": "code",
   "execution_count": 8,
   "metadata": {},
   "outputs": [
    {
     "name": "stdout",
     "output_type": "stream",
     "text": [
      "17314.51581766005 m(1/2) / s(1/2)\n",
      "5.6528191258897845e+85 kg4 m12 / (AU8 s8)\n"
     ]
    }
   ],
   "source": [
    "print(np.sqrt(const.c))\n",
    "F2=F**2\n",
    "print(F2**2)"
   ]
  },
  {
   "cell_type": "markdown",
   "metadata": {},
   "source": [
    "Para el caso de unidades redundantes es decir hay unidades del mismo tipo (distancia, tiempo, etc) en el numerador y en el denominador, la función decompose( ) puede ser usada para revizarlas y simplificarlas."
   ]
  },
  {
   "cell_type": "code",
   "execution_count": 9,
   "metadata": {},
   "outputs": [
    {
     "name": "stdout",
     "output_type": "stream",
     "text": [
      "0.17086813271013718 km s / m\n",
      "170.8681327101372 s\n",
      "170.8681327101372 s\n"
     ]
    }
   ],
   "source": [
    "t = 22.3 * u.kilometer / (130.51 * u.meter / u.second)\n",
    "\n",
    "print(t)\n",
    "print(t.decompose())\n",
    "# o para F2\n",
    "print(t.decompose())"
   ]
  },
  {
   "cell_type": "markdown",
   "metadata": {},
   "source": [
    "También tengo unidades de longitud de onda, tanto en Ångstrom como nanometros (nm)"
   ]
  },
  {
   "cell_type": "code",
   "execution_count": 10,
   "metadata": {},
   "outputs": [
    {
     "name": "stdout",
     "output_type": "stream",
     "text": [
      "500.70000000000005 nm\n",
      "0.5007000000000001 micron\n",
      "5007.0 Angstrom\n"
     ]
    }
   ],
   "source": [
    "lam = 5007 * u.angstrom\n",
    "\n",
    "print(lam.to(u.nm))\n",
    "print(lam.to(u.micron))\n",
    "print(lam)"
   ]
  },
  {
   "cell_type": "markdown",
   "metadata": {},
   "source": [
    "Aunque algunos cambios de unidadades necesitarían alguna información adicional.\n",
    "Por ejemplo, transformar electronvolts en unidades de longitud de onda."
   ]
  },
  {
   "cell_type": "code",
   "execution_count": 11,
   "metadata": {},
   "outputs": [
    {
     "name": "stdout",
     "output_type": "stream",
     "text": [
      "2.4762172644937133 eV\n"
     ]
    }
   ],
   "source": [
    "print(lam.to(u.eV, equivalencies=u.spectral()))"
   ]
  },
  {
   "cell_type": "markdown",
   "metadata": {},
   "source": [
    "# Coordenadas\n",
    "\n",
    "AstroPy conoce todos los sistemas de coordenadas astronómicos y sus transformaciones\n"
   ]
  },
  {
   "cell_type": "code",
   "execution_count": 12,
   "metadata": {},
   "outputs": [],
   "source": [
    "from astropy.coordinates import SkyCoord"
   ]
  },
  {
   "cell_type": "code",
   "execution_count": 15,
   "metadata": {},
   "outputs": [
    {
     "name": "stdout",
     "output_type": "stream",
     "text": [
      "RA: 10d41m04.488s\n"
     ]
    }
   ],
   "source": [
    "# Escribo una coordenada de un astro\n",
    "c = SkyCoord(ra=10.68458*u.degree, dec=41.26917*u.degree)\n",
    "\n",
    "print(\"RA:\",c.ra)  "
   ]
  },
  {
   "cell_type": "code",
   "execution_count": 16,
   "metadata": {},
   "outputs": [
    {
     "name": "stdout",
     "output_type": "stream",
     "text": [
      "La hora en RA: 0.7123053333333335\n"
     ]
    }
   ],
   "source": [
    "print(\"La hora en RA:\",c.ra.hour)"
   ]
  },
  {
   "cell_type": "code",
   "execution_count": 17,
   "metadata": {},
   "outputs": [
    {
     "name": "stdout",
     "output_type": "stream",
     "text": [
      "La Coordenadas en hms: hms_tuple(h=0.0, m=42.0, s=44.299200000000525)\n"
     ]
    }
   ],
   "source": [
    "print(\"La Coordenadas en hms:\",c.ra.hms)"
   ]
  },
  {
   "cell_type": "code",
   "execution_count": 18,
   "metadata": {},
   "outputs": [
    {
     "name": "stdout",
     "output_type": "stream",
     "text": [
      "La declinación: 41d16m09.012s\n"
     ]
    }
   ],
   "source": [
    "print(\"La declinación:\",c.dec)"
   ]
  },
  {
   "cell_type": "code",
   "execution_count": 19,
   "metadata": {},
   "outputs": [
    {
     "name": "stdout",
     "output_type": "stream",
     "text": [
      "La declinación en grados: 41.26917\n"
     ]
    }
   ],
   "source": [
    "print(\"La declinación en grados:\",c.dec.degree)  "
   ]
  },
  {
   "cell_type": "code",
   "execution_count": 20,
   "metadata": {},
   "outputs": [
    {
     "name": "stdout",
     "output_type": "stream",
     "text": [
      "La declinación en radianes: 0.7202828960652683\n"
     ]
    }
   ],
   "source": [
    "print(\"La declinación en radianes:\",c.dec.radian)  "
   ]
  },
  {
   "cell_type": "markdown",
   "metadata": {},
   "source": [
    "# Transformaciones de Coordenadas\n",
    "\n",
    "AstroPy conoce distintos sistemas de coordenadas y sus transformaciones \n",
    "\n",
    "Cargo unas coordenadas"
   ]
  },
  {
   "cell_type": "code",
   "execution_count": 23,
   "metadata": {},
   "outputs": [],
   "source": [
    "c = SkyCoord(ra=14.68458*u.degree, dec=41.26917*u.degree)"
   ]
  },
  {
   "cell_type": "code",
   "execution_count": 24,
   "metadata": {
    "scrolled": false
   },
   "outputs": [
    {
     "name": "stdout",
     "output_type": "stream",
     "text": [
      "<SkyCoord (Galactic): (l, b) in deg\n",
      "    (124.40704063, -21.58166707)>\n"
     ]
    }
   ],
   "source": [
    "# A a coordenadas Galácticas\n",
    "print(c.galactic)\n"
   ]
  },
  {
   "cell_type": "code",
   "execution_count": 25,
   "metadata": {},
   "outputs": [
    {
     "name": "stdout",
     "output_type": "stream",
     "text": [
      "14d41m04.488s 41d16m09.012s\n"
     ]
    }
   ],
   "source": [
    "# A grados, minutos y segundos\n",
    "print(c.to_string('dms'))"
   ]
  },
  {
   "cell_type": "code",
   "execution_count": 26,
   "metadata": {},
   "outputs": [
    {
     "name": "stdout",
     "output_type": "stream",
     "text": [
      "00h58m44.2992s +41d16m09.012s\n"
     ]
    }
   ],
   "source": [
    "# A horas, minutos y segundos: Grados, minutos y segundos\n",
    "print(c.to_string('hmsdms'))\n"
   ]
  },
  {
   "cell_type": "markdown",
   "metadata": {},
   "source": [
    "# Tablas en Astropy\n",
    "\n",
    "Proveen la capacidad de manejar tables heterogéneas con un modo de trabajo muy familiar para los usarios de las librerías Pandas y Numpy. De hecho son similares a una tabla Pandas básica (el rumor de pasillo es que usaron código de Pandas) "
   ]
  },
  {
   "cell_type": "code",
   "execution_count": 27,
   "metadata": {},
   "outputs": [],
   "source": [
    "from astropy.table import Table"
   ]
  },
  {
   "cell_type": "code",
   "execution_count": 28,
   "metadata": {},
   "outputs": [],
   "source": [
    "from astropy.table import QTable\n",
    "import astropy.units as u\n",
    "import numpy as np\n",
    "\n",
    "a = np.array([1, 4, 5], dtype=np.int32)\n",
    "b = [2.0, 5.0, 8.5]\n",
    "c = ['x', 'y', 'z']\n",
    "d = [10, 20, 30] * u.m / u.s\n",
    "\n",
    "t = QTable([a, b, c, d],\n",
    "            names=('a', 'b', 'c', 'd'),\n",
    "            meta={'nombre': 'Primera tabla'})"
   ]
  },
  {
   "cell_type": "code",
   "execution_count": 29,
   "metadata": {},
   "outputs": [
    {
     "name": "stdout",
     "output_type": "stream",
     "text": [
      " a   b   c    d  \n",
      "            m / s\n",
      "--- --- --- -----\n",
      "  1 2.0   x  10.0\n",
      "  4 5.0   y  20.0\n",
      "  5 8.5   z  30.0\n"
     ]
    }
   ],
   "source": [
    "print(t)"
   ]
  },
  {
   "cell_type": "markdown",
   "metadata": {},
   "source": [
    "Si no uso el comando print( ) la tabla se imprime en formato html (lenguaje de páginas web)  y se activa dentro del notebook creando una tabla mucho más estilizada "
   ]
  },
  {
   "cell_type": "code",
   "execution_count": 30,
   "metadata": {},
   "outputs": [
    {
     "data": {
      "text/html": [
       "<div><i>QTable length=3</i>\n",
       "<table id=\"table140363549227856\" class=\"table-striped table-bordered table-condensed\">\n",
       "<thead><tr><th>a</th><th>b</th><th>c</th><th>d</th></tr></thead>\n",
       "<thead><tr><th></th><th></th><th></th><th>m / s</th></tr></thead>\n",
       "<thead><tr><th>int32</th><th>float64</th><th>str1</th><th>float64</th></tr></thead>\n",
       "<tr><td>1</td><td>2.0</td><td>x</td><td>10.0</td></tr>\n",
       "<tr><td>4</td><td>5.0</td><td>y</td><td>20.0</td></tr>\n",
       "<tr><td>5</td><td>8.5</td><td>z</td><td>30.0</td></tr>\n",
       "</table></div>"
      ],
      "text/plain": [
       "<QTable length=3>\n",
       "  a      b     c      d   \n",
       "                    m / s \n",
       "int32 float64 str1 float64\n",
       "----- ------- ---- -------\n",
       "    1     2.0    x    10.0\n",
       "    4     5.0    y    20.0\n",
       "    5     8.5    z    30.0"
      ]
     },
     "execution_count": 30,
     "metadata": {},
     "output_type": "execute_result"
    }
   ],
   "source": [
    "t"
   ]
  },
  {
   "cell_type": "code",
   "execution_count": 31,
   "metadata": {},
   "outputs": [
    {
     "data": {
      "text/plain": [
       "<QTable length=3>\n",
       "name  dtype   unit  class  \n",
       "---- ------- ----- --------\n",
       "   a   int32         Column\n",
       "   b float64         Column\n",
       "   c    str1         Column\n",
       "   d float64 m / s Quantity"
      ]
     },
     "execution_count": 31,
     "metadata": {},
     "output_type": "execute_result"
    }
   ],
   "source": [
    "t.info"
   ]
  },
  {
   "cell_type": "code",
   "execution_count": 32,
   "metadata": {},
   "outputs": [
    {
     "data": {
      "text/html": [
       "<i>QTable length=3</i>\n",
       "<table id=\"table140363549227856-739759\" class=\"table-striped table-bordered table-condensed\">\n",
       "<thead><tr><th>idx</th><th>a</th><th>b</th><th>c</th><th>d</th></tr></thead>\n",
       "<thead><tr><th></th><th></th><th></th><th></th><th>m / s</th></tr></thead>\n",
       "<tr><td>0</td><td>1</td><td>2.0</td><td>x</td><td>10.0</td></tr>\n",
       "<tr><td>1</td><td>4</td><td>5.0</td><td>y</td><td>20.0</td></tr>\n",
       "<tr><td>2</td><td>5</td><td>8.5</td><td>z</td><td>30.0</td></tr>\n",
       "</table><style>table.dataTable {clear: both; width: auto !important; margin: 0 !important;}\n",
       ".dataTables_info, .dataTables_length, .dataTables_filter, .dataTables_paginate{\n",
       "display: inline-block; margin-right: 1em; }\n",
       ".paginate_button { margin-right: 5px; }\n",
       "</style>\n",
       "<script>\n",
       "\n",
       "var astropy_sort_num = function(a, b) {\n",
       "    var a_num = parseFloat(a);\n",
       "    var b_num = parseFloat(b);\n",
       "\n",
       "    if (isNaN(a_num) && isNaN(b_num))\n",
       "        return ((a < b) ? -1 : ((a > b) ? 1 : 0));\n",
       "    else if (!isNaN(a_num) && !isNaN(b_num))\n",
       "        return ((a_num < b_num) ? -1 : ((a_num > b_num) ? 1 : 0));\n",
       "    else\n",
       "        return isNaN(a_num) ? -1 : 1;\n",
       "}\n",
       "\n",
       "require.config({paths: {\n",
       "    datatables: 'https://cdn.datatables.net/1.10.12/js/jquery.dataTables.min'\n",
       "}});\n",
       "require([\"datatables\"], function(){\n",
       "    console.log(\"$('#table140363549227856-739759').dataTable()\");\n",
       "    \n",
       "jQuery.extend( jQuery.fn.dataTableExt.oSort, {\n",
       "    \"optionalnum-asc\": astropy_sort_num,\n",
       "    \"optionalnum-desc\": function (a,b) { return -astropy_sort_num(a, b); }\n",
       "});\n",
       "\n",
       "    $('#table140363549227856-739759').dataTable({\n",
       "        order: [],\n",
       "        pageLength: 50,\n",
       "        lengthMenu: [[10, 25, 50, 100, 500, 1000, -1], [10, 25, 50, 100, 500, 1000, 'All']],\n",
       "        pagingType: \"full_numbers\",\n",
       "        columnDefs: [{targets: [0, 1, 2, 4], type: \"optionalnum\"}]\n",
       "    });\n",
       "});\n",
       "</script>\n"
      ],
      "text/plain": [
       "<IPython.core.display.HTML object>"
      ]
     },
     "execution_count": 32,
     "metadata": {},
     "output_type": "execute_result"
    }
   ],
   "source": [
    "t.show_in_notebook()"
   ]
  },
  {
   "cell_type": "markdown",
   "metadata": {},
   "source": [
    "Puedo ver la tabla sola en un tab de mi browser, con el siguente comando:"
   ]
  },
  {
   "cell_type": "code",
   "execution_count": 33,
   "metadata": {},
   "outputs": [],
   "source": [
    " t.show_in_browser(jsviewer=True)   "
   ]
  },
  {
   "cell_type": "markdown",
   "metadata": {},
   "source": [
    "O se puede trabajar con una columna individual:"
   ]
  },
  {
   "cell_type": "code",
   "execution_count": 34,
   "metadata": {},
   "outputs": [
    {
     "data": {
      "text/html": [
       "&lt;Column name=&apos;a&apos; dtype=&apos;int32&apos; length=3&gt;\n",
       "<table>\n",
       "<tr><td>1</td></tr>\n",
       "<tr><td>4</td></tr>\n",
       "<tr><td>5</td></tr>\n",
       "</table>"
      ],
      "text/plain": [
       "<Column name='a' dtype='int32' length=3>\n",
       "1\n",
       "4\n",
       "5"
      ]
     },
     "execution_count": 34,
     "metadata": {},
     "output_type": "execute_result"
    }
   ],
   "source": [
    "t['a'] "
   ]
  },
  {
   "cell_type": "code",
   "execution_count": 35,
   "metadata": {},
   "outputs": [
    {
     "name": "stdout",
     "output_type": "stream",
     "text": [
      " a \n",
      "---\n",
      " 10\n",
      " 40\n",
      " 50\n"
     ]
    }
   ],
   "source": [
    "P = t['a'] * 10\n",
    "print(P)"
   ]
  },
  {
   "cell_type": "markdown",
   "metadata": {},
   "source": [
    "E incluso podría agregar una nueva columna a la tabla."
   ]
  },
  {
   "cell_type": "code",
   "execution_count": 36,
   "metadata": {},
   "outputs": [
    {
     "name": "stdout",
     "output_type": "stream",
     "text": [
      " a   b   c    d    z \n",
      "            m / s    \n",
      "--- --- --- ----- ---\n",
      "  1 2.0   x  10.0  24\n",
      "  4 5.0   y  20.0  84\n",
      "  5 8.5   z  30.0 104\n"
     ]
    }
   ],
   "source": [
    "t['z'] = t['a'] * 20 +4\n",
    "\n",
    "print(t)"
   ]
  },
  {
   "cell_type": "markdown",
   "metadata": {
    "tags": [
     "hide_code"
    ]
   },
   "source": [
    "[<< Pandas](Clase_Pandas.html) | [home](index.html) "
   ]
  }
 ],
 "metadata": {
  "kernelspec": {
   "display_name": "Python 3 (ipykernel)",
   "language": "python",
   "name": "python3"
  },
  "language_info": {
   "codemirror_mode": {
    "name": "ipython",
    "version": 3
   },
   "file_extension": ".py",
   "mimetype": "text/x-python",
   "name": "python",
   "nbconvert_exporter": "python",
   "pygments_lexer": "ipython3",
   "version": "3.10.9"
  }
 },
 "nbformat": 4,
 "nbformat_minor": 4
}
