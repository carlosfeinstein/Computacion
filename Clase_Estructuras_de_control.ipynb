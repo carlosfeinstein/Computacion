{
 "cells": [
  {
   "cell_type": "markdown",
   "metadata": {
    "colab_type": "text",
    "id": "HnTHPWl6UaDV"
   },
   "source": [
    "\n",
    "\n",
    "Son estructuras diseñadas para que cierto bloque de ordenes se repita una cantidad determinada de veces o que se ejecuten mientras se cumplen ciertas condiciones. Los Bloques son definidos por \"indentation\" o sea la sangría. No hay una orden específica para indicar el final, este se asume con la \n",
    "desaparición de la sangría usada en esa estructura de control. Aunque puede continuar otra de una estructura superior a esta. Es decir, cuando mas interna es la estructura mas larga es la sangría que determina la pertencia de las órdenes.\n",
    "\n",
    "En las estructuras de control tenemos las siguientes órdenes\n",
    "\n",
    ">* **for** para realizar bucles o loops.\n",
    ">* **if( )/elif/else** para hacer preguntas y tomar decisiones.\n",
    ">* **while( )** para realizar una tarea mientras el argumento sea verdadero.\n",
    ">* **\"Comprehension list\"** que son una versión compacta de los comandos anteriores y sirven\n",
    "para realizar todos los comandos anteriores en un sólo renglón. Sirven para volver más compacto el código.\n"
   ]
  },
  {
   "cell_type": "markdown",
   "metadata": {},
   "source": [
    "# FOR\n",
    "\n",
    "Empecemos con la sentencia **for** para realizar \"loops\" o bucles\n",
    "\n",
    "Lo uso haciendo:\n",
    "\n",
    "**for _variable_ in _contenedor_:** \n",
    "\n",
    "\n",
    ">**Bloque determinado con una sangría similar que contiene las operaciones a realizar**\n",
    "       \n",
    "La _variable_ es similar a como usamos la variable de en un _DO_ de Fortran. El contenedor puede ser cualquiera\n",
    "de los que vimos la clase anterior. Es de decir una Lista, Tupla, Set, etc.\n",
    "\n",
    "Los \"**:**\" al final de la línea son obligatorios porque avisan que ahora viene el bloque de\n",
    "órdenes del bucle.\n",
    "\n",
    "La idea es que la variable va tomando a todos los elementos del contenedor. En muchos textos a los elementos del contenedor se los considera como *iterables*. Dado que itero sobre todos los elementos de ese conjunto. \n",
    "\n",
    "Por lo cual las operaciónes que se especifiquen en el bloque del **for** serán aplicadas a todos los elementos del contenedor.\n",
    "\n",
    "También hay recordar que un contenedor puede tener como un elemento a otro contenedor, así que donde hablamos de _variable_ podría ser algo que englobe más de una variable de las básicas. Por ejemplo, podría tener una lista de tuplas, por lo cual el **for** actuaría de a una tupla por vez."
   ]
  },
  {
   "cell_type": "code",
   "execution_count": 1,
   "metadata": {
    "colab": {},
    "colab_type": "code",
    "id": "s43ITxAkUrQO"
   },
   "outputs": [
    {
     "name": "stdout",
     "output_type": "stream",
     "text": [
      "2\n",
      "3\n",
      "4\n"
     ]
    }
   ],
   "source": [
    "for i in [1,2,3]: \n",
    "      print(i+1)        # Prestar atención a la sangría \n",
    "                        # (\"indentation\" en inglés)"
   ]
  },
  {
   "cell_type": "markdown",
   "metadata": {},
   "source": [
    "Recordando que un contenedor puedo tener distintos tipos de variables básicas, podríamos hacer los siguiente:\n"
   ]
  },
  {
   "cell_type": "code",
   "execution_count": 2,
   "metadata": {
    "colab": {},
    "colab_type": "code",
    "id": "DRoqC0znUv3T"
   },
   "outputs": [
    {
     "name": "stdout",
     "output_type": "stream",
     "text": [
      "1\n",
      "end\n",
      "ff\n",
      "end\n",
      "2\n",
      "end\n",
      "final end\n"
     ]
    }
   ],
   "source": [
    "for cosa in [1,'ff',2]:\n",
    "    print(cosa)\n",
    "    print('end')\n",
    "print('final end')   # El final de la sangría indica el final \n",
    "                     # del bloque \"for\""
   ]
  },
  {
   "cell_type": "markdown",
   "metadata": {},
   "source": [
    "Por ejemplo, puedo recorrer un diccionario por sus _keys_. "
   ]
  },
  {
   "cell_type": "code",
   "execution_count": 3,
   "metadata": {
    "colab": {},
    "colab_type": "code",
    "id": "CuyTheJqU1Ms"
   },
   "outputs": [
    {
     "name": "stdout",
     "output_type": "stream",
     "text": [
      "H 1\n",
      "He 4\n",
      "C 12\n",
      "N 14\n",
      "O 16\n",
      "Ne 20\n",
      "Ar 40\n",
      "S 32\n",
      "Si 28\n",
      "Fe 55.8\n"
     ]
    }
   ],
   "source": [
    "# Si defino un diccionario\n",
    "ATOMIC_MASS = {}  # <-- Diccionario vacio\n",
    "\n",
    "ATOMIC_MASS['H'] = 1\n",
    "ATOMIC_MASS['He'] = 4\n",
    "ATOMIC_MASS['C'] = 12\n",
    "ATOMIC_MASS['N'] = 14\n",
    "ATOMIC_MASS['O'] = 16\n",
    "ATOMIC_MASS['Ne'] = 20\n",
    "ATOMIC_MASS['Ar'] = 40\n",
    "ATOMIC_MASS['S'] = 32\n",
    "ATOMIC_MASS['Si'] = 28\n",
    "ATOMIC_MASS['Fe'] = 55.8\n",
    "\n",
    "# Puedo imprimir a partir de la keys, todos los valores del diccionario. \n",
    "#  Ojo. la salida no está ordenada\n",
    "# dict.keys() es el método que lista los \"keys\" de diccionario\n",
    "\n",
    "for key in ATOMIC_MASS.keys():\n",
    "    print(key, ATOMIC_MASS[key])"
   ]
  },
  {
   "cell_type": "markdown",
   "metadata": {
    "colab_type": "text",
    "id": "1ilCUtsVVED1"
   },
   "source": [
    "---\n",
    "# IF/ELIF/ELSE\n",
    "\n",
    "Puedo hacer una preguna al estilo:\n",
    "```\n",
    "if(Condición):\n",
    "    pasa esto si \"_condición_\" es verdadero\n",
    "elif(otra Condición):\n",
    "    pasa esto otro si \"_otra condición_\" es verdera y \"algo\" fue falso\n",
    "else:\n",
    "    Como las anteriores fueron falsas, hago esto que sigue acá\n",
    "```    \n",
    "Note la sangría que ordena los inicio y finales en cada bloque de actividades.\n",
    "\n",
    "La _Condición_ puede ser una variable lógica que contiene un verdadero o un falso, o una comparación entre magnitudes realizada por un operador. A estos casos los veremos a continuación.\n",
    "\n",
    "Se pueden utilizar las sentencias de Control con un estilo bastante parecido al Fortran salvo por la orden que en Fortran se llama \"elseif()\" y en Python \"elif()\"\n",
    "\n",
    "Note que cada orden de la estructura del bloque lleva los \"**:**\" al final  "
   ]
  },
  {
   "cell_type": "markdown",
   "metadata": {},
   "source": [
    "# Operadores condicionales\n",
    "\n",
    "En el caso de que requiera comparar dos valores o más, deberé escribir la condición en el IF(), y este se activará cuando esa condición sea verdadera. Las condiciones para activar o no un IF() tienen en python un muy rico lenguaje para detallar eventos que pueden ser verdaderos o falsos.\n",
    "\n",
    "**Operadores de Comparación:**\n",
    "Se comparan números entre ellos, recordar que se puede poner una expresión que será evaluada antes de realizar la comparación.\n",
    "\n",
    "| Operador | Descripcion | sintaxis |\n",
    "| --- | ----------- |--|\n",
    "| > | Mayor | X > Y |\n",
    "| < | Menor | X < Y |\n",
    "| == | igual | X == Y |\n",
    "| >= | Mayor o igual | X >= Y |\n",
    "| <= | Menor o igual | X <= Y |\n",
    "| != | No es igual | X != Y |\n",
    "\n",
    "**Operadores Lógicos:**\n",
    "\n",
    "| Operador | Descripcion | sintaxis |\n",
    "| --- | ----------- |--|\n",
    "| and | Verdadero si ambos son verdaderos | X and Y|\n",
    "| or | Verdadero si uno es verdadero  |X or Y|\n",
    "| not | Verdadero si es falso, y falso si es verdero | not X|\n",
    "\n",
    "**Operadores de indentidad:**\n",
    "Verifican que ocupen la misma memoria ram, con otras palabras, se pregunta si son el mismo objeto o parte de él.\n",
    "\n",
    "| Operador | Descripcion | sintaxis |\n",
    "| --- | ----------- |--|\n",
    "| is |  x es igual a y | X is Y|\n",
    "| is not |  x no es igual a y | X is not Y|\n",
    "\n",
    "\n",
    "En el caso de los diccionarios se usa el operador '**in**' para preguntar si una 'key' en particular está definida. El modo de hacer estas operaciones sería el siguiente:\n",
    "\n"
   ]
  },
  {
   "cell_type": "code",
   "execution_count": 4,
   "metadata": {},
   "outputs": [
    {
     "name": "stdout",
     "output_type": "stream",
     "text": [
      "Es un número positivo\n"
     ]
    }
   ],
   "source": [
    "num = 223.4\n",
    "\n",
    "if num > 0:\n",
    "    print(\"Es un número positivo\")\n",
    "elif num == 0:\n",
    "    print(\"Cero\")\n",
    "else:\n",
    "    print(\"Es un número negativo\")\n",
    "    "
   ]
  },
  {
   "cell_type": "markdown",
   "metadata": {},
   "source": [
    "Y puede tener estructuras de control una dentro de otra pero las diferentes sangrías me indican los niveles en que cada estructura es válida."
   ]
  },
  {
   "cell_type": "code",
   "execution_count": 5,
   "metadata": {
    "colab": {},
    "colab_type": "code",
    "id": "QuRMUCsJVFzt"
   },
   "outputs": [
    {
     "name": "stdout",
     "output_type": "stream",
     "text": [
      "6\n",
      "7\n",
      "8\n",
      "9\n"
     ]
    }
   ],
   "source": [
    "for i in range(10):\n",
    "    if i > 5:\n",
    "        print(i)\n",
    "\n",
    "# Prestar atención a la doble sangría del if"
   ]
  },
  {
   "cell_type": "code",
   "execution_count": 6,
   "metadata": {
    "colab": {},
    "colab_type": "code",
    "id": "SOpGK7QsVKlD"
   },
   "outputs": [
    {
     "name": "stdout",
     "output_type": "stream",
     "text": [
      "0 es menor que cinco\n",
      "1 es menor que cinco\n",
      "2 es menor que cinco\n",
      "3 es menor que cinco\n",
      "4 es menor que cinco\n",
      "5 es menor que cinco\n",
      "6\n",
      "7\n",
      "8\n",
      "9\n",
      "END\n"
     ]
    }
   ],
   "source": [
    "for i in range(10):\n",
    "    if i > 5:\n",
    "        print(i)\n",
    "    else:\n",
    "        print(i ,'es menor que cinco')\n",
    "print('END')"
   ]
  },
  {
   "cell_type": "markdown",
   "metadata": {},
   "source": [
    "También puedo usar estructuras de control en un SET aunque sus elementos no estén numerados"
   ]
  },
  {
   "cell_type": "code",
   "execution_count": 7,
   "metadata": {
    "colab": {},
    "colab_type": "code",
    "id": "GHC3WuQSIvN_"
   },
   "outputs": [
    {
     "name": "stdout",
     "output_type": "stream",
     "text": [
      "banana\n",
      "frutilla\n",
      "cereza\n"
     ]
    }
   ],
   "source": [
    "este_set = {\"frutilla\", \"banana\", \"cereza\"}\n",
    "\n",
    "for x in este_set:\n",
    "  print(x)"
   ]
  },
  {
   "cell_type": "markdown",
   "metadata": {},
   "source": [
    "En el caso de los diccionarios se usa el operador '**in**' para preguntar si una llave o 'key' en particular está definida. Veamos su modo de uso utilizando el diccionario que definimos anteriormente y preguntemos si 'mapa'\n",
    "nos dispara un resultado (spoiler: no está)\n"
   ]
  },
  {
   "cell_type": "code",
   "execution_count": 8,
   "metadata": {},
   "outputs": [
    {
     "name": "stdout",
     "output_type": "stream",
     "text": [
      "Esa llave no existe\n"
     ]
    }
   ],
   "source": [
    "a_diccionario = {'uno' : 1.0,\n",
    "                'dos' : 2.0,\n",
    "                'una_lista' : ['esta', 'es', 'una', 'lista']\n",
    "                }\n",
    "\n",
    "if 'mapa' in a_diccionario:\n",
    "     print(a_diccionario['mapa'])\n",
    "else:\n",
    "     print('Esa llave no existe')\n",
    "    "
   ]
  },
  {
   "cell_type": "markdown",
   "metadata": {},
   "source": [
    "También para el caso de un diccionario se puede pedir que la orden **for**, recorra simultáneamente llaves y valores. Esto se puede hacer porque la función **items( )** de los diccionarios crea una tupla (llave, valor)\n",
    "\n",
    "Esta orden puede ser muy confusa y se tarda en entenderla... <-- **tomarlo con calma**"
   ]
  },
  {
   "cell_type": "code",
   "execution_count": 9,
   "metadata": {},
   "outputs": [
    {
     "name": "stdout",
     "output_type": "stream",
     "text": [
      "dict_items([('uno', 1.0), ('dos', 2.0), ('una_lista', ['esta', 'es', 'una', 'lista'])])\n"
     ]
    }
   ],
   "source": [
    "print( a_diccionario.items())"
   ]
  },
  {
   "cell_type": "markdown",
   "metadata": {},
   "source": [
    "Note que se imprimen una lista de tuplas, donde cada tupla es (llave, valor)\n",
    "y si es una lista puedo usar un for, pero descomponiendo la tupla en sus dos componentes por separado (recordar que esto es una propiedad de las tuplas). "
   ]
  },
  {
   "cell_type": "code",
   "execution_count": 10,
   "metadata": {},
   "outputs": [
    {
     "name": "stdout",
     "output_type": "stream",
     "text": [
      "uno = 1.0\n",
      "dos = 2.0\n",
      "una_lista = ['esta', 'es', 'una', 'lista']\n"
     ]
    }
   ],
   "source": [
    "for llave, valor in a_diccionario.items():\n",
    "    print(llave,'=', valor)"
   ]
  },
  {
   "cell_type": "markdown",
   "metadata": {},
   "source": [
    "# Try/Except\n",
    "\n",
    "Estos comandos tienen una estructura perecida a un if()/else, pero diseñada para manejar errores.\n",
    "\n",
    "Lo que escribo en el bloque del **try:** es probado y si es cierto ejecutado, pero si no lo es se activa el bloque del **except tipo_de_error**. Es decir, genera una excepción, avisa de ella y programa sigue corriendo, no muere como debería haber pasado. Hay un cantidad muy importante de **tipos de errores** y en cada versión de python se han ido agregando más de ellas. Para un listado se debe buscarlas en los manuales de la versión de Python que se esté utilizando.\n",
    "\n",
    "Probémoslo con el diccionario, y en este caso la excepción es 'KeyError'"
   ]
  },
  {
   "cell_type": "code",
   "execution_count": 11,
   "metadata": {},
   "outputs": [
    {
     "name": "stdout",
     "output_type": "stream",
     "text": [
      "2.0\n"
     ]
    }
   ],
   "source": [
    "try:\n",
    "  print(a_diccionario['dos'])\n",
    "except KeyError:\n",
    "  print('No estaba la llave')"
   ]
  },
  {
   "cell_type": "code",
   "execution_count": 12,
   "metadata": {},
   "outputs": [
    {
     "name": "stdout",
     "output_type": "stream",
     "text": [
      "No estaba la llave\n"
     ]
    }
   ],
   "source": [
    "# y si pido una llave inexistente, se activa\n",
    "# el except\n",
    "\n",
    "try:\n",
    "  print(a_diccionario['mapa'])\n",
    "except KeyError:\n",
    "  print('No estaba la llave')"
   ]
  },
  {
   "cell_type": "markdown",
   "metadata": {},
   "source": [
    "# WHILE( ), Break y Continue\n",
    "\n",
    "El comando while(algo) funciona creando un loop mientras \"algo\" sea verdadero.\n",
    "En \"algo\" podemos construir un condicional con los operadores que hemos visto.\n",
    "\n",
    "Por ejemplo:\n",
    "\n"
   ]
  },
  {
   "cell_type": "code",
   "execution_count": 13,
   "metadata": {},
   "outputs": [
    {
     "name": "stdout",
     "output_type": "stream",
     "text": [
      "1\n",
      "2\n",
      "3\n"
     ]
    }
   ],
   "source": [
    "i = 1\n",
    "while i < 4:\n",
    "  print(i)\n",
    "  i += 1"
   ]
  },
  {
   "cell_type": "markdown",
   "metadata": {},
   "source": [
    "Podemos incluso poner otras estructuras de control y generar un **break**\n",
    "que rompe al while dada una condición, veamos como:"
   ]
  },
  {
   "cell_type": "code",
   "execution_count": 14,
   "metadata": {},
   "outputs": [
    {
     "name": "stdout",
     "output_type": "stream",
     "text": [
      "1\n",
      "2\n",
      "3\n"
     ]
    }
   ],
   "source": [
    "i = 1\n",
    "while i < 6:\n",
    "  print(i)\n",
    "  if i == 3:\n",
    "    break\n",
    "  i += 1"
   ]
  },
  {
   "cell_type": "markdown",
   "metadata": {},
   "source": [
    "Entonces cuando i sea igual a 3 el loop terminará."
   ]
  },
  {
   "cell_type": "markdown",
   "metadata": {},
   "source": [
    "O con el comando **continue** evitar que cierto valor sea procesado, ciclando el while() al próximo valor."
   ]
  },
  {
   "cell_type": "code",
   "execution_count": 15,
   "metadata": {},
   "outputs": [
    {
     "name": "stdout",
     "output_type": "stream",
     "text": [
      "1\n",
      "2\n",
      "4\n",
      "5\n",
      "6\n"
     ]
    }
   ],
   "source": [
    "i = 0\n",
    "while i < 6:\n",
    "  i += 1\n",
    "  if i == 3:\n",
    "    continue\n",
    "  print(i)"
   ]
  },
  {
   "cell_type": "markdown",
   "metadata": {},
   "source": [
    "Notar que el valor \"3\" no fue considerado en la secuencia"
   ]
  },
  {
   "cell_type": "markdown",
   "metadata": {},
   "source": [
    "# Listas de Comprensión (List Comprehension)\n",
    "\n",
    "Estas son formas de estructuras de control extremamadamente compactas y bastante (o muy!!!) confusas cuando se las ve por primera vez. Se caracterizan por ahorrar muchas líneas de código.\n",
    "\n",
    "Se basan en la idea de \"iterar\" sobre una estructura de control para generar sus valores, o bien, por ejemplo, convertir una lista en otra (por un cálculo, o un filtrado de sus elementos). Una variantes de estas son\n",
    "las funciones generadoras que veremos en un capítulo siguiente.\n",
    "\n",
    "Veamos un ejemplo de como funcionan:"
   ]
  },
  {
   "cell_type": "code",
   "execution_count": 16,
   "metadata": {},
   "outputs": [
    {
     "name": "stdout",
     "output_type": "stream",
     "text": [
      "Nueva lista: ['gato', 'tortuga', 'paloma']\n",
      "Nuevos Números: [1, 8, 27, 64, 125]\n"
     ]
    }
   ],
   "source": [
    "# creamos unas listas\n",
    "animales = ['perro','gato','loro', 'tortuga','paloma']\n",
    "numeros = [1,2,3,4,5]\n",
    "\n",
    "# y las procesamos\n",
    "# Por ejemplo, creo una nueva lista que sólo estén los animales \n",
    "# que tengan una \"a\" en el nombre\n",
    "\n",
    "nuevos_animales = [x for x in animales if \"a\" in x]\n",
    "print(\"Nueva lista:\",nuevos_animales)\n",
    "\n",
    "\n",
    "# o calculo los cubos de los números de la lista \"números\"\n",
    "nuevos_numeros= [x**3 for x in numeros]\n",
    "print(\"Nuevos Números:\", nuevos_numeros)\n",
    "\n"
   ]
  },
  {
   "cell_type": "markdown",
   "metadata": {},
   "source": [
    "La sintaxis más general de una list comprehension es:\n",
    "\n",
    "**newlist = [expresión for item in colección if condición == True]**\n",
    "\n",
    "que en realidad se puede reducir a:\n",
    "\n",
    "**newlist = [expresión for item in colección]**\n",
    "\n",
    "Pero existe mucha libertad de como usar esta orden, por ejemplo podría haber más de if() o más de una collection de items\n",
    "\n",
    "**newlist = [expresión for item in colección if test1 and test2]**\n",
    "\n",
    "o\n",
    "\n",
    "**newlist = [expresión for item in colección1 and item2 in colección2]**\n",
    "\n",
    "Por colección nos referimos a un iterable, y la definición exacta de un iterable la veremos más adelante, pero por ejemplo las listas, tuplas, etc son iterables. Es decir puedo acceder uno por uno en un conjunto de elementos.\n",
    "\n",
    "Note que en la definición de un List Comprehensions va rodeada de [] (corchetes) como la hace la definición de una lista en Python\n",
    "\n",
    "Por ejemplo, puedo recorrer una lista haciendo:"
   ]
  },
  {
   "cell_type": "code",
   "execution_count": 17,
   "metadata": {},
   "outputs": [
    {
     "name": "stdout",
     "output_type": "stream",
     "text": [
      "[0, 1, 2, 3, 4, 5, 6, 7, 8, 9]\n"
     ]
    }
   ],
   "source": [
    "lista_nueva = [x for x in range(10)]\n",
    "print(lista_nueva)"
   ]
  },
  {
   "cell_type": "markdown",
   "metadata": {},
   "source": [
    "O recorrerla poniendo una condición:"
   ]
  },
  {
   "cell_type": "code",
   "execution_count": 18,
   "metadata": {},
   "outputs": [
    {
     "name": "stdout",
     "output_type": "stream",
     "text": [
      "[0, 1, 2, 3, 4]\n"
     ]
    }
   ],
   "source": [
    "lista_nueva = [x for x in range(10) if x < 5]\n",
    "print(lista_nueva)"
   ]
  },
  {
   "cell_type": "markdown",
   "metadata": {},
   "source": [
    "O incluso aprovechar los métodos o funciones de los objetos:"
   ]
  },
  {
   "cell_type": "code",
   "execution_count": 19,
   "metadata": {},
   "outputs": [
    {
     "name": "stdout",
     "output_type": "stream",
     "text": [
      "['PERRO', 'GATO', 'LORO', 'TORTUGA', 'PALOMA']\n"
     ]
    }
   ],
   "source": [
    "# la función upper pasa la letra a mayúscula\n",
    "newlist = [x.upper() for x in animales]\n",
    "print(newlist)"
   ]
  },
  {
   "cell_type": "markdown",
   "metadata": {},
   "source": [
    "Al principio, estas listas de compresión son confusas, pero esta estructura puede entenderse mejor si se la piensa dividida en renglones donde cada uno de ellos desarrolla una actividad. Por ejemplo, si tengo\n",
    "\n",
    "[x**2 for x in range(10) if x<5]\n",
    "\n",
    "Expresión que puedo dividir en 3 líneas: \n",
    "\n",
    " * la expresión matemática, \n",
    " * la iteración y \n",
    " * la condición para que se ejecute.\n",
    " \n",
    "En este ejemplo: \n",
    "\n",
    "${\\bf x^2}$  es la expresión matemática\n",
    "\n",
    "**for x in range(10)** es la iteración\n",
    "\n",
    "**if x < 5** es la condición\n",
    "\n",
    "Separando en las 3 partes es más fácil de entender\n"
   ]
  },
  {
   "cell_type": "code",
   "execution_count": 20,
   "metadata": {},
   "outputs": [
    {
     "data": {
      "text/plain": [
       "[0, 1, 4, 9, 16]"
      ]
     },
     "execution_count": 20,
     "metadata": {},
     "output_type": "execute_result"
    }
   ],
   "source": [
    "[x**2 # expresión matemática\n",
    "  for x in range(10) # iteración\n",
    "  if x < 5] # condición"
   ]
  },
  {
   "cell_type": "markdown",
   "metadata": {
    "tags": [
     "hide_code"
    ]
   },
   "source": [
    "[<< Variables](Clase_2_Variables.html) | [home](index.html) | [Funciones >>](Clase_Funciones.html)"
   ]
  }
 ],
 "metadata": {
  "colab": {
   "name": "Clase_2_Variables.ipynb",
   "provenance": []
  },
  "kernelspec": {
   "display_name": "Python 3",
   "language": "python",
   "name": "python3"
  },
  "language_info": {
   "codemirror_mode": {
    "name": "ipython",
    "version": 3
   },
   "file_extension": ".py",
   "mimetype": "text/x-python",
   "name": "python",
   "nbconvert_exporter": "python",
   "pygments_lexer": "ipython3",
   "version": "3.7.9"
  }
 },
 "nbformat": 4,
 "nbformat_minor": 1
}
