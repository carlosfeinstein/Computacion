{
 "cells": [
  {
   "cell_type": "markdown",
   "metadata": {
    "colab_type": "text",
    "id": "2tF8UD1MtusC"
   },
   "source": [
    "\n",
    "# Variables más complejas (Contenedores)"
   ]
  },
  {
   "cell_type": "markdown",
   "metadata": {
    "colab_type": "text",
    "id": "qnIRcjeXtusD"
   },
   "source": [
    "\n",
    "\n",
    "En Python existen otros tipo de variables aparte de las que vimos en el capítulo anterior. Estas variables aprovechan la programación orientada a objetos y son estructuras que engloban a las variables básicas. Actúan no manejando datos individuales sino agrupaciones de ellos y se las conoce como contenedores. En palabras más simples, los contenedores se los utiliza para manejar conjuntos de elementos de datos de cualquier tipo de los que vimos en el capítulo anterior.\n",
    "Los elementos pueden o no estar numerados, pueden o no estar repetidos y pueden o no pueden ser inmutables. Con inmutables se indica que una vez cargados con un valor estas variables **NO** pueden ser modificadas durante el transcurso del programa. Si bien esto parece algo que no aporta y que obliga a consumir más recursos de la computadora, las variables inmutables son más \"livianas\" a la hora de ser usadas, dado que se trata de objetos sin mucha carga computacional.\n",
    "Los contenedores están pensados para que el usuario los utilice sobre grandes cantidades de datos. \n",
    " \n",
    "En estas variables se debe prestar atención si se las está usando con paréntesis ( ), llaves { }  o corchetes [ ]  ya que estos son indicadores del tipo de contenedor.\n",
    " \n",
    "\n",
    "Las variables guardadas en un contenedor se la considera **iterables** es decir, existen formas de recorrer con alguna operación a todos los elementos guardados en el contenedor.\n",
    " \n",
    "No debe confundirse a los contenedores con variables aptas para álgebra vectorial, aunque se les parecen y podrían llegar a usarse, no son convenientes. Para\n",
    " el uso de cálculos en este campo deben utilizarse arreglos de la librería *Numpy* que serán descriptos en un capítulo siguiente.\n",
    "\n",
    "Los principales tipos de contenedores son los siguientes.\n",
    "\n",
    "## Tipos de datos Iterables: \n",
    "\n",
    ">* Listas\n",
    ">* Tuplas\n",
    ">* Sets\n",
    ">* Frozensets\n",
    ">* Diccionarios\n"
   ]
  },
  {
   "cell_type": "markdown",
   "metadata": {
    "colab_type": "text",
    "id": "Jk87BftktusE"
   },
   "source": [
    "---\n",
    "# Listas\n",
    "    \n",
    ">* Son una colección de objetos, pueden ser de tipos diferentes. Tienen orden y este orden está numerado.\n",
    ">\n",
    ">* Las listas pueden mutar, su contenido es modificable.\n",
    ">\n",
    ">* Las lista se definen con una colección de datos entre corchetes, separados por \",\".\n",
    ">\n",
    ">* Las variables que caracterizan lo datos pueden ser de tipos diferentes.\n",
    "\n",
    "Veamos un ejemplo:"
   ]
  },
  {
   "cell_type": "markdown",
   "metadata": {
    "colab_type": "text",
    "id": "4bOqEpIdtutE"
   },
   "source": [
    "Los elementos no tienen que ser del mismo tipo."
   ]
  },
  {
   "cell_type": "code",
   "execution_count": 1,
   "metadata": {
    "colab": {},
    "colab_type": "code",
    "id": "E8OfKkqdtutF"
   },
   "outputs": [
    {
     "data": {
      "text/plain": [
       "[1, '1', 1.4]"
      ]
     },
     "execution_count": 1,
     "metadata": {},
     "output_type": "execute_result"
    }
   ],
   "source": [
    "L = [1, '1', 1.4]\n",
    "L"
   ]
  },
  {
   "cell_type": "markdown",
   "metadata": {},
   "source": [
    "Veamos otra lista:"
   ]
  },
  {
   "cell_type": "code",
   "execution_count": 2,
   "metadata": {
    "colab": {},
    "colab_type": "code",
    "id": "MPjPASZttusE"
   },
   "outputs": [],
   "source": [
    "L = ['azul','verde','rojo']"
   ]
  },
  {
   "cell_type": "markdown",
   "metadata": {},
   "source": [
    "En este caso los elementos son una colección de variables de texto\n",
    "Podemos preguntar que tipo de variable es L. Recordemos\n",
    "que para averiguar el tipo de variable usamos la orden <b>type()</b>\n"
   ]
  },
  {
   "cell_type": "code",
   "execution_count": 3,
   "metadata": {
    "colab": {},
    "colab_type": "code",
    "id": "fx6mHI7itusH"
   },
   "outputs": [
    {
     "data": {
      "text/plain": [
       "list"
      ]
     },
     "execution_count": 3,
     "metadata": {},
     "output_type": "execute_result"
    }
   ],
   "source": [
    "type(L) # Imprime el tipo de variable que es L"
   ]
  },
  {
   "cell_type": "markdown",
   "metadata": {},
   "source": [
    "Preguntemos por uno de los elementos de la lista, pero tenemos\n",
    "que recordar que:\n",
    "* Los elementos están numerados\n",
    "* El primer elemento tiene número **0** y el último es el **N-1** de la lista de N elementos"
   ]
  },
  {
   "cell_type": "code",
   "execution_count": 4,
   "metadata": {
    "colab": {},
    "colab_type": "code",
    "id": "fCJaif0ItusL"
   },
   "outputs": [
    {
     "data": {
      "text/plain": [
       "'verde'"
      ]
     },
     "execution_count": 4,
     "metadata": {},
     "output_type": "execute_result"
    }
   ],
   "source": [
    "L[1]"
   ]
  },
  {
   "cell_type": "markdown",
   "metadata": {},
   "source": [
    "Si escribo una operación o una variable sola, el notebook considera que hay una función <b> print </b> implícita. Básicamente se usa la celda en modo calculadora. Pero esto sólo sirve para la última variable que se encuentre, las anteriores se ignoran y no se imprimen."
   ]
  },
  {
   "cell_type": "code",
   "execution_count": 5,
   "metadata": {
    "colab": {},
    "colab_type": "code",
    "id": "x2vQbU6WtusO"
   },
   "outputs": [
    {
     "name": "stdout",
     "output_type": "stream",
     "text": [
      "azul\n"
     ]
    }
   ],
   "source": [
    "print(L[0])"
   ]
  },
  {
   "cell_type": "markdown",
   "metadata": {},
   "source": [
    "Pero también puedo preguntar con índices negativos, que significan que empiezo a contar por el final"
   ]
  },
  {
   "cell_type": "code",
   "execution_count": 6,
   "metadata": {
    "colab": {},
    "colab_type": "code",
    "id": "dZTDdWtttusR"
   },
   "outputs": [
    {
     "data": {
      "text/plain": [
       "'rojo'"
      ]
     },
     "execution_count": 6,
     "metadata": {},
     "output_type": "execute_result"
    }
   ],
   "source": [
    "L[-1] # Último elemento"
   ]
  },
  {
   "cell_type": "code",
   "execution_count": 7,
   "metadata": {
    "colab": {},
    "colab_type": "code",
    "id": "UhRQCjXLtusT"
   },
   "outputs": [
    {
     "data": {
      "text/plain": [
       "'azul'"
      ]
     },
     "execution_count": 7,
     "metadata": {},
     "output_type": "execute_result"
    }
   ],
   "source": [
    "L[-3]"
   ]
  },
  {
   "cell_type": "markdown",
   "metadata": {},
   "source": [
    "La idea de que los números negativos sean indicación de que se empiece a contar por el final tienen sentido si yo\n",
    "no se, ni me enteresa averiguar cuantos elementos tiene la lista. Y por otro lado necesito realizar alguna\n",
    "operación con los elementos del final.\n",
    "\n",
    "Puedo sumar listas, pero no es lo que una se imagina, aunque tiene bastante sentido lo que sucede."
   ]
  },
  {
   "cell_type": "code",
   "execution_count": 8,
   "metadata": {
    "colab": {},
    "colab_type": "code",
    "id": "zDXOCtVytusV"
   },
   "outputs": [],
   "source": [
    "L=L+['rojo','amarillo']"
   ]
  },
  {
   "cell_type": "markdown",
   "metadata": {},
   "source": [
    "Y si imprimo el resultado"
   ]
  },
  {
   "cell_type": "code",
   "execution_count": 9,
   "metadata": {
    "colab": {},
    "colab_type": "code",
    "id": "g8RYWwoFtusX"
   },
   "outputs": [
    {
     "name": "stdout",
     "output_type": "stream",
     "text": [
      "['azul', 'verde', 'rojo', 'rojo', 'amarillo']\n"
     ]
    }
   ],
   "source": [
    "print(L)"
   ]
  },
  {
   "cell_type": "markdown",
   "metadata": {},
   "source": [
    "Vean que ahora la lista tiene los elementos originales con el agregado de los dos nuevos. En una lista los elementos pueden repetirse.\n",
    "<br>\n",
    "---\n",
    "\n",
    "Por otro lado, hay maneras de utilizar un loop implícitito para tomar un rango de índices (inicio y fin)\n",
    "y un paso. Se lo construye de la siguiente manera:\n",
    "\n",
    "**Lista[Comienzo : final : paso]** donde los elementos de índice i cumplen con  *comienzo <= i < final* <br>\n",
    "Como vimos antes el final <b> no está </b> incluido <br>\n",
    "\n",
    "Si no figura el comienzo se entiende que empieza la cuenta desde el inicio. Si no figura el final, es hasta el final de la lista. Si el paso no figura, se considera que es 1.\n",
    "\n",
    "Un índice negativo se cuenta desde el final de la lista donde -1 es el último elemento, y un paso negativo implica que desde el final indicado voy avanzando hacia el comienzo de la lista.\n",
    "\n",
    "\"Slicing\" (rebanar) es como se denomina al comando para extraer parte de una lista.\n",
    "Usaremos slicing para entender como se pueden filtrar una lista a través de sus índices."
   ]
  },
  {
   "cell_type": "code",
   "execution_count": 10,
   "metadata": {
    "colab": {},
    "colab_type": "code",
    "id": "4-jxSpmWtusZ"
   },
   "outputs": [
    {
     "data": {
      "text/plain": [
       "['verde', 'rojo']"
      ]
     },
     "execution_count": 10,
     "metadata": {},
     "output_type": "execute_result"
    }
   ],
   "source": [
    "L[1:3] "
   ]
  },
  {
   "cell_type": "code",
   "execution_count": 11,
   "metadata": {
    "colab": {},
    "colab_type": "code",
    "id": "V12PkRoptusb"
   },
   "outputs": [
    {
     "data": {
      "text/plain": [
       "['rojo', 'rojo', 'amarillo']"
      ]
     },
     "execution_count": 11,
     "metadata": {},
     "output_type": "execute_result"
    }
   ],
   "source": [
    "L[2:]"
   ]
  },
  {
   "cell_type": "code",
   "execution_count": 12,
   "metadata": {
    "colab": {},
    "colab_type": "code",
    "id": "wB7tJpbWtusd"
   },
   "outputs": [
    {
     "data": {
      "text/plain": [
       "['rojo', 'amarillo']"
      ]
     },
     "execution_count": 12,
     "metadata": {},
     "output_type": "execute_result"
    }
   ],
   "source": [
    "L[-2:]"
   ]
  },
  {
   "cell_type": "code",
   "execution_count": 13,
   "metadata": {
    "colab": {},
    "colab_type": "code",
    "id": "MVm6hQZ3tusg"
   },
   "outputs": [
    {
     "data": {
      "text/plain": [
       "['azul', 'rojo', 'amarillo']"
      ]
     },
     "execution_count": 13,
     "metadata": {},
     "output_type": "execute_result"
    }
   ],
   "source": [
    "L[::2] # L[start:stop:step] cada dos elementos"
   ]
  },
  {
   "cell_type": "code",
   "execution_count": 14,
   "metadata": {
    "colab": {},
    "colab_type": "code",
    "id": "itPYHuJ5tusi"
   },
   "outputs": [
    {
     "data": {
      "text/plain": [
       "['amarillo', 'rojo', 'rojo', 'verde', 'azul']"
      ]
     },
     "execution_count": 14,
     "metadata": {},
     "output_type": "execute_result"
    }
   ],
   "source": [
    "L[::-1]"
   ]
  },
  {
   "cell_type": "code",
   "execution_count": 15,
   "metadata": {
    "colab": {},
    "colab_type": "code",
    "id": "WkTtItG0tusk"
   },
   "outputs": [
    {
     "name": "stdout",
     "output_type": "stream",
     "text": [
      "['azul', 'verde', 'verde', 'rojo', 'amarillo']\n"
     ]
    }
   ],
   "source": [
    "# Puedo modificar el contenido de la lista\n",
    "\n",
    "L[2] = 'verde'\n",
    "print(L)"
   ]
  },
  {
   "cell_type": "markdown",
   "metadata": {},
   "source": [
    "Como la lista es un objeto usaremos algunas de las funciones o métodos ya programados en el objeto lista.\n",
    "\n",
    "En este caso \"append( )\", \"insert( )\", \"extend( )\",\"count( )\" y \"sort( )\"\n",
    "\n",
    "Muchos de estos métodos pueden utilizarse en la forma \"punto\" (\"dot\" en inglés) en la cual aplico el método\n",
    "haciendo:\n",
    "\n",
    "Lista.método() donde dentro de los ( ) puedo agregar argumentos para casos especiales.\n",
    "\n",
    "Veamos como los puedo usar:\n",
    "\n",
    "append( ) $\\rightarrow$ agrega un nuevo dato al final y lo uso en modo \"dot\".\n"
   ]
  },
  {
   "cell_type": "code",
   "execution_count": 16,
   "metadata": {
    "colab": {},
    "colab_type": "code",
    "id": "aQt4ies6tusn"
   },
   "outputs": [
    {
     "data": {
      "text/plain": [
       "['azul', 'verde', 'verde', 'rojo', 'amarillo', 'rosa']"
      ]
     },
     "execution_count": 16,
     "metadata": {},
     "output_type": "execute_result"
    }
   ],
   "source": [
    "L.append('rosa') # agregar un valor al final\n",
    "L"
   ]
  },
  {
   "cell_type": "markdown",
   "metadata": {},
   "source": [
    "insert( ) $\\rightarrow$ Agrega un nuevo dato en la posición indicada"
   ]
  },
  {
   "cell_type": "code",
   "execution_count": 17,
   "metadata": {
    "colab": {},
    "colab_type": "code",
    "id": "6fN3xobLtusp"
   },
   "outputs": [
    {
     "data": {
      "text/plain": [
       "['azul', 'verde', 'blue', 'verde', 'rojo', 'amarillo', 'rosa']"
      ]
     },
     "execution_count": 17,
     "metadata": {},
     "output_type": "execute_result"
    }
   ],
   "source": [
    "L.insert(2, 'blue')    #  L.insert(índice, objeto) -- insertar un elemento \n",
    "                       # en el lugar dado por el índice\n",
    "L"
   ]
  },
  {
   "cell_type": "markdown",
   "metadata": {},
   "source": [
    "\n",
    "extend( ) $\\rightarrow$ agrega un iterable"
   ]
  },
  {
   "cell_type": "code",
   "execution_count": 18,
   "metadata": {
    "colab": {},
    "colab_type": "code",
    "id": "gJMtc444tusr"
   },
   "outputs": [
    {
     "data": {
      "text/plain": [
       "['azul',\n",
       " 'verde',\n",
       " 'blue',\n",
       " 'verde',\n",
       " 'rojo',\n",
       " 'amarillo',\n",
       " 'rosa',\n",
       " 'magenta',\n",
       " 'violeta']"
      ]
     },
     "execution_count": 18,
     "metadata": {},
     "output_type": "execute_result"
    }
   ],
   "source": [
    "L.extend(['magenta', 'violeta'])\n",
    "L"
   ]
  },
  {
   "cell_type": "markdown",
   "metadata": {},
   "source": [
    "\n",
    "sort( ) $\\rightarrow$ Ordena los elementos de la lista"
   ]
  },
  {
   "cell_type": "code",
   "execution_count": 19,
   "metadata": {},
   "outputs": [
    {
     "name": "stdout",
     "output_type": "stream",
     "text": [
      "Lista no ordenada ['azul', 'verde', 'blue', 'verde', 'rojo', 'amarillo', 'rosa', 'magenta', 'violeta']\n",
      "\n",
      "Lista ordenada alfabeticamente ['amarillo', 'azul', 'blue', 'magenta', 'rojo', 'rosa', 'verde', 'verde', 'violeta']\n",
      "Lista ordenada descendiente ['violeta', 'verde', 'verde', 'rosa', 'rojo', 'magenta', 'blue', 'azul', 'amarillo']\n"
     ]
    }
   ],
   "source": [
    "L2 = L.copy()   # Notar que no se hizo L2=L ¿Cuál es la diferencia entre ambas operaciones?\n",
    "L2.sort()\n",
    "print(\"Lista no ordenada\", L)\n",
    "print(\"\")\n",
    "print(\"Lista ordenada alfabeticamente\",L2)\n",
    "\n",
    "# Pero si quiero ordenar la lista descendiendo\n",
    "# indico que \"reverse\" (al revés) sea verdadero\n",
    "# Desceniente significa que si son números van del más\n",
    "# grande al más chico. Y si textos Van de la Z a la A.\n",
    "\n",
    "L2.sort(reverse=True)\n",
    "print(\"Lista ordenada descendiente\", L2) "
   ]
  },
  {
   "cell_type": "markdown",
   "metadata": {},
   "source": [
    "\n",
    "count() $\\rightarrow$ cuenta la cantidad de veces que un tipo particular de elemento se encuentra en la lista. Notar que la busqueda se hace indicando el elemento en cuestión como argumento de la función.  "
   ]
  },
  {
   "cell_type": "code",
   "execution_count": 20,
   "metadata": {
    "colab": {},
    "colab_type": "code",
    "id": "0QOInB21tus2"
   },
   "outputs": [
    {
     "name": "stdout",
     "output_type": "stream",
     "text": [
      "0\n"
     ]
    }
   ],
   "source": [
    "print(L.count('yellow')) "
   ]
  },
  {
   "cell_type": "code",
   "execution_count": 21,
   "metadata": {
    "colab": {},
    "colab_type": "code",
    "id": "mueujdNHvGrc"
   },
   "outputs": [
    {
     "name": "stdout",
     "output_type": "stream",
     "text": [
      "1\n"
     ]
    }
   ],
   "source": [
    "print(L.count('amarillo'))"
   ]
  },
  {
   "cell_type": "markdown",
   "metadata": {},
   "source": [
    "Hay que recordar también que la lista puede contener cualquier variable como elemento, incluyendo otro iterable"
   ]
  },
  {
   "cell_type": "code",
   "execution_count": 22,
   "metadata": {
    "colab": {},
    "colab_type": "code",
    "id": "ZeqRv_FMtust"
   },
   "outputs": [
    {
     "data": {
      "text/plain": [
       "['azul',\n",
       " 'verde',\n",
       " 'blue',\n",
       " 'verde',\n",
       " 'rojo',\n",
       " 'amarillo',\n",
       " 'rosa',\n",
       " 'magenta',\n",
       " 'violeta',\n",
       " 2]"
      ]
     },
     "execution_count": 22,
     "metadata": {},
     "output_type": "execute_result"
    }
   ],
   "source": [
    "L.append(2)\n",
    "L"
   ]
  },
  {
   "cell_type": "code",
   "execution_count": 23,
   "metadata": {
    "colab": {},
    "colab_type": "code",
    "id": "KFJD7FIMtusv"
   },
   "outputs": [
    {
     "data": {
      "text/plain": [
       "[2,\n",
       " 'violeta',\n",
       " 'magenta',\n",
       " 'rosa',\n",
       " 'amarillo',\n",
       " 'rojo',\n",
       " 'verde',\n",
       " 'blue',\n",
       " 'verde',\n",
       " 'azul']"
      ]
     },
     "execution_count": 23,
     "metadata": {},
     "output_type": "execute_result"
    }
   ],
   "source": [
    "L = L[::-1] # Orden reverso\n",
    "L"
   ]
  },
  {
   "cell_type": "code",
   "execution_count": 24,
   "metadata": {
    "colab": {},
    "colab_type": "code",
    "id": "EHVyJehotusx"
   },
   "outputs": [
    {
     "name": "stdout",
     "output_type": "stream",
     "text": [
      "[2, 'violeta', 'magenta', 'rosa', 'amarillo', 'rojo', 'verde', 'blue', 'verde', 'azul']\n",
      "[2, 'violeta', 'magenta', 'rosa', 'amarillo', 'rojo', 'verde']\n"
     ]
    }
   ],
   "source": [
    "L2 = L[:-3] # Elimina ya que corta los últimos 3 elementos\n",
    "print(L)\n",
    "print(L2)"
   ]
  },
  {
   "cell_type": "code",
   "execution_count": 25,
   "metadata": {
    "colab": {},
    "colab_type": "code",
    "id": "46XJYIiqtusy"
   },
   "outputs": [],
   "source": [
    "#L[25] # Fuera del rango, da error"
   ]
  },
  {
   "cell_type": "code",
   "execution_count": 26,
   "metadata": {
    "colab": {},
    "colab_type": "code",
    "id": "_7HZs_PNtus0"
   },
   "outputs": [
    {
     "name": "stdout",
     "output_type": "stream",
     "text": [
      "[2, 'violeta', 'magenta', 'rosa', 'amarillo', 'rojo', 'verde', 'blue', 'verde', 'azul']\n",
      "[]\n",
      "[]\n",
      "['magenta', 'rosa', 'amarillo', 'rojo', 'verde', 'blue', 'verde', 'azul']\n"
     ]
    }
   ],
   "source": [
    "print(L)\n",
    "print(L[20:25]) # No hay error cuando rebano (slicing).\n",
    "print(L[20:])\n",
    "print(L[2:20])"
   ]
  },
  {
   "cell_type": "markdown",
   "metadata": {},
   "source": [
    "Como la lista es un objeto en la clase asociada que la define hay también programadas funciones o métodos. Veamos la funcion \n",
    "*count* que me cuenta los elementos que tengan un valor determinado. En este caso los que tengan la palabra \"yellow\" y luego la palabra \"amarillo\"."
   ]
  },
  {
   "cell_type": "code",
   "execution_count": 27,
   "metadata": {
    "colab": {},
    "colab_type": "code",
    "id": "0QOInB21tus2"
   },
   "outputs": [
    {
     "name": "stdout",
     "output_type": "stream",
     "text": [
      "['__add__', '__class__', '__class_getitem__', '__contains__', '__delattr__', '__delitem__', '__dir__', '__doc__', '__eq__', '__format__', '__ge__', '__getattribute__', '__getitem__', '__gt__', '__hash__', '__iadd__', '__imul__', '__init__', '__init_subclass__', '__iter__', '__le__', '__len__', '__lt__', '__mul__', '__ne__', '__new__', '__reduce__', '__reduce_ex__', '__repr__', '__reversed__', '__rmul__', '__setattr__', '__setitem__', '__sizeof__', '__str__', '__subclasshook__', 'append', 'clear', 'copy', 'count', 'extend', 'index', 'insert', 'pop', 'remove', 'reverse', 'sort']\n"
     ]
    }
   ],
   "source": [
    "print(dir(L))"
   ]
  },
  {
   "cell_type": "markdown",
   "metadata": {},
   "source": [
    "También puedo asignar un resultado de filtrar una lista a otra lista."
   ]
  },
  {
   "cell_type": "code",
   "execution_count": 28,
   "metadata": {
    "colab": {},
    "colab_type": "code",
    "id": "ygBr090Ctus4"
   },
   "outputs": [
    {
     "name": "stdout",
     "output_type": "stream",
     "text": [
      "['amarillo', 'azul', 'blue', 'magenta', 'rojo', 'rosa', 'verde', 'verde']\n"
     ]
    }
   ],
   "source": [
    "L1=L[2:]\n",
    "L1.sort() # Se puede usar la tecla tab para ver los métodos o funciones \n",
    "          # del objeto. \n",
    "          # Esta puede variar según el origen del notebook utilizado\n",
    "print(L1)"
   ]
  },
  {
   "cell_type": "code",
   "execution_count": 29,
   "metadata": {
    "colab": {},
    "colab_type": "code",
    "id": "NhFfKmOAtus6"
   },
   "outputs": [],
   "source": [
    "a = [1,2,3]\n",
    "b = [10,20,30]"
   ]
  },
  {
   "cell_type": "code",
   "execution_count": 30,
   "metadata": {
    "colab": {},
    "colab_type": "code",
    "id": "cLJ6lA_Wtus8"
   },
   "outputs": [
    {
     "name": "stdout",
     "output_type": "stream",
     "text": [
      "[1, 2, 3, 10, 20, 30]\n"
     ]
    }
   ],
   "source": [
    "print(a+b) # NO es lo que uno espera (o si?), pero tiene cierta lógica "
   ]
  },
  {
   "cell_type": "markdown",
   "metadata": {},
   "source": [
    "Lo que pasó fue que la suma concatenó ambas lista, es decir, pegó **b** después de **a**.\n",
    "\n",
    "Y que pasará si hago:\n",
    "\n",
    "c = a*5"
   ]
  },
  {
   "cell_type": "code",
   "execution_count": 31,
   "metadata": {},
   "outputs": [
    {
     "name": "stdout",
     "output_type": "stream",
     "text": [
      "[1, 2, 3, 1, 2, 3, 1, 2, 3]\n"
     ]
    }
   ],
   "source": [
    "c = a*3\n",
    "print(c)"
   ]
  },
  {
   "cell_type": "markdown",
   "metadata": {},
   "source": [
    "Lo que sucedió fue que la lista **a** se concatenó 3 veces, y fue equivalente a hacer **c = a + a + a**"
   ]
  },
  {
   "cell_type": "code",
   "execution_count": 32,
   "metadata": {
    "colab": {},
    "colab_type": "code",
    "id": "I8O-HzCXtus_"
   },
   "outputs": [],
   "source": [
    "#print(a*b) # No se pueden multiplicar listas (Usar Numpy si son números \n",
    "            # --> lo veremos la clase que viene) "
   ]
  },
  {
   "cell_type": "markdown",
   "metadata": {},
   "source": [
    "## Creando listas con comandos\n",
    "\n",
    "Hay maneras en Python de crear listas en Python cuando tienen patrones simples de una manera muy rápida y eficiente, veamos una forma simple de hacerlo con la función **range( )** "
   ]
  },
  {
   "cell_type": "code",
   "execution_count": 33,
   "metadata": {
    "colab": {},
    "colab_type": "code",
    "id": "ucGgI9VqtutB"
   },
   "outputs": [
    {
     "data": {
      "text/plain": [
       "[0, 1, 2, 3]"
      ]
     },
     "execution_count": 33,
     "metadata": {},
     "output_type": "execute_result"
    }
   ],
   "source": [
    "L = list(range(4)) # Crea una lista a partir de un definición numérica. \n",
    "                   # El número es la cantidad de elementos.  \n",
    "                   # pero también indica que el último es el N-1\n",
    "                   # porque el primer elemento es el 0.\n",
    "L"
   ]
  },
  {
   "cell_type": "markdown",
   "metadata": {},
   "source": [
    "**Range** se usa en su mínima expresión con el número final-1, en este ejemplo 4. Ya que mi valor final era \"3\". Esto se debe a que empiezo a contar no en \"1\", sino en el número \"0\", lo que da a lugar a muchas confusiones.\n",
    "\n",
    "En la forma más general es **range(inicio,final-paso, paso)**\n",
    "\n",
    "Como pueden ver en ejemplo anterior, si inicio no está se considera que es \"0\", y sino está indicado el paso es \"1\".\n",
    "\n",
    "Y si quiero una lista de número pares:"
   ]
  },
  {
   "cell_type": "code",
   "execution_count": 34,
   "metadata": {
    "colab": {},
    "colab_type": "code",
    "id": "eE8r45gftutD"
   },
   "outputs": [
    {
     "data": {
      "text/plain": [
       "[2, 4, 6, 8, 10, 12, 14, 16, 18]"
      ]
     },
     "execution_count": 34,
     "metadata": {},
     "output_type": "execute_result"
    }
   ],
   "source": [
    "L = list(range(2, 20, 2)) # cada 2 enteros\n",
    "L"
   ]
  },
  {
   "cell_type": "markdown",
   "metadata": {
    "colab_type": "text",
    "id": "bCxIN9SMtutH"
   },
   "source": [
    "Puedo borrar elementos, en el ejemplo que sigue quito el quinto elemento, pero en general se usa el comando **del( )**\n",
    "para remover el n+1-avo elemento. Es el n+1 porque hay que recordar que el primer elemento es el\n",
    "\"0\""
   ]
  },
  {
   "cell_type": "code",
   "execution_count": 35,
   "metadata": {
    "colab": {},
    "colab_type": "code",
    "id": "SAzBBQuYtutH"
   },
   "outputs": [
    {
     "name": "stdout",
     "output_type": "stream",
     "text": [
      "[0, 2, 4, 6, 8, 10, 12, 14, 16, 18]\n",
      "[0, 2, 4, 6, 8, 12, 14, 16, 18]\n"
     ]
    }
   ],
   "source": [
    "L = list(range(0,20,2))\n",
    "print(L)\n",
    "del L[5]\n",
    "print(L)"
   ]
  },
  {
   "cell_type": "markdown",
   "metadata": {},
   "source": [
    "#  Listas de listas\n",
    "\n",
    "Es algo que se puede hacer, ya que una lista puede tener elementos de diferentes tipos de variables\n",
    "También puede tener como elemento a otra lista."
   ]
  },
  {
   "cell_type": "code",
   "execution_count": 36,
   "metadata": {
    "colab": {},
    "colab_type": "code",
    "id": "xBur_FcHtutJ"
   },
   "outputs": [
    {
     "name": "stdout",
     "output_type": "stream",
     "text": [
      "[[1, 2, 3], [10, 20, 30], [100, 200, 300]]\n"
     ]
    }
   ],
   "source": [
    "a = [[1, 2, 3], [10, 20, 30], [100, 200, 300]] # No es 2D (no es una MATRIZ, \n",
    "                                               # OJO es una tabla de tablas\n",
    "print(a)\n"
   ]
  },
  {
   "cell_type": "code",
   "execution_count": 37,
   "metadata": {},
   "outputs": [
    {
     "name": "stdout",
     "output_type": "stream",
     "text": [
      "[1, 2, 3]\n"
     ]
    }
   ],
   "source": [
    "print(a[0])"
   ]
  },
  {
   "cell_type": "markdown",
   "metadata": {},
   "source": [
    "El elemento \"0\" es una lista"
   ]
  },
  {
   "cell_type": "code",
   "execution_count": 38,
   "metadata": {},
   "outputs": [
    {
     "name": "stdout",
     "output_type": "stream",
     "text": [
      "20\n"
     ]
    }
   ],
   "source": [
    "print(a[1][1])"
   ]
  },
  {
   "cell_type": "markdown",
   "metadata": {},
   "source": [
    "Pero en este caso tomo la lista \"1\" y de ahí ahora tomo su elemento \"1\""
   ]
  },
  {
   "cell_type": "code",
   "execution_count": 39,
   "metadata": {
    "colab": {},
    "colab_type": "code",
    "id": "sC6GdsG2tutL"
   },
   "outputs": [],
   "source": [
    "#print(a[1,1]) # NO FUNCIONA, no son matrices"
   ]
  },
  {
   "cell_type": "code",
   "execution_count": 40,
   "metadata": {
    "colab": {},
    "colab_type": "code",
    "id": "ExGCieDftutM"
   },
   "outputs": [
    {
     "name": "stdout",
     "output_type": "stream",
     "text": [
      "[10, 20, 30]\n"
     ]
    }
   ],
   "source": [
    "b = a[1]\n",
    "print(b)"
   ]
  },
  {
   "cell_type": "markdown",
   "metadata": {},
   "source": [
    "Lo que hice fue tomar la lista \"1\" y asignar la lista entera a la variable b\n",
    "Y veo que puedo cambiar un sólo valor en particular de esa lista."
   ]
  },
  {
   "cell_type": "code",
   "execution_count": 41,
   "metadata": {
    "colab": {},
    "colab_type": "code",
    "id": "CLBfwcXMtutO"
   },
   "outputs": [
    {
     "name": "stdout",
     "output_type": "stream",
     "text": [
      "[10, 999, 30]\n"
     ]
    }
   ],
   "source": [
    "b[1] = 999\n",
    "print(b)"
   ]
  },
  {
   "cell_type": "code",
   "execution_count": 42,
   "metadata": {
    "colab": {},
    "colab_type": "code",
    "id": "hsDBwsYZtutP"
   },
   "outputs": [
    {
     "name": "stdout",
     "output_type": "stream",
     "text": [
      "[[1, 2, 3], [10, 999, 30], [100, 200, 300]]\n"
     ]
    }
   ],
   "source": [
    "print(a) # Cambiando b cambiamos a, Cuidado !!!"
   ]
  },
  {
   "cell_type": "markdown",
   "metadata": {},
   "source": [
    "Los objetos cuando se asignan no se copian sino que se asignan con el mismo nombre a esas variables. No se crea\n",
    "un nuevo objeto, sino que con distintos nombres se llaman al mismo objeto o a parte de él como en este caso.\n",
    "Podemos preguntar con el operador \"is\" si es el mismo objeto."
   ]
  },
  {
   "cell_type": "markdown",
   "metadata": {},
   "source": [
    "https://stackoverflow.com/questions/306313/is-operator-behaves-unexpectedly-with-integers"
   ]
  },
  {
   "cell_type": "code",
   "execution_count": 43,
   "metadata": {
    "colab": {},
    "colab_type": "code",
    "id": "MLTtubbMtutS"
   },
   "outputs": [
    {
     "data": {
      "text/plain": [
       "True"
      ]
     },
     "execution_count": 43,
     "metadata": {},
     "output_type": "execute_result"
    }
   ],
   "source": [
    "b[1] is a[1][1]"
   ]
  },
  {
   "cell_type": "code",
   "execution_count": 44,
   "metadata": {
    "colab": {},
    "colab_type": "code",
    "id": "MHTnP3UntutT"
   },
   "outputs": [
    {
     "name": "stdout",
     "output_type": "stream",
     "text": [
      "[10, 999, 30]\n",
      "[77777, 999, 30]\n",
      "[[1, 2, 3], [10, 999, 30], [100, 200, 300]]\n"
     ]
    },
    {
     "data": {
      "text/plain": [
       "False"
      ]
     },
     "execution_count": 44,
     "metadata": {},
     "output_type": "execute_result"
    }
   ],
   "source": [
    "c = a[1][::] # copiar en vez de rebanar esto crea un nuevo objeto\n",
    "print(c)\n",
    "c[0] = 77777\n",
    "print(c)\n",
    "print(a)\n",
    "a[1] is c"
   ]
  },
  {
   "cell_type": "markdown",
   "metadata": {},
   "source": [
    "---\n",
    "Los métodos asociados a las listas son:\n",
    ">\n",
    ">* sort( ): Ordena la lista en orden ascendente. \n",
    ">* type( ): Indica el tipo de Clase de un objeto.\n",
    ">* append( ): Agrega un elemento a la lista. \n",
    ">* extend( ): Agrega varios elementos a la lista.\n",
    ">* index( ): Retorna la primera aparición de un valor en particular.\n",
    ">* max( ): Retorna el item que tiene el valor máximo.\n",
    ">* min( ): Retorna el item que tiene el valor mínimo.\n",
    ">* len( ): Retorna la cantindad de elementos de una lista.\n",
    ">* clear( ): Borra la lista.\n",
    ">* insert( ): Inserta un elemento en la posición requerida. \n",
    ">* count( ): Retorna el número de veces que un elemento tiene el valor indicado.\n",
    ">* pop( ): Borra un elemento en la posición requerida y lo devuelve a una variable.\n",
    ">* remove( ): Borra la primera aparición de elemento con el valor indicado.\n",
    ">* reverse( ): Da vuelta el orden de los elementos de una lista. \n",
    ">* copy( ):  Duplica la lista. \n",
    "\n"
   ]
  },
  {
   "cell_type": "markdown",
   "metadata": {
    "colab_type": "text",
    "id": "hfgBV9vbtutV"
   },
   "source": [
    "#  Tuplas\n",
    "\n",
    "Son como las listas, pero sus valores son inmutables (no se pueden modificar durante la corrida del programa)\n",
    "\n",
    "Usan **( )** para indicar que es una tupla, a diferencia de las listas donde se usan **[ ]** \n",
    "\n",
    "En muchas maneras las tuplas son parecidas a las listas, pero la diferencia más importante es que las tuplas pueden usarse  como índices (keys) en un diccionario y como elementos de un set, mientras las listas NO PUEDEN ser usadas para estas tareas.\n",
    "Veremos que son diccionarios y sets a continuación.\n",
    "\n",
    "La ventaja de las tuplas con respecto a las listas es que estas últimas tienen una gran cantidad de métodos o funciones programadas por lo cual son un objeto que necesita más recursos computacionales. Por eso se diseño a las Tuplas para que sean más \"livianas\" y por lo tanto también más rápidas.\n",
    "\n",
    "Las funciones en Python que pueden devolver más de un valor retornan los resultados en forma de una Tupla.\n",
    "\n",
    "Dos funciones que tienen las tuplas pre-programadas son count( ) y index( ), la primera cuenta la cantidad de veces que cierto elemento se encuentra en una tupla y la segunda nos da el índice de la primera aparición de un elemento en particular. \n",
    "\n",
    "Las funciones en Python que pueden devolver más de un valor retornan los resultados en forma de una Tupla.\n",
    "\n",
    "Ejemplos:"
   ]
  },
  {
   "cell_type": "code",
   "execution_count": 45,
   "metadata": {
    "colab": {},
    "colab_type": "code",
    "id": "6YGJvxUHtutV"
   },
   "outputs": [
    {
     "name": "stdout",
     "output_type": "stream",
     "text": [
      "1\n",
      "4\n"
     ]
    }
   ],
   "source": [
    "T = (1,2,3)\n",
    "print(T.count(1))  # Cuento cuantas veces aparece el número \"1\"\n",
    "\n",
    "T2 = (1,2,3,4,5,2,3,4,2,2)\n",
    "print(T2.count(2))  # Cuento cuantas veces aparece el número \"2\""
   ]
  },
  {
   "cell_type": "code",
   "execution_count": 46,
   "metadata": {},
   "outputs": [
    {
     "data": {
      "text/plain": [
       "1"
      ]
     },
     "execution_count": 46,
     "metadata": {},
     "output_type": "execute_result"
    }
   ],
   "source": [
    "T.index(2)  # Retorna donde está el valor buscado, en este caso un \"2\""
   ]
  },
  {
   "cell_type": "markdown",
   "metadata": {},
   "source": [
    "Aunque es poco usado, si cargo varios elementos en una variable en una sola asignación, separados por comas, se presupone que la variable será una tupla: "
   ]
  },
  {
   "cell_type": "code",
   "execution_count": 47,
   "metadata": {
    "colab": {},
    "colab_type": "code",
    "id": "YlnI9QmwtutY"
   },
   "outputs": [
    {
     "name": "stdout",
     "output_type": "stream",
     "text": [
      "(1, 2, 3)\n"
     ]
    },
    {
     "data": {
      "text/plain": [
       "tuple"
      ]
     },
     "execution_count": 47,
     "metadata": {},
     "output_type": "execute_result"
    }
   ],
   "source": [
    "T2 = 1, 2, 3\n",
    "print(T2)\n",
    "type(T2)"
   ]
  },
  {
   "cell_type": "code",
   "execution_count": 48,
   "metadata": {
    "colab": {},
    "colab_type": "code",
    "id": "6f1Ic95Wtutb"
   },
   "outputs": [
    {
     "data": {
      "text/plain": [
       "2"
      ]
     },
     "execution_count": 48,
     "metadata": {},
     "output_type": "execute_result"
    }
   ],
   "source": [
    "T[1]"
   ]
  },
  {
   "cell_type": "code",
   "execution_count": 49,
   "metadata": {
    "colab": {},
    "colab_type": "code",
    "id": "Tuo0uqtwtutd"
   },
   "outputs": [],
   "source": [
    "### Las tuplas son inmutables\n"
   ]
  },
  {
   "cell_type": "code",
   "execution_count": 50,
   "metadata": {
    "colab": {},
    "colab_type": "code",
    "id": "0FZeriWUtute"
   },
   "outputs": [],
   "source": [
    "#T(1) = 3 # No funciona"
   ]
  },
  {
   "cell_type": "markdown",
   "metadata": {},
   "source": [
    "La única manera de borrar los elementos de una tupla es volver a escribirla de nuevo entera. "
   ]
  },
  {
   "cell_type": "code",
   "execution_count": 51,
   "metadata": {
    "colab": {},
    "colab_type": "code",
    "id": "Cf2oA-Yttuth"
   },
   "outputs": [
    {
     "data": {
      "text/plain": [
       "(3, 2, 1)"
      ]
     },
     "execution_count": 51,
     "metadata": {},
     "output_type": "execute_result"
    }
   ],
   "source": [
    "T=(3,2,1)  # la tengo que escribir toda de nuevo\n",
    "T"
   ]
  },
  {
   "cell_type": "markdown",
   "metadata": {},
   "source": [
    "Veamos una característica muy especial de las tuplas. Creo varias tuplas de tamaños diferentes y las imprimo:"
   ]
  },
  {
   "cell_type": "code",
   "execution_count": 52,
   "metadata": {},
   "outputs": [
    {
     "name": "stdout",
     "output_type": "stream",
     "text": [
      "(1, 2, 3)\n",
      "(1, 2)\n",
      "22\n",
      "()\n"
     ]
    }
   ],
   "source": [
    "t3=(1,2,3)\n",
    "t2=(1,2)\n",
    "t1=(22)\n",
    "t0=()\n",
    "\n",
    "# imprimo los valores\n",
    "\n",
    "print(t3)\n",
    "print(t2)\n",
    "print(t1)\n",
    "print(t0)"
   ]
  },
  {
   "cell_type": "markdown",
   "metadata": {},
   "source": [
    "¿Qué paso aquí?\n",
    "\n",
    "Por lo que se aprecia según el resultado de la impresión son todas tuplas ya que tienen los ( ), salvo cuando imprimo la que tiene un sólo elemento. El cual aparece como un número sin los ( ) que caracterizan a la Tupla. Es decir que es un número y no una Tupla. \n",
    "Note que incluso la que está vacia se imprimió con ( ), indicando que aún no teniendo ningún elemento sigue siendo una tupla.\n",
    "\n",
    "¿Porque se diseñaron las tuplas con esta característica?\n",
    "\n",
    "La razón es para permitir que se pueda acceder rápidamente a los valores guardados para asignarlos a variables individuales en una sola sentencia.\n",
    "\n",
    "Y esto se realiza de la siguiente forma:\n",
    "\n",
    "var1,var2,var3,... = Tupla(val1,val2,val3,...) \n",
    "\n",
    "donde la cantidad de variables debe ser igual a la cantidad de valores en la tupla\n",
    "\n",
    "Ejemplo:"
   ]
  },
  {
   "cell_type": "markdown",
   "metadata": {},
   "source": [
    "Tengo la tuppla t_prueba que tiene los siguientes valores\n",
    "```\n",
    "t_prueba = (1,2,3,4)\n",
    "```\n",
    "Si quisiera pasar esos valores a las variables a,b,c,d\n",
    "la manera más \"clasica\" sería:\n",
    "```\n",
    "a = t_prueba[0]\n",
    "b = t_prueba[1]\n",
    "c = t_prueba[2]\n",
    "d = t_prueba[3]\n",
    "```\n",
    "Que es largo y lento, además en un caso real podría tener muchas más variables. Pero como\n",
    "es una tupla podría hacer:"
   ]
  },
  {
   "cell_type": "code",
   "execution_count": 53,
   "metadata": {},
   "outputs": [
    {
     "name": "stdout",
     "output_type": "stream",
     "text": [
      "1\n",
      "2\n",
      "3\n",
      "4\n",
      "T_prueba es: <class 'tuple'>  a es: <class 'int'>\n"
     ]
    }
   ],
   "source": [
    "t_prueba = (1,2,3,4)\n",
    "\n",
    "a,b,c,d = t_prueba\n",
    "\n",
    "print(a)\n",
    "print(b)\n",
    "print(c)\n",
    "print(d)\n",
    "\n",
    "print(\"T_prueba es:\",type(t_prueba),\" a es:\",type(a))"
   ]
  },
  {
   "cell_type": "markdown",
   "metadata": {},
   "source": [
    "Para crear una tupla con un solo elemento debe indicarse con (elemento,). Note la \",\"\n",
    "\n",
    "Como lo hacemos en el ejemplo sigue:"
   ]
  },
  {
   "cell_type": "code",
   "execution_count": 54,
   "metadata": {},
   "outputs": [
    {
     "name": "stdout",
     "output_type": "stream",
     "text": [
      "(22.3,)\n"
     ]
    }
   ],
   "source": [
    "T=(22.3,)\n",
    "print(T)\n"
   ]
  },
  {
   "cell_type": "markdown",
   "metadata": {},
   "source": [
    "# Sets\n",
    "\n",
    "Los **sets** son listas sin numerar, es decir los elementos no tienen una posición númerica con la cual\n",
    "el programador podría elegirlos en un orden determinado para una actividad. \n",
    "\n",
    "Se distinguen de las listas por el uso de los **{ }**.\n",
    "\n",
    "No son muy usados, pero existen y están disponibles.\n",
    "Su principal ventaja es que al no estar númerados, son más simples\n",
    "y por lo tanto más eficientes en el momento de ser usados.\n",
    "Los elementos en un set no pueden estar repetidos.\n",
    "\n",
    "Pero si tienen una contraparte matemática clara, son la implementación en Python de la teoría de conjuntos\n",
    "en Python ¿Recuerdan los diagrams de Venn?\n",
    "\n",
    "Por lo cual, los elementos de set serían equivalentes a los elementos de un conjunto y el set el conjunto.\n",
    " \n",
    "\n",
    "Ejemplo:\n"
   ]
  },
  {
   "cell_type": "code",
   "execution_count": 55,
   "metadata": {},
   "outputs": [
    {
     "name": "stdout",
     "output_type": "stream",
     "text": [
      "{'gato', 'loro', 'perro'}\n",
      "<class 'set'>\n"
     ]
    }
   ],
   "source": [
    "Mi_set={\"gato\",\"perro\",\"loro\"}\n",
    "print(Mi_set)\n",
    "print(type(Mi_set))"
   ]
  },
  {
   "cell_type": "markdown",
   "metadata": {},
   "source": [
    "El método **add( )** de los set permite agregar nuevos elementos a un set ya existente."
   ]
  },
  {
   "cell_type": "code",
   "execution_count": 56,
   "metadata": {},
   "outputs": [
    {
     "name": "stdout",
     "output_type": "stream",
     "text": [
      "{'gato', 'elefante', 'loro', 'perro'}\n"
     ]
    }
   ],
   "source": [
    "Mi_set.add(\"elefante\")\n",
    "print(Mi_set)"
   ]
  },
  {
   "cell_type": "markdown",
   "metadata": {},
   "source": [
    "Note que puede no haberse agregado final, ya que los set no tiene un orden establecido y este puede variar entre una computadora y otra cuando se ejecute este comando.\n",
    "\n",
    "Y si vuelvo a agregar elementos que ya tengo: "
   ]
  },
  {
   "cell_type": "code",
   "execution_count": 57,
   "metadata": {},
   "outputs": [
    {
     "name": "stdout",
     "output_type": "stream",
     "text": [
      "{'loro', 'gato', 'elefante', 'perro', 'tortuga'}\n"
     ]
    }
   ],
   "source": [
    "Mi_set.add(\"elefante\")\n",
    "Mi_set.add(\"tortuga\")\n",
    "Mi_set.add(\"gato\")\n",
    "\n",
    "print(Mi_set)"
   ]
  },
  {
   "cell_type": "markdown",
   "metadata": {},
   "source": [
    "Tal como indicamos de los elementos repetidos sólo se consideró uno como válido \n",
    "\n",
    "Los elementos de un set pueden ser removidos con los métodos \"remove( )\" o \"discard( )\", el primero da error si elemento no está y el segundo no (y el programa continua corriendo).\n",
    "\n",
    "También existen métodos para realizar uniones o intersecciones entre dos sets de la forma en que se usan en teoría de Conjuntos. "
   ]
  },
  {
   "cell_type": "code",
   "execution_count": 58,
   "metadata": {},
   "outputs": [
    {
     "name": "stdout",
     "output_type": "stream",
     "text": [
      "Removí el 1 del set, ahora me quedan= {2, 3, 4, 5, 6}\n",
      "\n",
      "La unión de ambos sets seria: {2, 3, 4, 5, 6, 8, 10}\n",
      "La intersección de ambos sets seria: {2, 4, 6}\n"
     ]
    }
   ],
   "source": [
    "set1 = {1,2,3,4,5,6}\n",
    "set2 = {2,4,6,8,10}\n",
    "\n",
    "set1.remove(1)\n",
    "print(\"Removí el 1 del set, ahora me quedan=\", set1)\n",
    "print(\"\")\n",
    "\n",
    "print(\"La unión de ambos sets seria:\",set1.union(set2))\n",
    "print(\"La intersección de ambos sets seria:\",set1.intersection(set2))"
   ]
  },
  {
   "cell_type": "markdown",
   "metadata": {},
   "source": [
    "# Frozensets\n",
    "\n",
    "Los **Frozen sets** o \"sets congelados\" son **sets** pero con la misma características que las tuplas, son inmutables. En otras palabras son un set, pero no puedo reasignar con otros valores a las variables una vez creados.\n",
    "\n",
    "Se utiliza la función frozenset() para crearlos a partir de una lista o una tupla.\n",
    "a diferencia de un set donde se usan{} para indicar su naturaleza, un frozen set se anota con doble\n",
    "sístema de símbolos de esta manera \"frozenset({elementos})\"\n",
    "\n"
   ]
  },
  {
   "cell_type": "code",
   "execution_count": 59,
   "metadata": {},
   "outputs": [
    {
     "name": "stdout",
     "output_type": "stream",
     "text": [
      "[1, 2, 3, 4, 5]\n",
      "<class 'list'>\n",
      "\n",
      "frozenset({1, 2, 3, 4, 5})\n",
      "<class 'frozenset'>\n"
     ]
    }
   ],
   "source": [
    "ejemplo_de_una_lista = [1,2,3,4,5]\n",
    "# Convierto la lista en un frozenset\n",
    "\n",
    "frozen_set = frozenset(ejemplo_de_una_lista)\n",
    "\n",
    "# Y me fijo al diferencia entre la lista y el frozen set\n",
    "print(ejemplo_de_una_lista)\n",
    "print(type(ejemplo_de_una_lista))\n",
    "print()\n",
    "\n",
    "print(frozen_set)\n",
    "print(type(frozen_set))\n"
   ]
  },
  {
   "cell_type": "markdown",
   "metadata": {},
   "source": [
    "También puedo crearlos a partir de una tupla"
   ]
  },
  {
   "cell_type": "code",
   "execution_count": 60,
   "metadata": {},
   "outputs": [
    {
     "name": "stdout",
     "output_type": "stream",
     "text": [
      "(1, 2, 3, 4, 5)\n",
      "<class 'tuple'>\n",
      "\n",
      "frozenset({1, 2, 3, 4, 5})\n",
      "<class 'frozenset'>\n"
     ]
    }
   ],
   "source": [
    "ejemplo_tupla = (1,2,3,4,5)\n",
    "frozen_set2= frozenset(ejemplo_tupla)\n",
    "\n",
    "print(ejemplo_tupla)\n",
    "print(type(ejemplo_tupla))\n",
    "print()\n",
    "\n",
    "print(frozen_set2)\n",
    "print(type(frozen_set2))\n"
   ]
  },
  {
   "cell_type": "markdown",
   "metadata": {},
   "source": [
    "### Resumiendo hasta ahora\n",
    "\n",
    "\n",
    "| Tipo  | Mutabilidad | Elem. Repetidos | Elem. Numerados$^*$ | Símbolo para indentificarlos |\n",
    "| --------- | --------- |  ---------  |  ---------  | --------- |\n",
    "| Listas | Si  | Si | Si | [ ] |\n",
    "| Tuplas  | No | Si | Si | ( ) |\n",
    "| Set | Si | No | No | { } | \n",
    "| frozenset | No| No | No | frozenset({ }) |\n",
    "\n",
    "$^*$ Indica puedo acceder a un elemento en particular a través del número que señala su posición\n",
    "\n"
   ]
  },
  {
   "cell_type": "markdown",
   "metadata": {
    "colab_type": "text",
    "id": "Bc4Xj_GeRQ0w"
   },
   "source": [
    "# Diccionarios\n",
    "\n",
    "Permiten organizar los datos en estructuras donde una palabra llave dispara otro dato guardado en el diccionario. Es decir relaciona una llave determinada con un valor particular. Pero este valor puede ser de cualquier tipo de variable, incluso una lista o una tupla.\n",
    "\n",
    "Para distinguirlos de las listas y tuplas, los diccionaros utilizan \"**{ }**\" en su definición y uso.\n",
    "\n"
   ]
  },
  {
   "cell_type": "code",
   "execution_count": 61,
   "metadata": {
    "colab": {},
    "colab_type": "code",
    "id": "gUiPk3_d2g7K"
   },
   "outputs": [],
   "source": [
    "a_diccionario = {'uno' : 1.0,\n",
    "                'dos' : 2.0,\n",
    "                'una_lista' : ['esta', 'es', 'una', 'lista']\n",
    "                }"
   ]
  },
  {
   "cell_type": "markdown",
   "metadata": {},
   "source": [
    "Si pregunto con \"type( )\" que tipo de variable es a_diccionario:"
   ]
  },
  {
   "cell_type": "code",
   "execution_count": 62,
   "metadata": {},
   "outputs": [
    {
     "name": "stdout",
     "output_type": "stream",
     "text": [
      "<class 'dict'>\n"
     ]
    }
   ],
   "source": [
    "print(type(a_diccionario))"
   ]
  },
  {
   "cell_type": "markdown",
   "metadata": {
    "colab_type": "text",
    "id": "bcx95WWaR3uS"
   },
   "source": [
    "Me contesta que es de la clase 'dict', un diccionario.\n",
    "\n",
    "Para acceder a los datos:"
   ]
  },
  {
   "cell_type": "code",
   "execution_count": 63,
   "metadata": {
    "colab": {},
    "colab_type": "code",
    "id": "fyEyp-2gR6gb"
   },
   "outputs": [
    {
     "name": "stdout",
     "output_type": "stream",
     "text": [
      "1.0\n",
      "\n",
      "['esta', 'es', 'una', 'lista']\n"
     ]
    }
   ],
   "source": [
    "print(a_diccionario['uno'])\n",
    "print()\n",
    "print(a_diccionario['una_lista'])"
   ]
  },
  {
   "cell_type": "markdown",
   "metadata": {},
   "source": [
    "Y de la misma manera puedo modificarlos o agregar nuevos valores"
   ]
  },
  {
   "cell_type": "code",
   "execution_count": 64,
   "metadata": {},
   "outputs": [
    {
     "name": "stdout",
     "output_type": "stream",
     "text": [
      "['esta', 'es', 'otra', 'lista']\n",
      "two\n"
     ]
    }
   ],
   "source": [
    "a_diccionario['otra_lista']=['esta','es','otra','lista']\n",
    "a_diccionario['dos']= 'two'\n",
    "\n",
    "# Y si los imprimo:\n",
    "print(a_diccionario['otra_lista'])\n",
    "print(a_diccionario['dos'])"
   ]
  },
  {
   "cell_type": "markdown",
   "metadata": {},
   "source": [
    "Otra manera de crear un diccionario es con la orden **dict( )** y entre los paréntesis escribo las llaves valores de la siguiente forma:\n",
    "\n",
    "dicc2 = dict( llave1='valor1', llave2='valor2', llave2='valor2,...)\n",
    "                 \n",
    "Ejemplo:                 "
   ]
  },
  {
   "cell_type": "code",
   "execution_count": 65,
   "metadata": {},
   "outputs": [
    {
     "name": "stdout",
     "output_type": "stream",
     "text": [
      "{'galaxia1': 'NGC2366', 'galaxia2': 'NGC1672', 'galaxia3': 'NGC7949', 'galaxia4': 'NGC7552'}\n",
      "\n",
      "NGC7949\n"
     ]
    }
   ],
   "source": [
    "datos = dict(galaxia1='NGC2366', galaxia2='NGC1672', galaxia3='NGC7949', galaxia4='NGC7552')\n",
    "\n",
    "print(datos)\n",
    "print(\"\")\n",
    "print(datos['galaxia3'])"
   ]
  },
  {
   "cell_type": "markdown",
   "metadata": {},
   "source": [
    "Puedo listar todas las llaves de un diccionario en particular con la función keys(), veamos si la uso:"
   ]
  },
  {
   "cell_type": "code",
   "execution_count": 66,
   "metadata": {},
   "outputs": [
    {
     "name": "stdout",
     "output_type": "stream",
     "text": [
      "<class 'dict_keys'>\n"
     ]
    }
   ],
   "source": [
    "b = a_diccionario.keys()\n",
    "print(type(b))"
   ]
  },
  {
   "cell_type": "markdown",
   "metadata": {
    "tags": [
     "hide_code"
    ]
   },
   "source": [
    "[<< Variables](Clase_1_Variables.html) | [home](index.html) | [Estructuras de Control >>](Clase_Estructuras_de_control.html)"
   ]
  }
 ],
 "metadata": {
  "colab": {
   "name": "Clase_2_Variables.ipynb",
   "provenance": []
  },
  "kernelspec": {
   "display_name": "Python 3 (ipykernel)",
   "language": "python",
   "name": "python3"
  },
  "language_info": {
   "codemirror_mode": {
    "name": "ipython",
    "version": 3
   },
   "file_extension": ".py",
   "mimetype": "text/x-python",
   "name": "python",
   "nbconvert_exporter": "python",
   "pygments_lexer": "ipython3",
   "version": "3.9.13"
  }
 },
 "nbformat": 4,
 "nbformat_minor": 1
}
