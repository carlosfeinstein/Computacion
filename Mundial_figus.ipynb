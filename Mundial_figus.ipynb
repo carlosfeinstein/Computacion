{
 "cells": [
  {
   "cell_type": "markdown",
   "id": "c635454c",
   "metadata": {
    "id": "c635454c"
   },
   "source": [
    "# Figuritas del Mundial\n",
    "\n",
    "¿Cuantos paquetes necesito para sin intercambiar figuritas llenar el álbum en promedio?\n",
    "\n",
    "Sponiendo que:\n",
    ">* Todas las figuritas tienen la misma probabilidad de encontrarse en un sobre (es decir, no existe la difícil)\n",
    ">* En sobre puedo haber una misma figurita repetida  🤯 \n",
    ">* Soy una persona insociable, sin amigos por lo que NO intercambio figuritas con nadie.\n",
    "\n",
    "Varias etapas:\n",
    ">* Tengo un albúm vacío\n",
    ">* Compro la figuritas\n",
    ">* Las pego\n",
    ">* Me fijo si el albún está lleno -> Si está cuento la cantidad de paquetes y empiezo otro albúm.\n",
    ">* Empiezo el proceso de nuevo, salvo que haya llegado a la cantidad de álbumes llenos.\n"
   ]
  },
  {
   "cell_type": "code",
   "execution_count": 1,
   "id": "f5393f08",
   "metadata": {
    "id": "xNKHejGi4BmC"
   },
   "outputs": [],
   "source": [
    "# Cargo las librerías\n",
    "import numpy as np\n",
    "import matplotlib.pyplot as plt"
   ]
  },
  {
   "cell_type": "markdown",
   "id": "8ddbca0e",
   "metadata": {},
   "source": [
    "## Datos de  la realidad\n",
    "\n",
    "Proveídos por alumnos del semestre 2022B"
   ]
  },
  {
   "cell_type": "code",
   "execution_count": 2,
   "id": "beaee8c3",
   "metadata": {
    "id": "xNKHejGi4BmC"
   },
   "outputs": [],
   "source": [
    "Cantidad_de_figus = 638  # Cantidad de figuritas que existen diferentes\n",
    "Por_paquete = 5\n",
    "Valor_del_paquete = 150\n",
    "\n",
    "# De esta manera un álbun sería de la forma:\n",
    "album = np.zeros(Cantidad_de_figus)"
   ]
  },
  {
   "cell_type": "markdown",
   "id": "57d2f98d",
   "metadata": {
    "id": "xNKHejGi4BmC"
   },
   "source": [
    "Variables:\n",
    "\n",
    ">* Paquete <- Figuritas en el paquete que compro \n",
    ">* Album <- El album que estoy llenando\n",
    ">* Album_paquete <- Es un vector donde cada componente tiene la cantidad de figus que necesité para llenarlo \n",
    "\n",
    "\n",
    "\n",
    "Funciones que voy a usar, definidas por su actividad. Cada una realiza una tarea muy sencilla:"
   ]
  },
  {
   "cell_type": "code",
   "execution_count": 3,
   "id": "8c7d5fdc",
   "metadata": {
    "id": "xNKHejGi4BmC"
   },
   "outputs": [],
   "source": [
    "# genero 5 números al azar, simulo la compra \n",
    "# de un paquete de figuritas\n",
    "\n",
    "def Compro():\n",
    "  return np.random.randint(1,Cantidad_de_figus+1, size=5)    "
   ]
  },
  {
   "cell_type": "code",
   "execution_count": 4,
   "id": "f45fd876",
   "metadata": {
    "executionInfo": {
     "elapsed": 5,
     "status": "ok",
     "timestamp": 1662161198049,
     "user": {
      "displayName": "Carlos Feinstein",
      "userId": "16547277113945702839"
     },
     "user_tz": 180
    },
    "id": "f45fd876"
   },
   "outputs": [],
   "source": [
    "# Pego las figuritas en el albún. Un 0 en la posición\n",
    "# significa que no poseo dicha figu, pero un 1 que si \n",
    "# la tengo.\n",
    "\n",
    "def Pego(paquete,album,Por_paquete):\n",
    "    for i in range(Por_paquete):\n",
    "        album[paquete[i]]=1\n",
    "    return album\n",
    "              \n",
    "             "
   ]
  },
  {
   "cell_type": "code",
   "execution_count": 5,
   "id": "e658583f",
   "metadata": {
    "executionInfo": {
     "elapsed": 5,
     "status": "ok",
     "timestamp": 1662161198050,
     "user": {
      "displayName": "Carlos Feinstein",
      "userId": "16547277113945702839"
     },
     "user_tz": 180
    },
    "id": "e658583f"
   },
   "outputs": [],
   "source": [
    "# Me fijo si se llenó el albún, retorno un True o False\n",
    "\n",
    "def Me_fijo(album):\n",
    "     return album.sum()<Cantidad_de_figus"
   ]
  },
  {
   "cell_type": "markdown",
   "id": "de218a15",
   "metadata": {
    "colab": {
     "base_uri": "https://localhost:8080/"
    },
    "executionInfo": {
     "elapsed": 5,
     "status": "ok",
     "timestamp": 1662161198050,
     "user": {
      "displayName": "Carlos Feinstein",
      "userId": "16547277113945702839"
     },
     "user_tz": 180
    },
    "id": "E1EBTKsqFRpg",
    "outputId": "81ae9a2a-2ccd-437f-d849-b0f52038df9b"
   },
   "source": [
    "### Probemos si funciona"
   ]
  },
  {
   "cell_type": "code",
   "execution_count": 8,
   "id": "e3100564",
   "metadata": {
    "colab": {
     "base_uri": "https://localhost:8080/"
    },
    "executionInfo": {
     "elapsed": 5,
     "status": "ok",
     "timestamp": 1662161198050,
     "user": {
      "displayName": "Carlos Feinstein",
      "userId": "16547277113945702839"
     },
     "user_tz": 180
    },
    "id": "E1EBTKsqFRpg",
    "outputId": "81ae9a2a-2ccd-437f-d849-b0f52038df9b"
   },
   "outputs": [
    {
     "name": "stdout",
     "output_type": "stream",
     "text": [
      "Figuritas en el paquete: [ 28 562 506 561  38]\n",
      "5.0\n"
     ]
    }
   ],
   "source": [
    "paquete=Compro()\n",
    "print(\"Figuritas en el paquete:\",paquete)\n",
    "\n",
    "album = np.zeros(Cantidad_de_figus)\n",
    "\n",
    "album=Pego(paquete,album,Por_paquete)\n",
    "\n",
    "print(album.sum())"
   ]
  },
  {
   "cell_type": "code",
   "execution_count": 9,
   "id": "6840be5d",
   "metadata": {
    "executionInfo": {
     "elapsed": 7808899,
     "status": "ok",
     "timestamp": 1662169006945,
     "user": {
      "displayName": "Carlos Feinstein",
      "userId": "16547277113945702839"
     },
     "user_tz": 180
    },
    "id": "6840be5d",
    "scrolled": false
   },
   "outputs": [],
   "source": [
    "personas=10000   #Cantidad de personas llenando el albún y \n",
    "                 # por lo tanto es la cantidad de simulaciones\n",
    "\n",
    "album_cant_paquetes=np.zeros([personas],dtype=np.int64)\n",
    "\n",
    "for i in range(personas):\n",
    "  album = np.zeros(Cantidad_de_figus+1)\n",
    "  contador=0  \n",
    "  while (Me_fijo(album)):\n",
    "      paquete = Compro()\n",
    "      Pego(paquete,album,Por_paquete)\n",
    "      contador+=1\n",
    "\n",
    "  album_cant_paquetes[i]=contador\n",
    " \n"
   ]
  },
  {
   "cell_type": "code",
   "execution_count": 10,
   "id": "15e8a803",
   "metadata": {
    "colab": {
     "base_uri": "https://localhost:8080/",
     "height": 279
    },
    "executionInfo": {
     "elapsed": 593,
     "status": "ok",
     "timestamp": 1662169017865,
     "user": {
      "displayName": "Carlos Feinstein",
      "userId": "16547277113945702839"
     },
     "user_tz": 180
    },
    "id": "15e8a803",
    "outputId": "52fdbc85-1c73-4d5f-fbcd-80e9fd3e5009"
   },
   "outputs": [
    {
     "data": {
      "image/png": "[encoded data removed]",
      "text/plain": [
       "<Figure size 640x480 with 1 Axes>"
      ]
     },
     "metadata": {},
     "output_type": "display_data"
    }
   ],
   "source": [
    "from scipy import stats\n",
    "\n",
    "result = plt.hist(album_cant_paquetes, bins=100, color='c', edgecolor='k', alpha=0.65)\n",
    "\n",
    "plt.axvline(album_cant_paquetes.mean(), color='k', linestyle='dashed', linewidth=1)\n",
    "min_ylim, max_ylim = plt.ylim()\n",
    "plt.text(album_cant_paquetes.mean()*1.1, max_ylim*0.9, 'promedio: {:.2f}'.format(album_cant_paquetes.mean()))\n",
    "plt.axvline(np.median(album_cant_paquetes), color='k', linestyle='dashed', linewidth=1)\n",
    "plt.text(album_cant_paquetes.mean()*1.1, max_ylim*0.8, 'mediana: {:.2f}'.format(np.median(album_cant_paquetes)))\n",
    "\n",
    "m,a=stats.mode(album_cant_paquetes, keepdims=True)\n",
    "\n",
    "plt.axvline(m[0], color='k', linestyle='dashed', linewidth=1)\n",
    "plt.text(album_cant_paquetes.mean()*1.2, max_ylim*0.7, 'moda: {:.2f}'.format(m[0]))\n",
    "plt.xlabel(\"Cantidad de paquetes\")\n",
    "plt.ylabel(\"Álbumes Llenos\")\n",
    "plt.show();"
   ]
  },
  {
   "cell_type": "markdown",
   "id": "5bca80a9",
   "metadata": {},
   "source": [
    "### Y en el caso más probable terminaré pagando"
   ]
  },
  {
   "cell_type": "code",
   "execution_count": 11,
   "id": "8e5db82d",
   "metadata": {},
   "outputs": [
    {
     "name": "stdout",
     "output_type": "stream",
     "text": [
      "Pagando 130350.0 pesos en el caso más probable\n"
     ]
    }
   ],
   "source": [
    "print(\"Pagando\",np.median(album_cant_paquetes)*Valor_del_paquete, \"pesos en el caso más probable\")"
   ]
  },
  {
   "cell_type": "markdown",
   "id": "fac4795b",
   "metadata": {},
   "source": [
    "## Resultados:\n",
    "* Es muy caro\n",
    "* Podría bajar el costo si intercambio figuritas\n",
    "\n",
    "## Mejoras ?"
   ]
  },
  {
   "cell_type": "code",
   "execution_count": null,
   "id": "b9a0a8ab",
   "metadata": {},
   "outputs": [],
   "source": []
  },
  {
   "cell_type": "code",
   "execution_count": null,
   "id": "3540b1bd",
   "metadata": {},
   "outputs": [],
   "source": []
  }
 ],
 "metadata": {
  "colab": {
   "provenance": []
  },
  "kernelspec": {
   "display_name": "Python 3 (ipykernel)",
   "language": "python",
   "name": "python3"
  },
  "language_info": {
   "codemirror_mode": {
    "name": "ipython",
    "version": 3
   },
   "file_extension": ".py",
   "mimetype": "text/x-python",
   "name": "python",
   "nbconvert_exporter": "python",
   "pygments_lexer": "ipython3",
   "version": "3.10.9"
  }
 },
 "nbformat": 4,
 "nbformat_minor": 5
}
